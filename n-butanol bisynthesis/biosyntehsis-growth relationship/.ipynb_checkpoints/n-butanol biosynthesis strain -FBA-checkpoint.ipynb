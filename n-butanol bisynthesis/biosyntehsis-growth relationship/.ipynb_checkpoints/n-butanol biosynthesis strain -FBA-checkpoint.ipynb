{
 "cells": [
  {
   "cell_type": "markdown",
   "metadata": {},
   "source": [
    "### Module import"
   ]
  },
  {
   "cell_type": "code",
   "execution_count": 1,
   "metadata": {},
   "outputs": [],
   "source": [
    "from ETGEMs_function_ETG import *"
   ]
  },
  {
   "cell_type": "code",
   "execution_count": 2,
   "metadata": {},
   "outputs": [],
   "source": [
    "import pandas as pd\n",
    "import cobra"
   ]
  },
  {
   "cell_type": "markdown",
   "metadata": {},
   "source": [
    "### Data initialization"
   ]
  },
  {
   "cell_type": "code",
   "execution_count": 3,
   "metadata": {},
   "outputs": [],
   "source": [
    "#Get Reaction G0 from local file_original\n",
    "reaction_g0_file_original = './reaction_g0_ETC_butanol.txt'\n",
    "#Get Metabolite concentration from local file\n",
    "metabolites_lnC_file_original = './metabolites_lnC_ETC_butanol.txt'\n",
    "#Get Model from local file\n",
    "model_file_original = './iML1515_butanol.xml'\n",
    "#Get reaction kcat data from ECMpy\n",
    "reaction_kcat_MW_file_original = './ID_kcat_MW_file_ETC_butanol.csv'"
   ]
  },
  {
   "cell_type": "code",
   "execution_count": 4,
   "metadata": {},
   "outputs": [],
   "source": [
    "Concretemodel_Need_Data_original=Get_Concretemodel_Need_Data(reaction_g0_file_original,metabolites_lnC_file_original,model_file_original,reaction_kcat_MW_file_original)"
   ]
  },
  {
   "cell_type": "markdown",
   "metadata": {},
   "source": [
    "### Strain reconstruction"
   ]
  },
  {
   "cell_type": "code",
   "execution_count": 5,
   "metadata": {},
   "outputs": [],
   "source": [
    "Concretemodel_Need_Data_original['ub_list']['EX_but_e'] = 0\n",
    "Concretemodel_Need_Data_original['lb_list']['PPC'] = 0\n",
    "Concretemodel_Need_Data_original['lb_list']['LDH_D'] = 0\n",
    "Concretemodel_Need_Data_original['lb_list']['ACALD'] = 0\n",
    "Concretemodel_Need_Data_original['lb_list']['PTAr'] = 0\n",
    "Concretemodel_Need_Data_original['ub_list']['PPC'] = 0\n",
    "Concretemodel_Need_Data_original['ub_list']['LDH_D'] = 0\n",
    "Concretemodel_Need_Data_original['ub_list']['ACALD'] = 0\n",
    "Concretemodel_Need_Data_original['ub_list']['PTAr'] = 0\n",
    "Concretemodel_Need_Data_original['lb_list']['ACACT1r'] = 0\n",
    "Concretemodel_Need_Data_original['lb_list']['HACD1'] = 0\n",
    "Concretemodel_Need_Data_original['lb_list']['ECOAH1'] = 0\n",
    "Concretemodel_Need_Data_original['ub_list']['ACACT1r'] = 0\n",
    "Concretemodel_Need_Data_original['ub_list']['HACD1'] = 0\n",
    "Concretemodel_Need_Data_original['ub_list']['ECOAH1'] = 0"
   ]
  },
  {
   "cell_type": "markdown",
   "metadata": {},
   "source": [
    "### Set the maximum of the intake rate for butyrate"
   ]
  },
  {
   "cell_type": "code",
   "execution_count": 6,
   "metadata": {},
   "outputs": [],
   "source": [
    "Concretemodel_Need_Data_original['ub_list']['EX_but_e_reverse'] = 5/87 * 180 # butyrate concentration (g/L) divided by butyrate molarculer weight multiplied by glucose molarculer weight"
   ]
  },
  {
   "cell_type": "markdown",
   "metadata": {},
   "source": [
    "### Output the mean growth rate without product biosynthesis"
   ]
  },
  {
   "cell_type": "code",
   "execution_count": 7,
   "metadata": {},
   "outputs": [
    {
     "name": "stdout",
     "output_type": "stream",
     "text": [
      "Max biomass : 1.2961164953845765\n"
     ]
    }
   ],
   "source": [
    "obj_name='BIOMASS_Ec_iML1515_core_75p37M'\n",
    "obj_target='maximize'\n",
    "E_total=0.19\n",
    "substrate_name='EX_glc__D_e_reverse'\n",
    "substrate_value=8\n",
    "K_value=1249\n",
    "\n",
    "# Calculate the mean growth rate without product biosynthesis\n",
    "max_biomass_under_mdf_original=Max_Growth_Rate_Calculation_FBA(Concretemodel_Need_Data_original,obj_name,obj_target,substrate_name,substrate_value,K_value,'gurobi')\n",
    "print(\"Max biomass : \" +str(max_biomass_under_mdf_original))"
   ]
  },
  {
   "cell_type": "markdown",
   "metadata": {},
   "source": [
    "### Set the biosynthesis pathway expression degree"
   ]
  },
  {
   "cell_type": "code",
   "execution_count": 8,
   "metadata": {},
   "outputs": [],
   "source": [
    "# The lower bound of growth rate is set by multiplication of max_biomass_under_mdf_origina and 1-biosynthesis pathway expression degree\n",
    "Concretemodel_Need_Data_original['lb_list']['BIOMASS_Ec_iML1515_core_75p37M'] =max_biomass_under_mdf_original*0.5 #0.19"
   ]
  },
  {
   "cell_type": "markdown",
   "metadata": {},
   "source": [
    "### Output the mean synthesis rate of target metabolite"
   ]
  },
  {
   "cell_type": "code",
   "execution_count": 9,
   "metadata": {},
   "outputs": [
    {
     "name": "stdout",
     "output_type": "stream",
     "text": [
      "Max synthesis rate of target metabolite : 3.560076906818774\n"
     ]
    }
   ],
   "source": [
    "obj_name='EX_btoh_e'\n",
    "obj_target='maximize'\n",
    "E_total=0.19\n",
    "substrate_name='EX_glc__D_e_reverse'\n",
    "substrate_value=8\n",
    "K_value=1249\n",
    "\n",
    "# Calculate the mean flux of the target metabolite biosynthesis reaction\n",
    "max_biomass_under_mdf_original=Max_Growth_Rate_Calculation_FBA(Concretemodel_Need_Data_original,obj_name,obj_target,substrate_name,substrate_value,K_value,'gurobi')\n",
    "\n",
    "# Calculate the mean concentration of the target metabolite\n",
    "# If the unit of concentration is g/L, we should divide max_biomass_under_mdf_original by the molar mass of the carbon source, and then multiply by the molar mass of the target metabolite\n",
    "# If the unit of concentration is g/L, we should output max_biomass_under_mdf_original\n",
    "mass = max_biomass_under_mdf_original/180*74\n",
    "print(\"Max synthesis rate of target metabolite : \" +str(mass))"
   ]
  }
 ],
 "metadata": {
  "kernelspec": {
   "display_name": "enzyme",
   "language": "python",
   "name": "enzyme"
  },
  "language_info": {
   "codemirror_mode": {
    "name": "ipython",
    "version": 3
   },
   "file_extension": ".py",
   "mimetype": "text/x-python",
   "name": "python",
   "nbconvert_exporter": "python",
   "pygments_lexer": "ipython3",
   "version": "3.6.5"
  }
 },
 "nbformat": 4,
 "nbformat_minor": 4
}
