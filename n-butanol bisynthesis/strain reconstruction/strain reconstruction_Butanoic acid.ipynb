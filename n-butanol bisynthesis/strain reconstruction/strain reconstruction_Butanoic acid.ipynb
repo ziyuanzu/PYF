{
 "cells": [
  {
   "cell_type": "markdown",
   "id": "01b4334d",
   "metadata": {},
   "source": [
    "## import modules"
   ]
  },
  {
   "cell_type": "code",
   "execution_count": 1,
   "id": "60392261",
   "metadata": {},
   "outputs": [],
   "source": [
    "import cobra\n",
    "import tempfile\n",
    "from pprint import pprint\n",
    "from cobra.io import write_sbml_model\n",
    "from cobra import Model, Reaction, Metabolite\n",
    "from metnet import pathway\n",
    "from cobra.flux_analysis import pfba\n",
    "from cobra.flux_analysis.loopless import add_loopless, loopless_solution"
   ]
  },
  {
   "cell_type": "markdown",
   "id": "72027ffb",
   "metadata": {},
   "source": [
    "## modify the strain"
   ]
  },
  {
   "cell_type": "code",
   "execution_count": 2,
   "id": "873d081d",
   "metadata": {},
   "outputs": [],
   "source": [
    "with tempfile.NamedTemporaryFile(suffix='.xml') as f_sbml:\n",
    "    model_btcoa = cobra.io.read_sbml_model('./iML1515.xml')  \n",
    "    \n",
    "    ## get the ids of relative metabolites in the metabolic network\n",
    "    nadh_c = model_btcoa.metabolites.get_by_id('nadh_c')\n",
    "    h_c = model_btcoa.metabolites.get_by_id('h_c')\n",
    "    nad_c = model_btcoa.metabolites.get_by_id('nad_c')\n",
    "    btcoa_c = model_btcoa.metabolites.get_by_id('btcoa_c')\n",
    "    b2coa_c = model_btcoa.metabolites.get_by_id('b2coa_c')\n",
    "    ac_c = model_btcoa.metabolites.get_by_id('ac_c')\n",
    "    but_c = model_btcoa.metabolites.get_by_id('but_c')\n",
    "    accoa_c = model_btcoa.metabolites.get_by_id('accoa_c')\n",
    "    ac_e = model_btcoa.metabolites.get_by_id('ac_e')\n",
    "    but_e = model_btcoa.metabolites.get_by_id('but_e')\n",
    "    \n",
    "    ## add new reactions\n",
    "    model_btcoa.add_reactions([Reaction('ter')])\n",
    "    model_btcoa.reactions.ter.add_metabolites({\n",
    "        b2coa_c: -1.0,\n",
    "        nadh_c: -1.0,\n",
    "        h_c: -1.0,\n",
    "        btcoa_c: 1.0,\n",
    "        nad_c: 1.0,\n",
    "    })\n",
    "    \n",
    "    model_btcoa.add_reactions([Reaction('BUTCT_reverse')])\n",
    "    model_btcoa.reactions.BUTCT_reverse.add_metabolites({\n",
    "        btcoa_c: -1.0,\n",
    "        ac_c: -1.0,\n",
    "        but_c: 1.0,\n",
    "        accoa_c: 1.0,\n",
    "    })\n",
    "    \n",
    "    model_btcoa.add_reactions([Reaction('EX_ac_e_reverse')])\n",
    "    model_btcoa.reactions.EX_ac_e_reverse.add_metabolites({\n",
    "        ac_e: 1.0,\n",
    "    })\n",
    "    '''    \n",
    "    model_btcoa.add_reactions([Reaction('BUTex')])\n",
    "    model_btcoa.reactions.BUTex.add_metabolites({\n",
    "        but_c: -1.0,\n",
    "        but_e: 1.0,\n",
    "    })\n",
    "    \n",
    "    model_btcoa.add_reactions([Reaction('EX_but_e')])\n",
    "    model_btcoa.reactions.EX_but_e.add_metabolites({\n",
    "        but_e: -1.0,\n",
    "    })\n",
    "    '''    \n",
    "    #model_btcoa.reactions.get_by_id('BUTCT').reversibility = 'True'\n",
    "    #model_btcoa.reactions.get_by_id('EX_ac_e').reversibility = 'True'\n",
    "    \n",
    "    model_btcoa.reactions.get_by_id('ter').lb = 0  \n",
    "    model_btcoa.reactions.get_by_id('ter').ub = 1000\n",
    "    model_btcoa.reactions.get_by_id('BUTCT').lb = -1000\n",
    "    model_btcoa.reactions.get_by_id('BUTCT').ub = 0\n",
    "    model_btcoa.reactions.get_by_id('EX_ac_e').lb = -1000\n",
    "    model_btcoa.reactions.get_by_id('EX_ac_e').ub = 0\n",
    "\n",
    "    model_btcoa.reactions.get_by_id('BUTCT_reverse').lb = 0\n",
    "    model_btcoa.reactions.get_by_id('BUTCT_reverse').ub = 1000\n",
    "    model_btcoa.reactions.get_by_id('EX_ac_e_reverse').lb = 0\n",
    "    model_btcoa.reactions.get_by_id('EX_ac_e_reverse').ub = 1000\n",
    "    '''    \n",
    "    model_btcoa.reactions.get_by_id('BUTex').lb = 0\n",
    "    model_btcoa.reactions.get_by_id('BUTex').ub = 1000\n",
    "    model_btcoa.reactions.get_by_id('EX_but_e').lb = 0\n",
    "    model_btcoa.reactions.get_by_id('EX_but_e').ub = 1000\n",
    "    '''    \n",
    "    model_btcoa.reactions.get_by_id('PPC').lb = 0\n",
    "    model_btcoa.reactions.get_by_id('PPC').ub = 0\n",
    "    model_btcoa.reactions.get_by_id('LDH_D').lb = 0\n",
    "    model_btcoa.reactions.get_by_id('LDH_D').ub = 0\n",
    "    model_btcoa.reactions.get_by_id('ACALD').lb = 0\n",
    "    model_btcoa.reactions.get_by_id('ACALD').ub = 0\n",
    "    model_btcoa.reactions.get_by_id('PTAr').lb = 0\n",
    "    model_btcoa.reactions.get_by_id('PTAr').ub = 0\n",
    "    \n",
    "    ## generate the metabolic network of the recombinant strain\n",
    "    write_sbml_model(model_btcoa,'../biosyntehsis-growth relationship/iML1515_butanoic_acid.xml')\n",
    "    write_sbml_model(model_btcoa,'../production prediction/iML1515_butanoic_acid.xml')\n",
    "    write_sbml_model(model_btcoa,'../metabolic engineering strategy optimization/iML1515_butanoic_acid.xml')"
   ]
  },
  {
   "cell_type": "code",
   "execution_count": null,
   "id": "0b44a1a2",
   "metadata": {},
   "outputs": [],
   "source": []
  }
 ],
 "metadata": {
  "kernelspec": {
   "display_name": "enzyme",
   "language": "python",
   "name": "enzyme"
  },
  "language_info": {
   "codemirror_mode": {
    "name": "ipython",
    "version": 3
   },
   "file_extension": ".py",
   "mimetype": "text/x-python",
   "name": "python",
   "nbconvert_exporter": "python",
   "pygments_lexer": "ipython3",
   "version": "3.6.5"
  }
 },
 "nbformat": 4,
 "nbformat_minor": 5
}
