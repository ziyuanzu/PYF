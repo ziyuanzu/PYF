{
 "cells": [
  {
   "cell_type": "markdown",
   "id": "505b5e4b",
   "metadata": {},
   "source": [
    "### Import modules"
   ]
  },
  {
   "cell_type": "code",
   "execution_count": 1,
   "id": "1758cf14",
   "metadata": {},
   "outputs": [],
   "source": [
    "import warnings\n",
    "warnings.filterwarnings('ignore')\n",
    "warnings.simplefilter('ignore')\n",
    "from ETGEMs_function_ETG import *\n",
    "import pandas as pd\n",
    "from ppmcot import *"
   ]
  },
  {
   "cell_type": "code",
   "execution_count": 2,
   "id": "4c1cc8ed",
   "metadata": {},
   "outputs": [],
   "source": [
    "import pandas as pd\n",
    "import cobra\n",
    "import ast\n",
    "from cobra.io import write_sbml_model\n",
    "from numpy import *\n",
    "import copy\n",
    "import math"
   ]
  },
  {
   "cell_type": "markdown",
   "id": "c856c16c",
   "metadata": {},
   "source": [
    "### Data initialization"
   ]
  },
  {
   "cell_type": "code",
   "execution_count": 3,
   "id": "61c7fd26",
   "metadata": {},
   "outputs": [],
   "source": [
    "#Get Reaction G0 from local file_original\n",
    "reaction_g0_file_original1 = './reaction_g0_ETC_butanoic_acid.txt'\n",
    "reaction_g0_file_original0 = './reaction_g0_ETC_butanol.txt'\n",
    "#Get Metabolite concentration from local file\n",
    "metabolites_lnC_file_original1 = './metabolites_lnC_ETC_butanoic_acid.txt'\n",
    "metabolites_lnC_file_original0 = './metabolites_lnC_ETC_butanol.txt'\n",
    "#Get Model from local file\n",
    "model_file_original1 = './iML1515_butanoic_acid.xml'\n",
    "model_file_original0 = './iML1515_butanol.xml'\n",
    "#Get reaction kcat data from ECMpy\n",
    "reaction_kcat_MW_file_original1 = './ID_kcat_MW_file_ETC_butanoic_acid.csv'\n",
    "reaction_kcat_MW_file_original0 = './ID_kcat_MW_file_ETC_butanol.csv'"
   ]
  },
  {
   "cell_type": "code",
   "execution_count": 4,
   "id": "503604e7",
   "metadata": {},
   "outputs": [],
   "source": [
    "## Convert to usable model formats\n",
    "model0=Get_Concretemodel_Need_Data(reaction_g0_file_original0,metabolites_lnC_file_original0,model_file_original0,reaction_kcat_MW_file_original0)\n",
    "model1=Get_Concretemodel_Need_Data(reaction_g0_file_original1,metabolites_lnC_file_original1,model_file_original1,reaction_kcat_MW_file_original1)"
   ]
  },
  {
   "cell_type": "markdown",
   "id": "15d8ed02",
   "metadata": {},
   "source": [
    "### Strain reconstruction"
   ]
  },
  {
   "cell_type": "code",
   "execution_count": 5,
   "id": "b00e7707",
   "metadata": {},
   "outputs": [],
   "source": [
    "#gene deletion\n",
    "model0['ub_list']['EX_but_e'] = 0\n",
    "model0['lb_list']['PPC'] = 0\n",
    "model0['lb_list']['LDH_D'] = 0\n",
    "model0['lb_list']['ACALD'] = 0\n",
    "model0['lb_list']['PTAr'] = 0\n",
    "model0['ub_list']['PPC'] = 0\n",
    "model0['ub_list']['LDH_D'] = 0\n",
    "model0['ub_list']['ACALD'] = 0\n",
    "model0['ub_list']['PTAr'] = 0\n",
    "model0['lb_list']['ACACT1r'] = 0\n",
    "model0['lb_list']['HACD1'] = 0\n",
    "model0['lb_list']['ECOAH1'] = 0\n",
    "model0['ub_list']['ACACT1r'] = 0\n",
    "model0['ub_list']['HACD1'] = 0\n",
    "model0['ub_list']['ECOAH1'] = 0"
   ]
  },
  {
   "cell_type": "code",
   "execution_count": 6,
   "id": "b0c4ee58",
   "metadata": {},
   "outputs": [],
   "source": [
    "model1['ub_list']['BUTCT'] = 0\n",
    "model1['ub_list']['EX_ac_e'] = 0\n",
    "model1['lb_list']['PPC'] = 0\n",
    "model1['lb_list']['LDH_D'] = 0\n",
    "model1['lb_list']['ACALD'] = 0\n",
    "model1['ub_list']['PPC'] = 0\n",
    "model1['ub_list']['LDH_D'] = 0\n",
    "model1['ub_list']['ACALD'] = 0\n",
    "model1['ub_list']['PTAr'] = 0"
   ]
  },
  {
   "cell_type": "markdown",
   "id": "5fea7dbc",
   "metadata": {},
   "source": [
    "### Predict the productions (g/L) under different inoculum ratios"
   ]
  },
  {
   "cell_type": "code",
   "execution_count": 7,
   "id": "efa91e39",
   "metadata": {},
   "outputs": [
    {
     "name": "stdout",
     "output_type": "stream",
     "text": [
      "After 1 time point, the concentration of ac_e is 0.0018070523446051233 g/L or mM\n",
      "After 1 time point, the concentration of but_e is 0.18320396843093245 g/L or mM\n",
      "After 1 time point, the concentration of btoh_e is 0 g/L or mM\n",
      "After 2 time point, the concentration of ac_e is 0.006493147175929717 g/L or mM\n",
      "After 2 time point, the concentration of but_e is 0.3608585325563838 g/L or mM\n",
      "After 2 time point, the concentration of btoh_e is 0.004697941514481741 g/L or mM\n",
      "After 3 time point, the concentration of ac_e is 0.014812037680293521 g/L or mM\n",
      "After 3 time point, the concentration of but_e is 0.5331799123866762 g/L or mM\n",
      "After 3 time point, the concentration of btoh_e is 0.01395151989201842 g/L or mM\n",
      "After 4 time point, the concentration of ac_e is 0.02653901620352062 g/L or mM\n",
      "After 4 time point, the concentration of but_e is 0.700390107540434 g/L or mM\n",
      "After 4 time point, the concentration of btoh_e is 0.027623975060657092 g/L or mM\n",
      "After 5 time point, the concentration of ac_e is 0.041456225307078674 g/L or mM\n",
      "After 5 time point, the concentration of but_e is 0.8627006712007934 g/L or mM\n",
      "After 5 time point, the concentration of btoh_e is 0.04558423973574477 g/L or mM\n",
      "After 6 time point, the concentration of ac_e is 0.059362568812292384 g/L or mM\n",
      "After 6 time point, the concentration of but_e is 1.020313140603508 g/L or mM\n",
      "After 6 time point, the concentration of btoh_e is 0.06770667153957732 g/L or mM\n",
      "After 7 time point, the concentration of ac_e is 0.08006735004467652 g/L or mM\n",
      "After 7 time point, the concentration of but_e is 1.173419616990204 g/L or mM\n",
      "After 7 time point, the concentration of btoh_e is 0.09387079616015735 g/L or mM\n",
      "After 8 time point, the concentration of ac_e is 0.10338975495779637 g/L or mM\n",
      "After 8 time point, the concentration of but_e is 1.3222032235457168 g/L or mM\n",
      "After 8 time point, the concentration of btoh_e is 0.1239610653818258 g/L or mM\n",
      "After 9 time point, the concentration of ac_e is 0.12915836071246137 g/L or mM\n",
      "After 9 time point, the concentration of but_e is 1.4668385409123121 g/L or mM\n",
      "After 9 time point, the concentration of btoh_e is 0.1578666268588843 g/L or mM\n",
      "After 10 time point, the concentration of ac_e is 0.15721066846036 g/L or mM\n",
      "After 10 time point, the concentration of but_e is 1.6074920213797532 g/L or mM\n",
      "After 10 time point, the concentration of btoh_e is 0.19548110505721458 g/L or mM\n",
      "After 11 time point, the concentration of ac_e is 0.18739265914272155 g/L or mM\n",
      "After 11 time point, the concentration of but_e is 1.7443223834050117 g/L or mM\n",
      "After 11 time point, the concentration of btoh_e is 0.23670239281706018 g/L or mM\n",
      "After 12 time point, the concentration of ac_e is 0.21955836807906162 g/L or mM\n",
      "After 12 time point, the concentration of but_e is 1.8774809837996418 g/L or mM\n",
      "After 12 time point, the concentration of btoh_e is 0.28143245303257586 g/L or mM\n",
      "After 13 time point, the concentration of ac_e is 0.2535694959401367 g/L or mM\n",
      "After 13 time point, the concentration of but_e is 2.0071121780057934 g/L or mM\n",
      "After 13 time point, the concentration of btoh_e is 0.32957712987546006 g/L or mM\n",
      "After 14 time point, the concentration of ac_e is 0.2892950048971192 g/L or mM\n",
      "After 14 time point, the concentration of but_e is 2.133353655267772 g/L or mM\n",
      "After 14 time point, the concentration of btoh_e is 0.3810459692572283 g/L or mM\n",
      "After 15 time point, the concentration of ac_e is 0.3266107814822477 g/L or mM\n",
      "After 15 time point, the concentration of but_e is 2.2563367633810043 g/L or mM\n",
      "After 15 time point, the concentration of btoh_e is 0.4357520478863655 g/L or mM\n",
      "After 16 time point, the concentration of ac_e is 0.36497910009621487 g/L or mM\n",
      "After 16 time point, the concentration of but_e is 2.3761868140379563 g/L or mM\n",
      "After 16 time point, the concentration of btoh_e is 0.4936118106530986 g/L or mM\n",
      "After 17 time point, the concentration of ac_e is 0.3977979825692731 g/L or mM\n",
      "After 17 time point, the concentration of but_e is 2.493740094169261 g/L or mM\n",
      "After 17 time point, the concentration of btoh_e is 0.5545449158442133 g/L or mM\n",
      "After 18 time point, the concentration of ac_e is 0.42657509299925583 g/L or mM\n",
      "After 18 time point, the concentration of but_e is 2.6082848975632156 g/L or mM\n",
      "After 18 time point, the concentration of btoh_e is 0.6184924668446748 g/L or mM\n",
      "After 19 time point, the concentration of ac_e is 0.4509560885820413 g/L or mM\n",
      "After 19 time point, the concentration of but_e is 2.7198483823967385 g/L or mM\n",
      "After 19 time point, the concentration of btoh_e is 0.6853773165933096 g/L or mM\n",
      "After 20 time point, the concentration of ac_e is 0.471160805984017 g/L or mM\n",
      "After 20 time point, the concentration of but_e is 2.8284512229929755 g/L or mM\n",
      "After 20 time point, the concentration of btoh_e is 0.7551230144523239 g/L or mM\n",
      "After 21 time point, the concentration of ac_e is 0.48741642140162234 g/L or mM\n",
      "After 21 time point, the concentration of but_e is 2.9341083676727546 g/L or mM\n",
      "After 21 time point, the concentration of btoh_e is 0.8276536399403485 g/L or mM\n",
      "After 22 time point, the concentration of ac_e is 0.4999303031236977 g/L or mM\n",
      "After 22 time point, the concentration of but_e is 3.036846749024444 g/L or mM\n",
      "After 22 time point, the concentration of btoh_e is 0.9028936558992452 g/L or mM\n",
      "After 23 time point, the concentration of ac_e is 0.5089060866658384 g/L or mM\n",
      "After 23 time point, the concentration of but_e is 3.1366929864785815 g/L or mM\n",
      "After 23 time point, the concentration of btoh_e is 0.9807682158094353 g/L or mM\n",
      "After 24 time point, the concentration of ac_e is 0.5145403883223406 g/L or mM\n",
      "After 24 time point, the concentration of but_e is 3.2336762382609203 g/L or mM\n",
      "After 24 time point, the concentration of btoh_e is 1.0612031557595234 g/L or mM\n",
      "After 25 time point, the concentration of ac_e is 0.517022940906101 g/L or mM\n",
      "After 25 time point, the concentration of but_e is 3.3278280070596478 g/L or mM\n",
      "After 25 time point, the concentration of btoh_e is 1.144125059549204 g/L or mM\n",
      "After 26 time point, the concentration of ac_e is 0.5165297514507967 g/L or mM\n",
      "After 26 time point, the concentration of but_e is 3.419185122076658 g/L or mM\n",
      "After 26 time point, the concentration of btoh_e is 1.2294613188088543 g/L or mM\n",
      "After 27 time point, the concentration of ac_e is 0.513251275023498 g/L or mM\n",
      "After 27 time point, the concentration of but_e is 3.5077766987541814 g/L or mM\n",
      "After 27 time point, the concentration of btoh_e is 1.3171402695885492 g/L or mM\n",
      "After 28 time point, the concentration of ac_e is 0.5073503325229858 g/L or mM\n",
      "After 28 time point, the concentration of but_e is 3.593643589880199 g/L or mM\n",
      "After 28 time point, the concentration of btoh_e is 1.4070909945523473 g/L or mM\n",
      "After 29 time point, the concentration of ac_e is 0.49899051104293835 g/L or mM\n",
      "After 29 time point, the concentration of but_e is 3.6768249241493165 g/L or mM\n",
      "After 29 time point, the concentration of btoh_e is 1.4992436239617495 g/L or mM\n",
      "After 30 time point, the concentration of ac_e is 0.4883292136428311 g/L or mM\n",
      "After 30 time point, the concentration of but_e is 3.7573613326245163 g/L or mM\n",
      "After 30 time point, the concentration of btoh_e is 1.593529291464375 g/L or mM\n",
      "After 31 time point, the concentration of ac_e is 0.47548030702440336 g/L or mM\n",
      "After 31 time point, the concentration of but_e is 3.8352204072239795 g/L or mM\n",
      "After 31 time point, the concentration of btoh_e is 1.6899434527731045 g/L or mM\n",
      "After 32 time point, the concentration of ac_e is 0.46158370022675477 g/L or mM\n",
      "After 32 time point, the concentration of but_e is 3.912413373065931 g/L or mM\n",
      "After 32 time point, the concentration of btoh_e is 1.7867448895901996 g/L or mM\n",
      "After 33 time point, the concentration of ac_e is 0.44752725412566247 g/L or mM\n",
      "After 33 time point, the concentration of but_e is 3.985560110234106 g/L or mM\n",
      "After 33 time point, the concentration of btoh_e is 1.8837838631403507 g/L or mM\n",
      "After 34 time point, the concentration of ac_e is 0.43389886403455463 g/L or mM\n",
      "After 34 time point, the concentration of but_e is 4.056263755647243 g/L or mM\n",
      "After 34 time point, the concentration of btoh_e is 1.981783257781992 g/L or mM\n",
      "After 35 time point, the concentration of ac_e is 0.4206854945142906 g/L or mM\n",
      "After 35 time point, the concentration of but_e is 4.124605229051389 g/L or mM\n",
      "After 35 time point, the concentration of btoh_e is 2.080710995572348 g/L or mM\n"
     ]
    },
    {
     "name": "stdout",
     "output_type": "stream",
     "text": [
      "After 36 time point, the concentration of ac_e is 0.4078745070893739 g/L or mM\n",
      "After 36 time point, the concentration of but_e is 4.190662787709797 g/L or mM\n",
      "After 36 time point, the concentration of btoh_e is 2.180536061049842 g/L or mM\n",
      "After 37 time point, the concentration of ac_e is 0.3954536481593578 g/L or mM\n",
      "After 37 time point, the concentration of but_e is 4.254512116006878 g/L or mM\n",
      "After 37 time point, the concentration of btoh_e is 2.2812284662754245 g/L or mM\n",
      "After 38 time point, the concentration of ac_e is 0.38341103727838083 g/L or mM\n",
      "After 38 time point, the concentration of but_e is 4.316226406515739 g/L or mM\n",
      "After 38 time point, the concentration of btoh_e is 2.3827592170506278 g/L or mM\n",
      "After 39 time point, the concentration of ac_e is 0.3717351557916215 g/L or mM\n",
      "After 39 time point, the concentration of but_e is 4.375876443536838 g/L or mM\n",
      "After 39 time point, the concentration of btoh_e is 2.485100280199913 g/L or mM\n",
      "After 40 time point, the concentration of ac_e is 0.3604148358178028 g/L or mM\n",
      "After 40 time point, the concentration of but_e is 4.433530681876247 g/L or mM\n",
      "After 40 time point, the concentration of btoh_e is 2.588224551949933 g/L or mM\n",
      "After 41 time point, the concentration of ac_e is 0.349439249567209 g/L or mM\n",
      "After 41 time point, the concentration of but_e is 4.489255322209384 g/L or mM\n",
      "After 41 time point, the concentration of btoh_e is 2.692105827343108 g/L or mM\n",
      "After 42 time point, the concentration of ac_e is 0.33879789898499685 g/L or mM\n",
      "After 42 time point, the concentration of but_e is 4.543114385183357 g/L or mM\n",
      "After 42 time point, the concentration of btoh_e is 2.7967187706405245 g/L or mM\n",
      "After 43 time point, the concentration of ac_e is 0.32848060570989546 g/L or mM\n",
      "After 43 time point, the concentration of but_e is 4.59516978276563 g/L or mM\n",
      "After 43 time point, the concentration of btoh_e is 2.9020388866984996 g/L or mM\n",
      "After 44 time point, the concentration of ac_e is 0.31847750133869035 g/L or mM\n",
      "After 44 time point, the concentration of but_e is 4.645481387271669 g/L or mM\n",
      "After 44 time point, the concentration of btoh_e is 3.0080424932811454 g/L or mM\n",
      "After 45 time point, the concentration of ac_e is 0.3087790179871797 g/L or mM\n",
      "After 45 time point, the concentration of but_e is 4.694107098754097 g/L or mM\n",
      "After 45 time point, the concentration of btoh_e is 3.1147066942797355 g/L or mM\n",
      "After 46 time point, the concentration of ac_e is 0.29937587913857483 g/L or mM\n",
      "After 46 time point, the concentration of but_e is 4.741102907145684 g/L or mM\n",
      "After 46 time point, the concentration of btoh_e is 3.2220093538166745 g/L or mM\n",
      "After 47 time point, the concentration of ac_e is 0.29025909077059037 g/L or mM\n",
      "After 47 time point, the concentration of but_e is 4.786534512118665 g/L or mM\n",
      "After 47 time point, the concentration of btoh_e is 3.329921611550037 g/L or mM\n",
      "After 48 time point, the concentration of ac_e is 0.2814199327527389 g/L or mM\n",
      "After 48 time point, the concentration of but_e is 4.830430817024689 g/L or mM\n",
      "After 48 time point, the concentration of btoh_e is 3.4384378486252487 g/L or mM\n",
      "After 49 time point, the concentration of ac_e is 0.2728499505056002 g/L or mM\n",
      "After 49 time point, the concentration of but_e is 4.8728543694415825 g/L or mM\n",
      "After 49 time point, the concentration of btoh_e is 3.547530446843944 g/L or mM\n",
      "After 50 time point, the concentration of ac_e is 0.2645409469140878 g/L or mM\n",
      "After 50 time point, the concentration of but_e is 4.9138541314867155 g/L or mM\n",
      "After 50 time point, the concentration of btoh_e is 3.6571800688765457 g/L or mM\n",
      "After 51 time point, the concentration of ac_e is 0.25648497448697855 g/L or mM\n",
      "After 51 time point, the concentration of but_e is 4.953477670742701 g/L or mM\n",
      "After 51 time point, the concentration of btoh_e is 3.767367877635258 g/L or mM\n",
      "After 52 time point, the concentration of ac_e is 0.24867432775520457 g/L or mM\n",
      "After 52 time point, the concentration of but_e is 4.991770326344207 g/L or mM\n",
      "After 52 time point, the concentration of btoh_e is 3.8780762318685493 g/L or mM\n",
      "After 53 time point, the concentration of ac_e is 0.24110153590163777 g/L or mM\n",
      "After 53 time point, the concentration of but_e is 5.028776595003922 g/L or mM\n",
      "After 53 time point, the concentration of btoh_e is 3.9892872276212623 g/L or mM\n",
      "After 54 time point, the concentration of ac_e is 0.23375935561531686 g/L or mM\n",
      "After 54 time point, the concentration of but_e is 5.06453929080941 g/L or mM\n",
      "After 54 time point, the concentration of btoh_e is 4.1009841179240025 g/L or mM\n",
      "After 55 time point, the concentration of ac_e is 0.22664076416328208 g/L or mM\n",
      "After 55 time point, the concentration of but_e is 5.099099812362556 g/L or mM\n",
      "After 55 time point, the concentration of btoh_e is 4.213150574589812 g/L or mM\n",
      "After 56 time point, the concentration of ac_e is 0.2197389526733908 g/L or mM\n",
      "After 56 time point, the concentration of but_e is 5.132498189032146 g/L or mM\n",
      "After 56 time point, the concentration of btoh_e is 4.325770812997863 g/L or mM\n",
      "After 57 time point, the concentration of ac_e is 0.2130473196216894 g/L or mM\n",
      "After 57 time point, the concentration of but_e is 5.164773129528361 g/L or mM\n",
      "After 57 time point, the concentration of btoh_e is 4.438829574115423 g/L or mM\n",
      "After 58 time point, the concentration of ac_e is 0.20655946451811164 g/L or mM\n",
      "After 58 time point, the concentration of but_e is 5.195962062817092 g/L or mM\n",
      "After 58 time point, the concentration of btoh_e is 4.552312107157514 g/L or mM\n",
      "After 59 time point, the concentration of ac_e is 0.20026918178446448 g/L or mM\n",
      "After 59 time point, the concentration of but_e is 5.22610140858998 g/L or mM\n",
      "After 59 time point, the concentration of btoh_e is 4.666204005669369 g/L or mM\n",
      "After 60 time point, the concentration of ac_e is 0.19417045481884532 g/L or mM\n",
      "After 60 time point, the concentration of but_e is 5.255225699572441 g/L or mM\n",
      "After 60 time point, the concentration of btoh_e is 4.780491782731829 g/L or mM\n"
     ]
    },
    {
     "data": {
      "text/plain": [
       "{'ac_e': 0.19417045481884532,\n",
       " 'but_e': 5.255225699572441,\n",
       " 'btoh_e': 4.780491782731829}"
      ]
     },
     "execution_count": 7,
     "metadata": {},
     "output_type": "execute_result"
    }
   ],
   "source": [
    "#If you want to simulate the production with the unit of g/L, the real molar masses of exchange metabolites and carbon sources should be input, and the concentrations of exchange metabolites and carbon sources should be input with the unit of g/L\n",
    "#If you want to simulate the production with the unit of mM, the molar masses of exchange metabolites and carbon sources should be input with the same value, and the concentrations of exchange metabolites and carbon sources should be input with the unit of mM\n",
    "\n",
    "#model_list: the list of models calculated by the function of Get_Concretemodel_Need_Data\n",
    "#target_list: the double list consist of the list of target reactions of each model, where the first reaction of each target reaction list is biomass biosynthesis reaction and the second is the reaction whose flux need to be maximized or minimized\n",
    "#growth_list: the list of minimize growth rates in the function of MDF_Calculation\n",
    "#growth_ratio: the list of ratios of lower bounds of growth rates to maximum growth rates\n",
    "#parameter_list: the list of the total number of enzyme ratios, the upper bounds for substrate input reaction fluxes and the maximum values minus the minimum values of reaction thermodynamic driving forces\n",
    "#substrate_environment: the list of the carbon source uptake reactions and the initial carbon source concentrations in environment\n",
    "#metabolites_monitored: the list of metabolites delivered by the strains and the product\n",
    "#metabolites_mass: the dictionary whose keys are the metabolites in metabolites_monitored and values are the molar masses of the metabolites\n",
    "#concentrations_initial: the dictionary whose keys are the metabolites in metabolites_monitored and values are the initial concentrations of the metabolites in environment\n",
    "#reactions_monitored: the list of dictionaries whose keys are the reactions of the metabolite uptake or release in metabolites_monitored and values are the ratios of lower bounds of the reaction fluxes to the max reaction fluxes\n",
    "#substrate_mass: the list of the molar masses of the carbon sources\n",
    "#t: the number of the time points for mono-cultivation\n",
    "#culture_condition: the list of the inoculum ratio of the straints and time points for co-cultivation\n",
    "#map_coefficient: the list of mapping constants of the instantaneous fluxes corresponding to the mean fluxes for the mono strains\n",
    "#constraints: the constraints used in the simulation, where 'kinetics and thermodynamics' consist of FBA, kinetic and thermodynamic constraints, 'kinetics' consist of FBA and kinetic constraints, 'thermodynamics' consist of FBA and thermodynamic constraints and 'FBA' consist of FBA constraint\n",
    "\n",
    "model_list=[model0, model1]\n",
    "target_list=[['BIOMASS_Ec_iML1515_core_75p37M', 'EX_btoh_e'], ['BIOMASS_Ec_iML1515_core_75p37M', 'EX_but_e']]\n",
    "growth_list=[0.2, 0.2]\n",
    "growth_ratio=[0.34, 0.3]\n",
    "parameter_list=[[0.19, 8, 1249], [0.19, 12, 1249]]\n",
    "substrate_environment=[['EX_glc__D_e_reverse',20],['EX_glc__D_e_reverse',20]]\n",
    "metabolites_monitored=['ac_e', 'but_e', 'btoh_e']\n",
    "metabolites_mass={'ac_e': 60, 'but_e': 87, 'btoh_e': 74}\n",
    "concentrations_initial={'ac_e': 0, 'but_e': 0, 'btoh_e': 0}\n",
    "reactions_monitored=[{'EX_but_e_reverse': 0, 'EX_ac_e': 0, 'EX_btoh_e': 0}, {'EX_ac_e_reverse': 4/8, 'EX_but_e': 0}]\n",
    "substrate_mass=[180,180]\n",
    "t=60\n",
    "culture_condition=[[1/4, 3/4], 60]\n",
    "map_coefficient=[10/(10+10-7.8)*2, 12/(12+0.7)*2]\n",
    "constraints='thermodynamics'\n",
    "\n",
    "ppmcot(model_list, target_list, growth_list,growth_ratio, parameter_list, substrate_environment,  metabolites_monitored, metabolites_mass, concentrations_initial, reactions_monitored, substrate_mass, t, culture_condition, map_coefficient, constraints)"
   ]
  },
  {
   "cell_type": "code",
   "execution_count": null,
   "id": "d5f03d93",
   "metadata": {},
   "outputs": [
    {
     "name": "stdout",
     "output_type": "stream",
     "text": [
      "After 1 time point, the concentration of ac_e is 0.002381884922533006 g/L or mM\n",
      "After 1 time point, the concentration of but_e is 0.1609880575057743 g/L or mM\n",
      "After 1 time point, the concentration of btoh_e is 0 g/L or mM\n"
     ]
    }
   ],
   "source": [
    "ppmcot(model_list=[model0, model1], target_list=[['BIOMASS_Ec_iML1515_core_75p37M', 'EX_btoh_e'], ['BIOMASS_Ec_iML1515_core_75p37M', 'EX_but_e']], growth_list=[0.2, 0.2],growth_ratio=[0.34, 0.3], parameter_list=[[0.19, 8, 1249], [0.19, 12, 1249]], substrate_environment=[['EX_glc__D_e_reverse',20],['EX_glc__D_e_reverse',20]],  metabolites_monitored=['ac_e', 'but_e', 'btoh_e'], metabolites_mass={'ac_e': 60, 'but_e': 87, 'btoh_e': 74}, concentrations_initial={'ac_e': 0, 'but_e': 0, 'btoh_e': 0}, reactions_monitored=[{'EX_but_e_reverse': 0, 'EX_ac_e': 0, 'EX_btoh_e': 0}, {'EX_ac_e_reverse': 4/8, 'EX_but_e': 0}], substrate_mass=[180,180], t=60, culture_condition=[[1/3, 2/3], 60], map_coefficient = [10/(10+10-7.8)*2, 12/(12+0.7)*2], constraints='thermodynamics')"
   ]
  },
  {
   "cell_type": "code",
   "execution_count": null,
   "id": "5a6e0842",
   "metadata": {},
   "outputs": [],
   "source": [
    "ppmcot(model_list=[model0, model1], target_list=[['BIOMASS_Ec_iML1515_core_75p37M', 'EX_btoh_e'], ['BIOMASS_Ec_iML1515_core_75p37M', 'EX_but_e']], growth_list=[0.2, 0.2],growth_ratio=[0.34, 0.3], parameter_list=[[0.19, 8, 1249], [0.19, 12, 1249]], substrate_environment=[['EX_glc__D_e_reverse',20],['EX_glc__D_e_reverse',20]],  metabolites_monitored=['ac_e', 'but_e', 'btoh_e'], metabolites_mass={'ac_e': 60, 'but_e': 87, 'btoh_e': 74}, concentrations_initial={'ac_e': 0, 'but_e': 0, 'btoh_e': 0}, reactions_monitored=[{'EX_but_e_reverse': 0, 'EX_ac_e': 0, 'EX_btoh_e': 0}, {'EX_ac_e_reverse': 4/8, 'EX_but_e': 0}], substrate_mass=[180,180], t=60, culture_condition=[[1/2, 1/2], 60], map_coefficient = [10/(10+10-7.8)*2, 12/(12+0.7)*2], constraints='thermodynamics')"
   ]
  },
  {
   "cell_type": "code",
   "execution_count": null,
   "id": "61c057fb",
   "metadata": {},
   "outputs": [],
   "source": [
    "ppmcot(model_list=[model0, model1], target_list=[['BIOMASS_Ec_iML1515_core_75p37M', 'EX_btoh_e'], ['BIOMASS_Ec_iML1515_core_75p37M', 'EX_but_e']], growth_list=[0.2, 0.2],growth_ratio=[0.34, 0.3], parameter_list=[[0.19, 8, 1249], [0.19, 12, 1249]], substrate_environment=[['EX_glc__D_e_reverse',20],['EX_glc__D_e_reverse',20]],  metabolites_monitored=['ac_e', 'but_e', 'btoh_e'], metabolites_mass={'ac_e': 60, 'but_e': 87, 'btoh_e': 74}, concentrations_initial={'ac_e': 0, 'but_e': 0, 'btoh_e': 0}, reactions_monitored=[{'EX_but_e_reverse': 0, 'EX_ac_e': 0, 'EX_btoh_e': 0}, {'EX_ac_e_reverse': 4/8, 'EX_but_e': 0}], substrate_mass=[180,180], t=60, culture_condition=[[2/3, 1/3], 60], map_coefficient = [10/(10+10-7.8)*2, 12/(12+0.7)*2], constraints='thermodynamics')"
   ]
  },
  {
   "cell_type": "code",
   "execution_count": null,
   "id": "0f3d09c6",
   "metadata": {},
   "outputs": [],
   "source": []
  }
 ],
 "metadata": {
  "kernelspec": {
   "display_name": "enzyme",
   "language": "python",
   "name": "enzyme"
  },
  "language_info": {
   "codemirror_mode": {
    "name": "ipython",
    "version": 3
   },
   "file_extension": ".py",
   "mimetype": "text/x-python",
   "name": "python",
   "nbconvert_exporter": "python",
   "pygments_lexer": "ipython3",
   "version": "3.6.5"
  }
 },
 "nbformat": 4,
 "nbformat_minor": 5
}
