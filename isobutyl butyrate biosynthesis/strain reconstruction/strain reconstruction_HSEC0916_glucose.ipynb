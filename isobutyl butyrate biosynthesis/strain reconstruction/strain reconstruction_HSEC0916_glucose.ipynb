{
 "cells": [
  {
   "cell_type": "markdown",
   "id": "fa895a8c",
   "metadata": {},
   "source": [
    "## import modules"
   ]
  },
  {
   "cell_type": "code",
   "execution_count": 1,
   "id": "50e871bc",
   "metadata": {},
   "outputs": [],
   "source": [
    "import cobra\n",
    "import tempfile\n",
    "from pprint import pprint\n",
    "from cobra.io import write_sbml_model\n",
    "from cobra import Model, Reaction, Metabolite\n",
    "from metnet import pathway\n",
    "from cobra.flux_analysis import pfba\n",
    "from cobra.flux_analysis.loopless import add_loopless, loopless_solution"
   ]
  },
  {
   "cell_type": "markdown",
   "id": "ea2429c8",
   "metadata": {},
   "source": [
    "## modify the strain"
   ]
  },
  {
   "cell_type": "code",
   "execution_count": 2,
   "id": "77d575ab",
   "metadata": {},
   "outputs": [],
   "source": [
    "with tempfile.NamedTemporaryFile(suffix='.xml') as f_sbml:\n",
    "    model = cobra.io.read_sbml_model('./iML1515.xml')\n",
    "\n",
    "    ## add new metabolites\n",
    "    ibutoh_e = Metabolite(\n",
    "        'ibutoh_e',\n",
    "        formula = 'C4H10O',\n",
    "        name = 'isobutanol',\n",
    "        compartment = 'e')\n",
    "    \n",
    "    ibutoh_c = Metabolite(\n",
    "        'ibutoh_c',\n",
    "        formula = 'C4H10O',\n",
    "        name = 'isobutanol',\n",
    "        compartment = 'c')\n",
    "    \n",
    "    mppal_c = Metabolite(\n",
    "        'mppal_c',\n",
    "        formula = 'C4H8O',\n",
    "        name = '2_methylpropanal',\n",
    "        compartment = 'c')\n",
    "    \n",
    "    model.add_metabolites(ibutoh_e)\n",
    "    model.add_metabolites(ibutoh_c)\n",
    "    model.add_metabolites(mppal_c)\n",
    "    \n",
    "    ## get the ids of relative metabolites in the metabolic network\n",
    "    mob_c = model.metabolites.get_by_id('3mob_c')\n",
    "    h_c = model.metabolites.get_by_id('h_c')\n",
    "    co2_c = model.metabolites.get_by_id('co2_c')\n",
    "    nadh_c = model.metabolites.get_by_id('nadh_c')\n",
    "    nad_c = model.metabolites.get_by_id('nad_c')\n",
    "    \n",
    "    ## add new reactions\n",
    "    model.add_reactions([Reaction('MOBDC')])\n",
    "    model.reactions.MOBDC.add_metabolites({\n",
    "        mob_c: -1.0,\n",
    "        h_c: -1.0,\n",
    "        co2_c: 1.0,\n",
    "        mppal_c: 1.0\n",
    "    })\n",
    "    \n",
    "    model.add_reactions([Reaction('ALCD23xi')])\n",
    "    model.reactions.ALCD23xi.add_metabolites({\n",
    "        h_c: -1.0,\n",
    "        nadh_c: -1.0,\n",
    "        mppal_c: -1.0,\n",
    "        nad_c: 1.0,\n",
    "        ibutoh_c: 1.0\n",
    "    })\n",
    "    \n",
    "    model.add_reactions([Reaction('EX_ibutoh_e')])\n",
    "    model.reactions.EX_ibutoh_e.add_metabolites({\n",
    "        ibutoh_e: -1.0\n",
    "    })\n",
    "    \n",
    "    model.add_reactions([Reaction('ibutohtex_reverse')])\n",
    "    model.reactions.ibutohtex_reverse.add_metabolites({\n",
    "        ibutoh_e: 1.0,\n",
    "        ibutoh_c: -1.0\n",
    "    })\n",
    "    \n",
    "    ## generate the metabolic network of the recombinant strain\n",
    "    write_sbml_model(model,'../biosyntehsis-growth relationship/HSEC0916.xml')\n",
    "    write_sbml_model(model,'../production prediction/HSEC0916.xml')\n",
    "    write_sbml_model(model,'../metabolic engineering strategy optimization/HSEC0916.xml')"
   ]
  },
  {
   "cell_type": "code",
   "execution_count": null,
   "id": "7a0b664c",
   "metadata": {},
   "outputs": [],
   "source": []
  },
  {
   "cell_type": "code",
   "execution_count": null,
   "id": "fb5be6f6",
   "metadata": {},
   "outputs": [],
   "source": []
  }
 ],
 "metadata": {
  "kernelspec": {
   "display_name": "enzyme",
   "language": "python",
   "name": "enzyme"
  },
  "language_info": {
   "codemirror_mode": {
    "name": "ipython",
    "version": 3
   },
   "file_extension": ".py",
   "mimetype": "text/x-python",
   "name": "python",
   "nbconvert_exporter": "python",
   "pygments_lexer": "ipython3",
   "version": "3.6.5"
  }
 },
 "nbformat": 4,
 "nbformat_minor": 5
}
