{
 "cells": [
  {
   "cell_type": "markdown",
   "metadata": {},
   "source": [
    "### Module import"
   ]
  },
  {
   "cell_type": "code",
   "execution_count": 1,
   "metadata": {},
   "outputs": [],
   "source": [
    "from ETGEMs_function_ETG import *"
   ]
  },
  {
   "cell_type": "code",
   "execution_count": 2,
   "metadata": {},
   "outputs": [],
   "source": [
    "import pandas as pd\n",
    "import cobra"
   ]
  },
  {
   "cell_type": "markdown",
   "metadata": {},
   "source": [
    "### Data initialization"
   ]
  },
  {
   "cell_type": "code",
   "execution_count": 3,
   "metadata": {},
   "outputs": [],
   "source": [
    "#Get Reaction G0 from local file_original\n",
    "reaction_g0_file_original = './HSEC0916-g0.txt'\n",
    "#Get Metabolite concentration from local file\n",
    "metabolites_lnC_file_original = './HSEC0916-lnC.txt'\n",
    "#Get Model from local file\n",
    "model_file_original = './HSEC0916.xml'\n",
    "#Get reaction kcat data from ECMpy\n",
    "reaction_kcat_MW_file_original = './HSEC0916-kcat-MW.csv'"
   ]
  },
  {
   "cell_type": "code",
   "execution_count": 4,
   "metadata": {},
   "outputs": [],
   "source": [
    "Concretemodel_Need_Data_original=Get_Concretemodel_Need_Data(reaction_g0_file_original,metabolites_lnC_file_original,model_file_original,reaction_kcat_MW_file_original)"
   ]
  },
  {
   "cell_type": "markdown",
   "metadata": {},
   "source": [
    "### Strain reconstruction"
   ]
  },
  {
   "cell_type": "code",
   "execution_count": 5,
   "metadata": {},
   "outputs": [],
   "source": [
    "Concretemodel_Need_Data_original['ub_list']['ACALD']=0\n",
    "Concretemodel_Need_Data_original['lb_list']['ACALD']=0\n",
    "Concretemodel_Need_Data_original['ub_list']['ACALD_reverse']=0\n",
    "Concretemodel_Need_Data_original['lb_list']['ACALD_reverse']=0\n",
    "Concretemodel_Need_Data_original['ub_list']['ALCD2x']=0\n",
    "Concretemodel_Need_Data_original['lb_list']['ALCD2x']=0\n",
    "Concretemodel_Need_Data_original['ub_list']['ALCD2x_reverse']=0\n",
    "Concretemodel_Need_Data_original['lb_list']['ALCD2x_reverse']=0\n",
    "Concretemodel_Need_Data_original['ub_list']['LDH_D']=0\n",
    "Concretemodel_Need_Data_original['lb_list']['LDH_D']=0\n",
    "Concretemodel_Need_Data_original['ub_list']['FRD2']=0\n",
    "Concretemodel_Need_Data_original['lb_list']['FRD2']=0\n",
    "Concretemodel_Need_Data_original['ub_list']['FRD3']=0\n",
    "Concretemodel_Need_Data_original['lb_list']['FRD3']=0\n",
    "Concretemodel_Need_Data_original['ub_list']['PTAr']=0\n",
    "Concretemodel_Need_Data_original['lb_list']['PTAr']=0\n",
    "Concretemodel_Need_Data_original['ub_list']['PTAr_reverse']=0\n",
    "Concretemodel_Need_Data_original['lb_list']['PTAr_reverse']=0\n",
    "Concretemodel_Need_Data_original['ub_list']['PTA2']=0\n",
    "Concretemodel_Need_Data_original['lb_list']['PTA2']=0\n",
    "#Concretemodel_Need_Data_original['ub_list']['ACLS']=0\n",
    "#Concretemodel_Need_Data_original['lb_list']['ACLS']=0\n",
    "#Concretemodel_Need_Data_original['ub_list']['ACHBS']=0\n",
    "#Concretemodel_Need_Data_original['lb_list']['ACHBS']=0\n",
    "Concretemodel_Need_Data_original['ub_list']['PFL']=0\n",
    "Concretemodel_Need_Data_original['lb_list']['PFL']=0\n",
    "Concretemodel_Need_Data_original['ub_list']['OBTFL']=0\n",
    "Concretemodel_Need_Data_original['lb_list']['OBTFL']=0\n",
    "\n",
    "Concretemodel_Need_Data_original['ub_list']['EX_glc__D_e_reverse']=36"
   ]
  },
  {
   "cell_type": "markdown",
   "metadata": {},
   "source": [
    "### Output the mean growth rate without product biosynthesis"
   ]
  },
  {
   "cell_type": "code",
   "execution_count": 6,
   "metadata": {
    "scrolled": true,
    "tags": []
   },
   "outputs": [
    {
     "name": "stdout",
     "output_type": "stream",
     "text": [
      "B value_original : 2.6670869363966334\n"
     ]
    }
   ],
   "source": [
    "biomass_id='BIOMASS_Ec_iML1515_core_75p37M'\n",
    "E_total=0.19\n",
    "substrate_name='EX_glc__D_e_reverse'\n",
    "substrate_value=37.2\n",
    "biomass_value=0.001\n",
    "K_value=1249\n",
    "\n",
    "# Calculate the MDF value of the strain without product biosynthesis\n",
    "B_value_original=MDF_Calculation(Concretemodel_Need_Data = Concretemodel_Need_Data_original,biomass_value = biomass_value,biomass_id = biomass_id,substrate_name = substrate_name,substrate_value = substrate_value,K_value = K_value,E_total = E_total,solver = 'gurobi')\n",
    "print(\"B value_original : \" +str(B_value_original))"
   ]
  },
  {
   "cell_type": "code",
   "execution_count": 7,
   "metadata": {},
   "outputs": [
    {
     "name": "stdout",
     "output_type": "stream",
     "text": [
      "Max biomass : 3.191584951575464\n"
     ]
    }
   ],
   "source": [
    "obj_name='BIOMASS_Ec_iML1515_core_75p37M'\n",
    "obj_target='maximize'\n",
    "E_total=0.19\n",
    "substrate_name='EX_glc__D_e_reverse'\n",
    "substrate_value=37.2\n",
    "K_value=1249\n",
    "\n",
    "# Calculate the mean growth rate without product biosynthesis\n",
    "max_biomass_under_mdf_original=Max_Growth_Rate_Calculation_thermodynamics(Concretemodel_Need_Data_original,obj_name,obj_target,substrate_name,substrate_value,K_value,B_value_original,'gurobi')\n",
    "print(\"Max biomass : \" +str(max_biomass_under_mdf_original))"
   ]
  },
  {
   "cell_type": "markdown",
   "metadata": {},
   "source": [
    "### Set the biosynthesis pathway expression degree"
   ]
  },
  {
   "cell_type": "code",
   "execution_count": 8,
   "metadata": {},
   "outputs": [],
   "source": [
    "Concretemodel_Need_Data_original['lb_list']['BIOMASS_Ec_iML1515_core_75p37M'] = 3.19*0.965 #0.19"
   ]
  },
  {
   "cell_type": "markdown",
   "metadata": {},
   "source": [
    "### Output the mean synthesis rate of target metabolite"
   ]
  },
  {
   "cell_type": "code",
   "execution_count": 9,
   "metadata": {},
   "outputs": [
    {
     "name": "stdout",
     "output_type": "stream",
     "text": [
      "B value_original : 2.6670869363966334\n"
     ]
    }
   ],
   "source": [
    "biomass_id='EX_ibutoh_e'\n",
    "E_total=0.19\n",
    "substrate_name='EX_glc__D_e_reverse'\n",
    "substrate_value=37.2\n",
    "biomass_value=0.001\n",
    "K_value=1249\n",
    "\n",
    "# Calculate the MDF value of the strain with product biosynthesis\n",
    "B_value_original=MDF_Calculation(Concretemodel_Need_Data = Concretemodel_Need_Data_original,biomass_value = biomass_value,biomass_id = biomass_id,substrate_name = substrate_name,substrate_value = substrate_value,K_value = K_value,E_total = E_total,solver = 'gurobi')\n",
    "print(\"B value_original : \" +str(B_value_original))"
   ]
  },
  {
   "cell_type": "code",
   "execution_count": 10,
   "metadata": {},
   "outputs": [
    {
     "name": "stdout",
     "output_type": "stream",
     "text": [
      "Max synthesis rate of target metabolite : 1.4176137602122556\n"
     ]
    }
   ],
   "source": [
    "obj_name='EX_ibutoh_e'\n",
    "obj_target='maximize'\n",
    "E_total=0.19\n",
    "substrate_name='EX_glc__D_e_reverse'\n",
    "substrate_value=37.2\n",
    "K_value=1249\n",
    "\n",
    "# Calculate the mean flux of the target metabolite biosynthesis reaction\n",
    "max_biomass_under_mdf_original=Max_Growth_Rate_Calculation_thermodynamics(Concretemodel_Need_Data_original,obj_name,obj_target,substrate_name,substrate_value,K_value,B_value_original,'gurobi')\n",
    "\n",
    "# Calculate the mean concentration of the target metabolite\n",
    "# If the unit of concentration is g/L, we should divide max_biomass_under_mdf_original by the molar mass of the carbon source, and then multiply by the molar mass of the target metabolite\n",
    "# If the unit of concentration is g/L, we should output max_biomass_under_mdf_original\n",
    "print(\"Max synthesis rate of target metabolite : \" +str(max_biomass_under_mdf_original))"
   ]
  }
 ],
 "metadata": {
  "kernelspec": {
   "display_name": "enzyme",
   "language": "python",
   "name": "enzyme"
  },
  "language_info": {
   "codemirror_mode": {
    "name": "ipython",
    "version": 3
   },
   "file_extension": ".py",
   "mimetype": "text/x-python",
   "name": "python",
   "nbconvert_exporter": "python",
   "pygments_lexer": "ipython3",
   "version": "3.6.5"
  }
 },
 "nbformat": 4,
 "nbformat_minor": 4
}
