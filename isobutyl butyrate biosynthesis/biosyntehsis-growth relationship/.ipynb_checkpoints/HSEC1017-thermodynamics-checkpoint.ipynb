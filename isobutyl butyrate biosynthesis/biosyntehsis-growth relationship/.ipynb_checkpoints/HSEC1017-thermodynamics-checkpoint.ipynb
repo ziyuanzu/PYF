{
 "cells": [
  {
   "cell_type": "markdown",
   "metadata": {},
   "source": [
    "### Module import"
   ]
  },
  {
   "cell_type": "code",
   "execution_count": 1,
   "metadata": {},
   "outputs": [],
   "source": [
    "from ETGEMs_function_ETG import *"
   ]
  },
  {
   "cell_type": "code",
   "execution_count": 2,
   "metadata": {},
   "outputs": [],
   "source": [
    "import pandas as pd\n",
    "import cobra"
   ]
  },
  {
   "cell_type": "markdown",
   "metadata": {},
   "source": [
    "### Data initialization"
   ]
  },
  {
   "cell_type": "code",
   "execution_count": 3,
   "metadata": {},
   "outputs": [],
   "source": [
    "#Get Reaction G0 from local file_original\n",
    "reaction_g0_file_original = './HSEC1017-g0.txt'\n",
    "#Get Metabolite concentration from local file\n",
    "metabolites_lnC_file_original = './HSEC1017-lnC.txt'\n",
    "#Get Model from local file\n",
    "model_file_original = './HSEC1017.xml'\n",
    "#Get reaction kcat data from ECMpy\n",
    "reaction_kcat_MW_file_original = './HSEC1017-kcat-MW.csv'"
   ]
  },
  {
   "cell_type": "code",
   "execution_count": 4,
   "metadata": {},
   "outputs": [],
   "source": [
    "Concretemodel_Need_Data_original=Get_Concretemodel_Need_Data(reaction_g0_file_original,metabolites_lnC_file_original,model_file_original,reaction_kcat_MW_file_original)"
   ]
  },
  {
   "cell_type": "markdown",
   "metadata": {},
   "source": [
    "### Strain reconstruction"
   ]
  },
  {
   "cell_type": "code",
   "execution_count": 5,
   "metadata": {},
   "outputs": [],
   "source": [
    "Concretemodel_Need_Data_original['ub_list']['ACGAptspp']=0\n",
    "Concretemodel_Need_Data_original['lb_list']['ACGAptspp']=0\n",
    "Concretemodel_Need_Data_original['ub_list']['ACMANAptspp']=0\n",
    "Concretemodel_Need_Data_original['lb_list']['ACMANAptspp']=0\n",
    "Concretemodel_Need_Data_original['ub_list']['ACMUMptspp']=0\n",
    "Concretemodel_Need_Data_original['lb_list']['ACMUMptspp']=0\n",
    "Concretemodel_Need_Data_original['ub_list']['ARBTptspp']=0\n",
    "Concretemodel_Need_Data_original['lb_list']['ARBTptspp']=0\n",
    "Concretemodel_Need_Data_original['ub_list']['ASCBptspp']=0\n",
    "Concretemodel_Need_Data_original['lb_list']['ASCBptspp']=0\n",
    "Concretemodel_Need_Data_original['ub_list']['CHTBSptspp']=0\n",
    "Concretemodel_Need_Data_original['lb_list']['CHTBSptspp']=0\n",
    "Concretemodel_Need_Data_original['ub_list']['DHAPT']=0\n",
    "Concretemodel_Need_Data_original['lb_list']['DHAPT']=0\n",
    "Concretemodel_Need_Data_original['ub_list']['FRUpts2pp']=0\n",
    "Concretemodel_Need_Data_original['lb_list']['FRUpts2pp']=0\n",
    "Concretemodel_Need_Data_original['ub_list']['FRUptspp']=0\n",
    "Concretemodel_Need_Data_original['lb_list']['FRUptspp']=0\n",
    "Concretemodel_Need_Data_original['ub_list']['GALTptspp']=0\n",
    "Concretemodel_Need_Data_original['lb_list']['GALTptspp']=0\n",
    "Concretemodel_Need_Data_original['ub_list']['GAMptspp']=0\n",
    "Concretemodel_Need_Data_original['lb_list']['GAMptspp']=0\n",
    "Concretemodel_Need_Data_original['ub_list']['GLCptspp']=0\n",
    "Concretemodel_Need_Data_original['lb_list']['GLCptspp']=0\n",
    "Concretemodel_Need_Data_original['ub_list']['MALTptspp']=0\n",
    "Concretemodel_Need_Data_original['lb_list']['MALTptspp']=0\n",
    "Concretemodel_Need_Data_original['ub_list']['MANptspp']=0\n",
    "Concretemodel_Need_Data_original['lb_list']['MANptspp']=0\n",
    "Concretemodel_Need_Data_original['ub_list']['MNLptspp']=0\n",
    "Concretemodel_Need_Data_original['lb_list']['MNLptspp']=0\n",
    "Concretemodel_Need_Data_original['ub_list']['SBTptspp']=0\n",
    "Concretemodel_Need_Data_original['lb_list']['SBTptspp']=0\n",
    "Concretemodel_Need_Data_original['ub_list']['SUCptspp']=0\n",
    "Concretemodel_Need_Data_original['lb_list']['SUCptspp']=0\n",
    "Concretemodel_Need_Data_original['ub_list']['TREptspp']=0\n",
    "Concretemodel_Need_Data_original['lb_list']['TREptspp']=0\n",
    "Concretemodel_Need_Data_original['ub_list']['HEX1']=0\n",
    "Concretemodel_Need_Data_original['lb_list']['HEX1']=0\n",
    "Concretemodel_Need_Data_original['ub_list']['EX_glc__D_e_reverse']=0\n",
    "Concretemodel_Need_Data_original['ub_list']['EX_xyl__D_e_reverse']=10"
   ]
  },
  {
   "cell_type": "markdown",
   "metadata": {},
   "source": [
    "### Set the maximum of the intake rate for isobutanol"
   ]
  },
  {
   "cell_type": "code",
   "execution_count": 6,
   "metadata": {},
   "outputs": [],
   "source": [
    "Concretemodel_Need_Data_original['ub_list']['EX_ibutoh_e_reverse']=10"
   ]
  },
  {
   "cell_type": "markdown",
   "metadata": {},
   "source": [
    "### Output the mean growth rate without product biosynthesis"
   ]
  },
  {
   "cell_type": "code",
   "execution_count": 7,
   "metadata": {
    "scrolled": true,
    "tags": []
   },
   "outputs": [
    {
     "name": "stdout",
     "output_type": "stream",
     "text": [
      "B value_original : 2.6670869363966334\n"
     ]
    }
   ],
   "source": [
    "biomass_id='BIOMASS_Ec_iML1515_core_75p37M'\n",
    "E_total=0.19\n",
    "substrate_name='EX_xyl__D_e_reverse'\n",
    "substrate_value=6.67\n",
    "biomass_value=0.01\n",
    "K_value=1249\n",
    "\n",
    "# Calculate the MDF value of the strain without product biosynthesis\n",
    "B_value_original=MDF_Calculation(Concretemodel_Need_Data = Concretemodel_Need_Data_original,biomass_value = biomass_value,biomass_id = biomass_id,substrate_name = substrate_name,substrate_value = substrate_value,K_value = K_value,E_total = E_total,solver = 'gurobi')\n",
    "print(\"B value_original : \" +str(B_value_original))"
   ]
  },
  {
   "cell_type": "code",
   "execution_count": 8,
   "metadata": {},
   "outputs": [
    {
     "name": "stdout",
     "output_type": "stream",
     "text": [
      "Max biomass : 0.45720651903451226\n"
     ]
    }
   ],
   "source": [
    "obj_name='BIOMASS_Ec_iML1515_core_75p37M'\n",
    "obj_target='maximize'\n",
    "E_total=0.19\n",
    "substrate_name='EX_xyl__D_e_reverse'\n",
    "substrate_value=6.67\n",
    "K_value=1249\n",
    "\n",
    "# Calculate the mean growth rate without product biosynthesis\n",
    "max_biomass_under_mdf_original=Max_Growth_Rate_Calculation_thermodynamics(Concretemodel_Need_Data_original,obj_name,obj_target,substrate_name,substrate_value,K_value,B_value_original,'gurobi')\n",
    "print(\"Max biomass : \" +str(max_biomass_under_mdf_original))"
   ]
  },
  {
   "cell_type": "markdown",
   "metadata": {},
   "source": [
    "### Set the biosynthesis pathway expression degree"
   ]
  },
  {
   "cell_type": "code",
   "execution_count": 9,
   "metadata": {},
   "outputs": [],
   "source": [
    "Concretemodel_Need_Data_original['lb_list']['BIOMASS_Ec_iML1515_core_75p37M'] = 0.457*0.989 #0.19"
   ]
  },
  {
   "cell_type": "markdown",
   "metadata": {},
   "source": [
    "### Output the mean synthesis rate of target metabolite"
   ]
  },
  {
   "cell_type": "code",
   "execution_count": 10,
   "metadata": {},
   "outputs": [
    {
     "name": "stdout",
     "output_type": "stream",
     "text": [
      "B value_original : 2.6670869363966334\n"
     ]
    }
   ],
   "source": [
    "biomass_id='EX_isobt_e'\n",
    "E_total=0.19\n",
    "substrate_name='EX_xyl__D_e_reverse'\n",
    "substrate_value=6.67\n",
    "biomass_value=0.01\n",
    "K_value=1249\n",
    "\n",
    "# Calculate the MDF value of the strain with product biosynthesis\n",
    "B_value_original=MDF_Calculation(Concretemodel_Need_Data = Concretemodel_Need_Data_original,biomass_value = biomass_value,biomass_id = biomass_id,substrate_name = substrate_name,substrate_value = substrate_value,K_value = K_value,E_total = E_total,solver = 'gurobi')\n",
    "print(\"B value_original : \" +str(B_value_original))"
   ]
  },
  {
   "cell_type": "code",
   "execution_count": 11,
   "metadata": {},
   "outputs": [
    {
     "name": "stdout",
     "output_type": "stream",
     "text": [
      "Max synthesis rate of target metabolite : 0.07726399723802313\n"
     ]
    }
   ],
   "source": [
    "obj_name='EX_isobt_e'\n",
    "obj_target='maximize'\n",
    "E_total=0.19\n",
    "substrate_name='EX_xyl__D_e_reverse'\n",
    "substrate_value=6.67\n",
    "K_value=1249\n",
    "\n",
    "# Calculate the mean flux of the target metabolite biosynthesis reaction\n",
    "max_biomass_under_mdf_original=Max_Growth_Rate_Calculation_thermodynamics(Concretemodel_Need_Data_original,obj_name,obj_target,substrate_name,substrate_value,K_value,B_value_original,'gurobi')\n",
    "\n",
    "# Calculate the mean concentration of the target metabolite\n",
    "# If the unit of concentration is g/L, we should divide max_biomass_under_mdf_original by the molar mass of the carbon source, and then multiply by the molar mass of the target metabolite\n",
    "# If the unit of concentration is g/L, we should output max_biomass_under_mdf_original\n",
    "print(\"Max synthesis rate of target metabolite : \" +str(max_biomass_under_mdf_original))"
   ]
  }
 ],
 "metadata": {
  "kernelspec": {
   "display_name": "enzyme",
   "language": "python",
   "name": "enzyme"
  },
  "language_info": {
   "codemirror_mode": {
    "name": "ipython",
    "version": 3
   },
   "file_extension": ".py",
   "mimetype": "text/x-python",
   "name": "python",
   "nbconvert_exporter": "python",
   "pygments_lexer": "ipython3",
   "version": "3.6.5"
  }
 },
 "nbformat": 4,
 "nbformat_minor": 4
}
