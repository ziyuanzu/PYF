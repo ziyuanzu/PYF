{
 "cells": [
  {
   "cell_type": "markdown",
   "id": "f27f3b21",
   "metadata": {},
   "source": [
    "## import modules"
   ]
  },
  {
   "cell_type": "code",
   "execution_count": 1,
   "id": "cef19f36",
   "metadata": {},
   "outputs": [],
   "source": [
    "import cobra\n",
    "import tempfile\n",
    "from pprint import pprint\n",
    "from cobra.io import write_sbml_model\n",
    "from cobra import Model, Reaction, Metabolite\n",
    "from metnet import pathway\n",
    "from cobra.flux_analysis import pfba\n",
    "from cobra.flux_analysis.loopless import add_loopless, loopless_solution"
   ]
  },
  {
   "cell_type": "markdown",
   "id": "d85ed7d5",
   "metadata": {},
   "source": [
    "## modify the strain"
   ]
  },
  {
   "cell_type": "code",
   "execution_count": 2,
   "id": "873d081d",
   "metadata": {},
   "outputs": [],
   "source": [
    "with tempfile.NamedTemporaryFile(suffix='.xml') as f_sbml:\n",
    "    model_fyc = cobra.io.read_sbml_model('./iCW773.xml')\n",
    "    \n",
    "    ## get the ids of relative metabolites in the metabolic network\n",
    "    sucr_e = model_fyc.metabolites.get_by_id('sucr_e')\n",
    "    \n",
    "    ## add new reactions\n",
    "    model_fyc.add_reactions([Reaction('EX_sucr_e_reverse')])\n",
    "    model_fyc.reactions.EX_sucr_e_reverse.add_metabolites({\n",
    "        sucr_e: 1.0\n",
    "    })  \n",
    "\n",
    "    model_fyc.reactions.get_by_id('EX_sucr_e_reverse').lb = 0\n",
    "    model_fyc.reactions.get_by_id('EX_sucr_e_reverse').ub = 1000\n",
    "    \n",
    "    ## generate the metabolic network of the recombinant strain\n",
    "    write_sbml_model(model_fyc,'../biosyntehsis-growth relationship/iCW773_fyc.xml')\n",
    "    write_sbml_model(model_fyc,'../production prediction/iCW773_fyc.xml')\n",
    "    write_sbml_model(model_fyc,'../metabolic engineering strategy optimization/iCW773_fyc.xml')"
   ]
  },
  {
   "cell_type": "code",
   "execution_count": null,
   "id": "0b44a1a2",
   "metadata": {},
   "outputs": [],
   "source": []
  }
 ],
 "metadata": {
  "kernelspec": {
   "display_name": "enzyme",
   "language": "python",
   "name": "enzyme"
  },
  "language_info": {
   "codemirror_mode": {
    "name": "ipython",
    "version": 3
   },
   "file_extension": ".py",
   "mimetype": "text/x-python",
   "name": "python",
   "nbconvert_exporter": "python",
   "pygments_lexer": "ipython3",
   "version": "3.6.5"
  }
 },
 "nbformat": 4,
 "nbformat_minor": 5
}
