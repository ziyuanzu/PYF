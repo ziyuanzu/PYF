{
 "cells": [
  {
   "cell_type": "markdown",
   "metadata": {},
   "source": [
    "### Module import"
   ]
  },
  {
   "cell_type": "code",
   "execution_count": 1,
   "metadata": {},
   "outputs": [],
   "source": [
    "from ETGEMs_function_ETG import *"
   ]
  },
  {
   "cell_type": "code",
   "execution_count": 2,
   "metadata": {},
   "outputs": [],
   "source": [
    "import pandas as pd\n",
    "import cobra"
   ]
  },
  {
   "cell_type": "markdown",
   "metadata": {},
   "source": [
    "### Data initialization"
   ]
  },
  {
   "cell_type": "code",
   "execution_count": 3,
   "metadata": {},
   "outputs": [],
   "source": [
    "#Get Reaction G0 from local file_original\n",
    "reaction_g0_file_original = './iYO844-g0.txt'\n",
    "#Get Metabolite concentration from local file\n",
    "metabolites_lnC_file_original = './iYO844-lnC.txt'\n",
    "#Get Model from local file\n",
    "model_file_original = './iYO844_fyc.xml'\n",
    "#Get reaction kcat data from ECMpy\n",
    "reaction_kcat_MW_file_original = './kcat-MW.csv'"
   ]
  },
  {
   "cell_type": "code",
   "execution_count": 4,
   "metadata": {},
   "outputs": [],
   "source": [
    "Concretemodel_Need_Data_original=Get_Concretemodel_Need_Data(reaction_g0_file_original,metabolites_lnC_file_original,model_file_original,reaction_kcat_MW_file_original)"
   ]
  },
  {
   "cell_type": "markdown",
   "metadata": {},
   "source": [
    "### Strain reconstruction"
   ]
  },
  {
   "cell_type": "code",
   "execution_count": 5,
   "metadata": {},
   "outputs": [
    {
     "name": "stdout",
     "output_type": "stream",
     "text": [
      "{'EX_etha_e': 1000, 'EX_drib_e': 1000, 'EX_csn_e': 1000, 'EX_5mtr_e': 1000, 'EX_dtmp_e': 1000, 'EX_6pgc_e': 1000, 'EX_ctbt_e': 1000, 'EX_cu2_e': 1000, 'EX_Larab_e': 1000, 'EX_ectoine_e': 1000, 'EX_cys__D_e': 1000, 'EX_cys__L_e': 1000, 'EX_eths_e': 1000, 'EX_cyst__L_e': 1000, 'EX_Lcyst_e': 1000, 'EX_cytd_e': 1000, 'EX_abt__L_e': 1000, 'EX_etoh_e': 1000, 'EX_dad_2_e': 1000, 'EX_dcyt_e': 1000, 'EX_fe2_e': 1000, 'EX_dextrin_e': 1000, 'EX_dha_e': 1000, 'EX_ac_e': 1000, 'EX_acac_e': 1000, 'EX_fe3_e': 1000, 'EX_ferrich_e': 1000, 'EX_diact_e': 1000, 'EX_djenk_e': 1000, 'EX_ferxa_e': 1000, 'EX_fol_e': 1000, 'EX_acgam_e': 1000, 'EX_acmana_e': 1000, 'EX_acnam_e': 1000, 'EX_for_e': 1000, 'EX_fru_e': 1000, 'EX_actn__R_e': 1000, 'EX_ade_e': 1000, 'EX_adn_e': 1000, 'EX_akg_e': 1000, 'EX_ala_B_e': 1000, 'EX_ala__D_e': 1000, 'EX_ala_L_Thr__L_e': 1000, 'EX_ala_L_asp__L_e': 1000, 'EX_ala__L_e': 1000, 'EX_ala_L_gln__L_e': 1000, 'EX_ala_L_glu__L_e': 1000, 'EX_L_alagly_e': 1000, 'EX_ala_L_his__L_e': 1000, 'EX_ala_L_leu__L_e': 1000, 'EX_g6p_e': 1000, 'EX_gal_e': 1000, 'EX_galctr__D_e': 1000, 'EX_galt_e': 1000, 'EX_galur_e': 1000, 'EX_gam6p_e': 1000, 'EX_gam_e': 1000, 'EX_gbbtn_e': 1000, 'EX_glc__D_e': 1000, 'EX_glcn__D_e': 1000, 'EX_glcr_e': 1000, 'EX_glcur_e': 1000, 'EX_gln__L_e': 1000, 'EX_glu__D_e': 1000, 'EX_alaala_e': 1000, 'EX_alltn_e': 1000, 'EX_amp_e': 1000, 'EX_amylase_e': 1000, 'EX_fum_e': 1000, 'EX_antim_e': 1000, 'EX_g1p_e': 1000, 'EX_glu__L_e': 1000, 'EX_arab__D_e': 1000, 'EX_arab__L_e': 1000, 'EX_arbt_e': 1000, 'EX_arg__L_e': 1000, 'EX_argp_e': 1000, 'EX_arsenb_e': 1000, 'EX_arsna_e': 1000, 'EX_arsni2_e': 1000, 'EX_asn__L_e': 1000, 'EX_asp__L_e': 1000, 'EX_bilea_e': 1000, 'EX_btd_RR_e': 1000, 'EX_glx_e': 1000, 'EX_buts_e': 1000, 'EX_ca2_e': 1000, 'EX_cbl2_e': 1000, 'EX_pur_e': 1000, 'EX_pyr_e': 1000, 'EX_cd2_e': 1000, 'EX_gly_asn__L_e': 1000, 'EX_cellb_e': 1000, 'EX_cgly_e': 1000, 'EX_raffin_e': 1000, 'EX_rib__D_e': 1000, 'EX_gly_asp__L_e': 1000, 'EX_ribflv_e': 1000, 'EX_chitob_e': 1000, 'EX_gly_e': 1000, 'EX_chol_e': 1000, 'EX_rmn_e': 1000, 'EX_gly_gln__L_e': 1000, 'EX_chols_e': 1000, 'EX_chor_e': 1000, 'EX_cit_e': 1000, 'EX_salcn_e': 1000, 'EX_gly_glu__L_e': 1000, 'EX_sbt__D_e': 1000, 'EX_ser__D_e': 1000, 'EX_citr__L_e': 1000, 'EX_cmp_e': 1000, 'EX_ser__L_e': 1000, 'EX_gly_met__L_e': 1000, 'EX_so4_e': 1000, 'EX_spmd_e': 1000, 'EX_co2_e': 1000, 'EX_cobalt2_e': 1000, 'EX_crn_e': 1000, 'EX_cro4_e': 1000, 'EX_srb__L_e': 1000, 'EX_starch_e': 1000, 'EX_subtilisin_e': 1000, 'EX_succ_e': 1000, 'EX_sucr_e': 1000, 'EX_gly_pro__L_e': 1000, 'EX_sula_e': 1000, 'EX_taur_e': 1000, 'EX_glyb_e': 1000, 'EX_thiog_e': 1000, 'EX_glyc3p_e': 1000, 'EX_glyc_e': 1000, 'EX_glyclt_e': 1000, 'EX_glycogen_e': 1000, 'EX_gmp_e': 1000, 'EX_gsn_e': 1000, 'EX_thr__L_e': 1000, 'EX_gthox_e': 1000, 'EX_thym_e': 1000, 'EX_gthrd_e': 1000, 'EX_thymd_e': 1000, 'EX_gua_e': 1000, 'EX_tmp_e': 1000, 'EX_tre_e': 1000, 'EX_trp__L_e': 1000, 'EX_h2o2_e': 1000, 'EX_tyr__L_e': 1000, 'EX_h2o_e': 1000, 'EX_ump_e': 1000, 'EX_ura_e': 1000, '3UMPt6': 1000, 'EX_h_e': 1000, '5MTRt2': 1000, '6PGCt6': 1000, 'EX_urate_e': 1000, '2HXMPt6': 1000, 'EX_hexs_e': 1000, '2PGLYCt6': 1000, '2PGt6': 1000, '3AMPt6': 1000, '3CMPt6': 1000, 'EX_urea_e': 1000, 'EX_uri_e': 1000, 'EX_val__L_e': 1000, 'EX_xan_e': 1000, 'EX_xtsn_e': 1000, 'EX_xyl__D_e': 1000, 'EX_zn2_e': 1000, '3GMPt6': 1000, '3PGt6': 1000, 'ABTt_1': 1000, 'F6Pt6_2': 1000, 'EX_hg2_e': 1000, 'EX_his__L_e': 1000, 'EX_hqn_e': 1000, 'EX_hxan_e': 1000, 'PHEt2r': 1000, 'ACACt2': 1000, 'EX_icit_e': 1000, '2S6HCCi': 1000, '26DPAi': 1000, '3AMBAt2': 1000, 'FDH': 1000, 'FDMO_1': 1000, 'EX_ile__L_e': 1000, 'AAMYL_1': 1000, 'EX_inost_e': 1000, 'EX_ins_e': 1000, 'EX_istnt_e': 1000, 'ABTA': 1000, 'EX_k_e': 1000, 'EX_lac__L_e': 1000, 'EX_lanth_e': 1000, 'FBA': 1000, 'EX_lcts_e': 1000, 'FBA2': 1000, 'FBP': 1000, 'FCLT_2': 1000, 'FDMO1': 1000, 'FDMO2_1': 1000, 'FDMO3_1': 1000, 'AB6PGH': 1000, 'ABUTD': 1000, 'MACCOAT': 1000, 'ACACT2r': 1000, 'ACACT3r': 1000, 'ACACT4r': 1000, 'ACACT5r_1': 1000, 'ACACT6r_1': 1000, 'ACACT7r': 1000, 'FDMO4_1': 1000, 'FDMO5_1': 1000, 'FDMO6_1': 1000, 'ACACT1r': 1000, 'ACCOAC': 1000, 'EX_leu__L_e': 1000, 'ACGApts': 1000, 'ACGK': 1000, 'FE2abc': 1000, 'EX_lipt_e': 1000, 'ACGS': 1000, 'EX_lys__L_e': 1000, 'FOLD3': 1000, 'ACMANAt2': 1000, 'ACNAMt2': 1000, 'EX_madg_e': 1000, 'ACNPLYS': 1000, 'EX_mal__D_e': 1000, 'ALLTNt2r': 1000, 'EX_mal__L_e': 1000, 'ACt2r': 1000, 'ADEt2': 1000, 'ACKr': 1000, 'ACLDC': 1000, 'ALLTAHr': 1000, 'EX_malt_e': 1000, 'AMPt6': 1000, 'ACODA_1': 1000, 'ACOAD20': 1000, 'EX_malttr_e': 1000, 'EX_man1p_e': 1000, 'ACONT': 1000, 'ACOAD2': 1000, 'EX_man6p_e': 1000, 'ACOAD1': 1000, 'ACOADH2': 1000, 'ARABDI': 1000, 'ARAB_Dt': 1000, 'ACOTA': 1000, 'ARGKr': 1000, 'EX_man_e': 1000, 'ARGPt6': 1000, 'ACPS1': 1000, 'EX_3ump_e': 1000, 'EX_mbdg_e': 1000, 'APATi': 1000, 'EX_melib_e': 1000, 'EX_meoh_e': 1000, 'EX_met__D_e': 1000, 'APRAUR': 1000, 'APSR': 1000, 'ACPpds': 1000, 'ACS': 1000, 'EX_met_L_ala__L_e': 1000, 'ALKP': 1000, 'APTA1i': 1000, 'EX_met__L_e': 1000, 'ALCD19_L': 1000, 'ACS2': 1000, 'ACTD2': 1000, 'ACTNabc': 1000, 'ACTNabc1': 1000, 'ALCD2y': 1000, 'ADADir': 1000, 'EX_metox__R_e': 1000, 'ADNK1': 1000, 'ADCL': 1000, 'ADD': 1000, 'ALLTN': 1000, 'ALTRH': 1000, 'EX_metox_e': 1000, 'ARABRr': 1000, 'ARAI': 1000, 'ARBTpts': 1000, 'ADCS': 1000, 'ADK1': 1000, 'EX_mg2_e': 1000, 'AMAA': 1000, 'ADK2': 1000, 'AMAOTr': 1000, 'EX_mn2_e': 1000, 'AMMQT7': 1000, 'ANPRT': 1000, 'ADMDC': 1000, 'EX_mnl_e': 1000, 'ADNt2': 1000, 'ADPDA': 1000, 'ADPRDP': 1000, 'ANS': 1000, 'ANTIMt1': 1000, 'EX_mobd_e': 1000, 'AOXSr': 1000, 'ARBabc': 1000, 'ARBt2r': 1000, 'ARGDC': 1000, 'ADPT': 1000, 'ADSK': 1000, 'ADSL2r': 1000, 'ADSL1r': 1000, 'ADSS': 1000, 'AGDC': 1000, 'ARGN_1': 1000, 'ARGSL': 1000, 'ARGSS': 1000, 'AGMT': 1000, 'AGPATr_BS': 1000, 'EX_mops_e': 1000, 'AGPR': 1000, 'AHCYSNS': 1000, 'ASNt2r': 1000, 'EX_mso3_e': 1000, 'ASPt2r': 1000, 'AHMMPS_1': 1000, 'AHSERL3': 1000, 'AHSERL4': 1000, 'EX_na1_e': 1000, 'AICART': 1000, 'AKGDH': 1000, 'EX_nac_e': 1000, 'AIRC1': 1000, 'ATPM': 9, 'BIOMASS_BS_10': 1000, 'EX_nh4_e': 1000, 'BTDt6_RR': 1000, 'CHORt2': 1000, 'ALAALAr': 1000, 'AKGt2r': 1000, 'EX_ni2_e': 1000, 'AKP1': 1000, 'ALAD_L': 1000, 'ALAR': 1000, 'ALATA_L': 1000, 'CITRt2r': 1000, 'CMPt6': 1000, 'CO2t': 1000, 'DALAt2r': 1000, 'ARSNAt1': 1000, 'ALAt2r': 1000, 'EX_no2_e': 1000, 'ALCD19y': 1000, 'ARSt1': 1000, 'ARGabc': 1000, 'EX_no3_e': 1000, 'ARGt2r': 1000, 'ARSENBabc': 1000, 'CYSGLYt2ir': 1000, 'CYSTabc': 1000, 'ARSENBt2': 1000, 'EX_o2_e': 1000, 'ASAD': 1000, 'ASNN': 1000, 'ASNS1': 1000, 'CYSabc': 1000, 'DEXTRINt2': 1000, 'ASP1DC': 1000, 'EX_orn__L_e': 1000, 'ASPCT': 1000, 'ASPK': 1000, 'DHAt': 1000, 'EX_pala_e': 1000, 'EX_4abut_e': 1000, 'ASPO6': 1000, 'ASPO1': 1000, 'ASPT': 1000, 'ASPTA': 1000, 'EX_pep_e': 1000, 'ATPPRT': 1000, 'DADK': 1000, 'EX_phe__L_e': 1000, 'DADNt2': 1000, 'ATPS4r': 1000, 'BETALDHx': 1000, 'BG_CELLB': 1000, 'CYSS_2': 1000, 'EX_pi_e': 1000, 'DHPPDA': 1000, 'BG_MADG': 1000, 'BG_MBDG': 1000, 'BILEt4': 1000, 'DDPA': 1000, 'EX_pnto__R_e': 1000, 'CRNabc': 1000, 'BTDD_RR': 1000, 'EX_ppa_e': 1000, 'BLACT': 1000, 'CTPS1': 1000, 'BTS_1': 1000, 'CPPPGO': 1000, 'EX_ppi_e': 1000, 'CRO4t3': 1000, 'CS': 1000, 'EX_pro__L_e': 1000, 'CTPS2': 1000, 'CYOR3m': 1000, 'BUTKr': 1000, 'BUTSabc': 1000, 'EX_prolb_e': 1000, 'CA2abc1': 1000, 'CAT': 1000, 'CAt4': 1000, 'CYOO3': 1000, 'CYSTGL': 1000, 'CYSTL': 1000, 'CYSTS': 1000, 'DCYTD': 1000, 'CYTB_B2': 1000, 'CYTB_B3': 1000, 'CBL2abc': 1000, 'CD2t4': 1000, 'CBPS': 1000, 'CYTD': 1000, 'EX_pser__D_e': 1000, 'EX_pser__L_e': 1000, 'DJENKabc': 1000, 'CYTDK1': 1000, 'CD2abc1': 1000, 'CDGPT_BS': 1000, 'CDPDSP_BS': 1000, 'CDPMEK': 1000, 'CHCOAL': 1000, 'CYTDK2': 1000, 'DCYTt2': 1000, 'CHOLD2': 1000, 'DTMPt6': 1000, 'CHORM': 1000, 'CHORS': 1000, 'CYTK1': 1000, 'CYTK2': 1000, 'CYTOM': 1000, 'CITt10': 1000, 'CITt11': 1000, 'CITt12': 1000, 'D4DGCD': 1000, 'Cut1': 1000, 'DAAOP': 1000, 'DAGK_BS': 1000, 'DALAOX': 1000, 'CITt13': 1000, 'CLPNS2_BS': 1000, 'CITt14': 1000, 'CITt2r': 1000, 'DAPDC': 1000, 'DAPE': 1000, 'ETHAAL': 1000, 'DB4PS': 1000, 'DBTS': 1000, 'FOLt': 1000, 'FORAMD': 1000, 'DCMPDA': 1000, 'ETOHt3': 1000, 'CMPDAi': 1000, 'FRTT': 1000, 'EX_2ddglcn_e': 1000, 'DDGLCNt2r': 1000, 'DDGLK': 1000, 'EX_2hxmp_e': 1000, 'DGK1': 1000, 'DGNSK': 1000, 'G1Pt6_2': 1000, 'DHAD1': 1000, 'G3POA_BS': 1000, 'EX_2pg_e': 1000, 'DHAD2': 1000, 'DHBD': 1000, 'DHBS': 1000, 'EX_2pglyc_e': 1000, 'DHDPRy': 1000, 'DHDPS': 1000, 'G5SADs': 1000, 'G6Pt6_2': 1000, 'GALTpts': 1000, 'FOLR2': 1000, 'DHFR': 1000, 'DHFS': 1000, 'DHNAOT7': 1000, 'EX_3amba_e': 1000, 'EX_3amp_e': 1000, 'GAM6Pt': 1000, 'EX_3cmp_e': 1000, 'GGTT': 1000, 'GCALDD': 1000, 'EX_3gmp_e': 1000, 'GAPD': 1000, 'G1Dx': 1000, 'GALt2': 1000, 'DHNPA_1': 1000, 'DHORTS': 1000, 'DHORDi': 1000, 'EX_3pg_e': 1000, 'GK1': 1000, 'ETHSabc': 1000, 'GBBTNabc': 1000, 'GK2': 1000, 'GLCRAL_1': 1000, 'GLU_Dt2': 1000, 'DINSK': 1000, 'GLXt2': 1000, 'GLYCOGENt': 1000, 'FE3t': 1000, 'DHQTi': 1000, 'FEDCabc': 1000, 'GLYt2r': 1000, 'FERXAabc': 1000, 'GMPt6': 1000, 'DHQS': 1000, 'H2Ot': 1000, 'FFSD': 1000, 'FGLU_1': 1000, 'FLVR_1': 1000, 'FMETDF': 1000, 'FMNRy': 1000, 'HCO3E': 1000, 'HEMECS': 1000, 'HEMEDS': 1000, 'FMETTRS_1': 1000, 'FMNAT': 1000, 'FORt2': 1000, 'GSNt2': 1000, 'DIPEPabc1': 1000, 'GLYBt2r': 1000, 'GLYO1': 1000, 'FTHFD': 1000, 'HEX7': 1000, 'FUM': 1000, 'DKI': 1000, 'FUMt2r': 1000, 'GTPCII': 1000, 'G1PACT': 1000, 'GRTT': 1000, 'G1PPDM': 1000, 'DKII': 1000, 'G3PCT': 1000, 'GLCRt2r': 1000, 'GLCURt2r': 1000, 'G1SAT': 1000, 'DKMD2K': 1000, 'G3PD1ir': 1000, 'G3PD4': 1000, 'GLCP': 1000, 'GLCRD_1': 1000, 'GLCS1': 1000, 'G5SD': 1000, 'G6PDH2r': 1000, 'G6PDA': 1000, 'G6PI': 1000, 'GLCt2': 1000, 'GALCTD_1': 1000, 'GLNS': 1000, 'GALCTRt2': 1000, 'GLGC': 1000, 'DKMD3M': 1000, 'GLNabc': 1000, 'GLTPD': 1000, 'GLUPRT': 1000, 'GALKr': 1000, 'GALS1': 1000, 'GALS2': 1000, 'GALS3': 1000, 'GALS4': 1000, 'GLU5K': 1000, 'GALT': 1000, 'GLUDxi': 1000, 'GALUi': 1000, 'DM1PE': 1000, 'GALURt2r': 1000, 'GLUN': 1000, 'GLUTRR': 1000, 'GAMpts': 1000, 'DMATT': 1000, 'GAPDi_nadp': 1000, 'GLUR': 1000, 'GLUSy': 1000, 'GLUTRS': 1000, 'GLUt4': 1000, 'GLUt2r': 1000, 'GLXCBL': 1000, 'GARFT': 1000, 'GART': 1000, 'GBEZY': 1000, 'GF6PTA': 1000, 'GGTAe2': 1000, 'GLY3Pt2': 1000, 'DMPPS': 1000, 'GLYAT': 1000, 'GLYCK': 1000, 'GHMT2r': 1000, 'GLCNt2ir': 1000, 'DPCOAK': 1000, 'GLYCTO1': 1000, 'HIBHr': 1000, 'GLYCLTt2r': 1000, 'HQNt6': 1000, 'DPR': 1000, 'ISOMS': 1000, 'GLYCt': 1000, 'GLYK': 1000, 'DRBK': 1000, 'GMPR': 1000, 'GMPS2': 1000, 'GNKr': 1000, 'GPDDA4': 1000, 'GPDDA1': 1000, 'IMPC': 1000, 'HEXSabc': 1000, 'ICITt10': 1000, 'ICITt2': 1000, 'DRIBabc': 1000, 'DRPA': 1000, 'IPDPS': 1000, 'IPDDI': 1000, 'GTHPe': 1000, 'RAFH': 1000, 'DTMPK': 1000, 'HXPRT': 1000, 'HETZK': 1000, 'GTPCI': 1000, 'GTPDPK': 1000, 'DURIK1': 1000, 'GUAD': 1000, 'GUAPRT': 1000, 'HXANt2r': 1000, 'HEMEOS_1': 1000, 'GUI1': 1000, 'DURIPP': 1000, 'GUAt2r': 1000, 'HEX1': 1000, 'HGt': 1000, 'GUI2': 1000, 'DUTPDP': 1000, 'HACD2': 1000, 'HACD1_1': 1000, 'HEXTT': 1000, 'HIBD': 1000, 'HEMEAS': 1000, 'DXPRIi': 1000, 'HISDr': 1000, 'HISTD': 1000, 'LAAL17': 1000, 'DXPS': 1000, 'LAAL18': 1000, 'LAAL19': 1000, 'HISTP': 1000, 'HKM1PP': 1000, 'LAAL2': 1000, 'Kt2r': 1000, 'LAAL20': 1000, 'LAAL21': 1000, 'LAAL22': 1000, 'HISt2r': 1000, 'HMBS': 1000, 'HMGCOAS': 1000, 'LAAL23': 1000, 'ECOAH1_1': 1000, 'LAAL24': 1000, 'Kt3r': 1000, 'HMGL': 1000, 'HOXPRx': 1000, 'HMPK1': 1000, 'ECOAH2': 1000, 'HP5CD_1': 1000, 'Kt1': 1000, 'HPPK': 1000, 'LAAL25': 1000, 'ECOAH2c': 1000, 'LAAF': 1000, 'LAAL1': 1000, 'HSDy': 1000, 'HSK': 1000, 'HSST': 1000, 'LAAL10': 1000, 'LAAL11': 1000, 'HXAD': 1000, 'ECOAH3': 1000, 'HSTPTr': 1000, 'LAAL12': 1000, 'LAAL13': 1000, 'ECOAH4': 1000, 'LAAL14': 1000, 'LAAL15': 1000, 'LAAL16': 1000, 'LAAL26': 1000, 'LAAL27': 1000, 'ICDHyr': 1000, 'ICHORT': 1000, 'IG3PS_1': 1000, 'IGPDH_1': 1000, 'IGPS': 1000, 'ILEDHr': 1000, 'IMPD': 1000, 'ILETA': 1000, 'ILEt2r': 1000, 'LAAL28': 1000, 'LAAL29': 1000, 'ECOAH5_1': 1000, 'LAAL3': 1000, 'LAAL30': 1000, 'INS2D': 1000, 'ECOAH6': 1000, 'INSTt2': 1000, 'IPDPUPT': 1000, 'LANTHabc': 1000, 'LIPO1S24_BS': 1000, 'IPMD': 1000, 'ECOAH7': 1000, 'IPPS': 1000, 'IZPN_1': 1000, 'LIPO2S24_BS': 1000, 'LIPO4S24_BS': 1000, 'LIPTabc': 1000, 'IPPMIa': 1000, 'IPPMIb': 1000, 'KARA1': 1000, 'KARA2': 1000, 'LYSLG_BS': 1000, 'MALTTRabc': 1000, 'MAL_Dt2': 1000, 'MAN1Pt6': 1000, 'MAN6Pt6': 1000, 'KAS1': 1000, 'LAAL31': 1000, 'ECOAH9ir': 1000, 'EDA': 1000, 'MANAO': 1000, 'METt3': 1000, 'ENO': 1000, 'MELIBt2': 1000, 'NACt': 1000, 'MALt2r': 1000, 'ETHAt6': 1000, 'MECDPS': 1000, 'NMNHYD': 1000, 'LCYSTabc': 1000, 'MANt2': 1000, 'LLEUDr': 1000, 'L_LACt2r': 1000, 'MTAN': 1000, 'MOPSabc': 1000, 'MLTG1': 1000, 'NAPRT': 1000, 'MLTG2': 1000, 'LAAL32': 1000, 'LEUTA': 1000, 'METS': 1000, 'LEUt2r': 1000, 'O2t': 1000, 'LAAL33': 1000, 'LACZ': 1000, 'LIPO3S24_BS': 1000, 'METSR_R1': 1000, 'METSR_R2': 1000, 'METSabc': 1000, 'METDabc': 1000, 'METabc': 1000, 'METSR_S1': 1000, 'METSR_S2': 1000, 'METTRS': 1000, 'MGSA': 1000, 'LYSAM': 1000, 'OMCDC': 1000, 'LCTSabc': 1000, 'MGt5': 1000, 'PALAt2': 1000, 'MMSAD2': 1000, 'MI1PP': 1000, 'LDH2': 1000, 'LDH_L': 1000, 'PAP_BS': 1000, 'LYSDC': 1000, 'MCITL2': 1000, 'PEPt6': 1000, 'MMSAD3': 1000, 'PGL': 1000, 'MMSDHir': 1000, 'MMSAD1': 1000, 'MNNH': 1000, 'LYSt3r': 1000, 'MAN6PI': 1000, 'M1PD': 1000, 'MAL6PG': 1000, 'MALT': 1000, 'MNabc': 1000, 'MNt2': 1000, 'MOHMT': 1000, 'MPL': 1000, 'MOBDabc': 1000, 'MTHFC': 1000, 'MALTATr': 1000, 'MCA': 1000, 'MTHFD': 1000, 'PGPPH_BS': 1000, 'MTHFR3': 1000, 'MALTabc': 1000, 'MALTpts': 1000, 'MALt10': 1000, 'MCITS': 1000, 'OXGDC': 1000, 'MALt4': 1000, 'MCSNAH': 1000, 'MTRI': 1000, 'MTRK': 1000, 'NADK': 1000, 'NADK1': 1000, 'NADH4': 1000, 'MDH': 1000, 'NADK2': 1000, 'ORNTAC_1': 1000, 'NADK3': 1000, 'MDRPD': 1000, 'MALDDH': 1000, 'ME2': 1000, 'NADK4': 1000, 'BGLA1': 1000, 'NADK5': 1000, 'NADS1': 1000, 'NAt3_1': 1000, 'NAabcO': 1000, 'MECDPDH2': 1000, 'MEPCT': 1000, 'METAT': 1000, 'NDPK7': 1000, 'PENCAC': 1000, 'NDPK3': 1000, 'NDPK4': 1000, 'PAPSR': 1000, 'NDPK5': 1000, 'PMDPHT': 1000, 'ORNt2': 1000, 'PPAt6': 1000, 'PPIabc': 1000, 'NDPK6': 1000, 'NDPK1': 1000, 'NDPK2': 1000, 'PPTGS_BS': 1000, 'PGMT_B': 1000, 'PPTT': 1000, 'PSER_Dt6': 1000, 'PSER_Lt6': 1000, 'RAFFINt2': 1000, 'PGI': 1000, 'RHCYS': 1000, 'P5CD': 1000, 'RIBFLVt2': 1000, 'NDPK9': 1000, 'RMNt': 1000, 'PYRt2': 1000, 'PYNP1': 1000, 'PHETA1': 1000, 'NDPK8': 1000, 'PYNP2r': 1000, 'RMPA': 1000, 'SALADC2': 1000, 'NH4t': 1000, 'DSERt2': 1000, 'SERt2r': 1000, 'PTAr': 1000, 'PMPK': 1000, 'SORD_D': 1000, 'NMNAT': 1000, 'SRB_Lt': 1000, 'PTA2': 1000, 'PHYT3': 1000, 'NNATr': 1000, 'PIabc': 1000, 'SO4t2': 1000, 'NNAM': 1000, 'SARCOX': 1000, 'PIt2r': 1000, 'PIt7': 1000, 'SUCR': 1000, 'NNDPR': 1000, 'PMANM': 1000, 'SALCpts': 1000, 'NO2t2r': 1000, 'NPHS': 1000, 'RBK': 1000, 'NO2t3': 1000, 'PNTEH': 1000, 'NO3t2': 1000, 'PNTK': 1000, 'RBK_Dr': 1000, 'RIBabc': 1000, 'NTR3B': 1000, 'SUCCt2r': 1000, 'Q23DO': 1000, 'PNP': 1000, 'QULNS': 1000, 'RBFK': 1000, 'APNPT': 1000, 'PNTOt2': 1000, 'PPA': 1000, 'PPBNGS': 1000, 'PPNCL': 1000, 'RBK_L1': 1000, 'RBFSa': 1000, 'PPCDC': 1000, 'PPCK': 1000, 'OCBT_1': 1000, 'PPM': 1000, 'PPCOAC': 1000, 'RBFSb': 1000, 'RBP4E': 1000, 'RMI': 1000, 'RMK': 1000, 'PPM2': 1000, 'PPND': 1000, 'RNDR4': 1000, 'NTRIR2x': 1000, 'RPE': 1000, 'RPI': 1000, 'SADT': 1000, 'PPNDH': 1000, 'PPPGO': 1000, 'PPS': 1000, 'PRAGSr': 1000, 'PRAIi': 1000, 'SBTD_D2': 1000, 'SBTt2': 1000, 'SDPDS': 1000, 'SERAT': 1000, 'SERD_D': 1000, 'SHCHD2_1': 1000, 'PRAIS_1': 1000, 'PRATPP': 1000, 'PRASCSi': 1000, 'PRFGS_1': 1000, 'PRMICI': 1000, 'SERD_L': 1000, 'SHCHF_2': 1000, 'OMPDC': 1000, 'SHK3Dr': 1000, 'SHKK': 1000, 'SHSL1': 1000, 'URATEt_1': 1000, 'PRO1x': 1000, 'PRPPS': 1000, 'SHSL2': 1000, 'OCOAT1': 1000, 'SHSL3': 1000, 'SHSL4r': 1000, 'PROt2r': 1000, 'PSCVT': 1000, 'PSDC_BS': 1000, 'SLCYSS': 1000, 'ORNTA_1': 1000, 'SPODM': 1000, 'PSERT': 1000, 'PSP_D': 1000, 'PTHPS': 1000, 'SPMDAT1': 1000, 'ORPT': 1000, 'SPMDAT3': 1000, 'SPMDt3i': 1000, 'SPRMS': 1000, 'SPMS': 1000, 'PTPATi': 1000, 'PYK': 1000, 'PUNP5': 1000, 'PUNP6': 1000, 'PURabc1': 1000, 'PYRIS': 1000, 'OIVD1r': 1000, 'EX_f6p_e': 1000, 'SSALy': 1000, 'SUCBZL': 1000, 'SUCBZS': 1000, 'TGBPA': 1000, 'SUCD1': 1000, 'OIVD2': 1000, 'SUCD5_BS': 1000, 'SUCOAS': 1000, 'THIOGabc': 1000, 'THMt6': 1000, 'OIVD3': 1000, 'THRt2r': 1000, 'P5CR': 1000, 'TMPHi': 1000, 'UREAt': 1000, 'TMPt6': 1000, 'OXADC': 1000, 'TYRt2r': 1000, 'UGLYCH': 1000, 'UMPt6': 1000, 'SULAabc': 1000, 'TAURabc': 1000, 'TRPAS1': 1000, 'THMDt2': 1000, 'TMDK1': 1000, 'TMDPP': 1000, 'UAGDP': 1000, 'TARTDC': 1000, 'TYRTA': 1000, 'TECA1S45': 1000, 'TARTRDH': 1000, 'TAGURr': 1000, 'SULR_1': 1000, 'TALA': 1000, 'THRD': 1000, 'TECA4S_BS': 1000, 'TEICH45': 1000, 'THRD_L': 1000, 'THRS': 1000, 'TKT1': 1000, 'TKT2': 1000, 'TMN': 1000, 'TMDS': 1000, 'TMPK': 1000, 'TMPPP': 1000, 'TPI': 1000, 'TRDR': 1000, 'TRE6PH': 1000, 'TRPt2r': 1000, 'TRPS1': 1000, 'UAAGDS': 1000, 'UAG2E': 1000, 'UAG2EMA': 1000, 'UDPG4E': 1000, 'UAGPT3': 1000, 'UAG4E': 1000, 'UAGCVT': 1000, 'UAMAGS': 1000, 'UAMAS': 1000, 'UAPGR': 1000, 'UDCPDP': 1000, 'UDPGD': 1000, 'UGMDDS': 1000, 'UGT1_BS': 1000, 'UGT2_BS': 1000, 'UGT_BS': 1000, 'UNK5': 1000, 'UPP3S': 1000, 'UPP3MT_2': 1000, 'ALDD9': 1000, 'FRUpts': 1000, 'CYTDt2': 1000, 'GLYBabc': 1000, 'ACLS': 1000, 'ACHBS': 1000, 'X00002': 1000, 'NTD8': 1000, '23CN2P1': 1000, '23CN2P2': 1000, '23CN2P3': 1000, '23CN2P4': 1000, 'NTD6': 1000, 'NTD9': 1000, 'NTD1': 1000, 'NTD10': 1000, 'NTD2': 1000, '3NUCLE1': 1000, '3NUCLE2': 1000, '3NUCLE3': 1000, '3NUCLE4': 1000, 'NTD3': 1000, 'NTD4': 1000, 'NTD5': 1000, 'NTD7': 1000, 'ABUTt2r': 1000, 'BALAt2r': 1000, 'S6PG': 1000, 'URIK3': 1000, 'LCADi': 1000, 'XTSNt2': 1000, 'XYLt2': 1000, 'ZN2t4': 1000, 'URIK1': 1000, 'URIK2': 1000, 'URIt2': 1000, 'UPPRT': 1000, 'XPPT': 1000, 'HXAND': 1000, 'URIDK2r_copy2': 1000, 'VALDHr': 1000, 'VALTA': 1000, 'VALt2r': 1000, 'UMPK': 1000, 'XYL14BASE': 1000, 'UPPDC1': 1000, 'URAt2': 1000, 'URCN': 1000, 'URIDK2r_copy1': 1000, 'UREA': 1000, 'XAND': 1000, 'URIC': 1000, 'XYLI1': 1000, 'XANt2': 1000, 'XYLI2': 1000, 'XYLK': 1000, 'ZNabc': 1000, 'ALDD10': 1000, 'ALDD11': 1000, 'ALDD12': 1000, 'ALDD13': 1000, 'ALDD14': 1000, 'ALDD15': 1000, 'ALDD16': 1000, 'ALDD17': 1000, 'ALDD18': 1000, 'ALDD1': 1000, 'ALDD20x_1': 1000, 'ALDD2x': 1000, 'ALDD3': 1000, 'GLXO1': 1000, 'ALDD31_1': 1000, 'ALDD32': 1000, 'ALDD4': 1000, 'ALDD4x': 1000, 'ALDD5': 1000, 'ALDD6': 1000, 'ALDD7': 1000, 'ALDD8': 1000, 'GLYALDDr': 1000, 'DIPEPabc12': 1000, 'DIPEPabc13': 1000, 'DIPEPabc14': 1000, 'DIPEPabc15': 1000, 'DIPEPabc2': 1000, 'DIPEPabc3': 1000, 'DIPEPabc4': 1000, 'DIPEPabc5': 1000, 'DIPEPabc6': 1000, 'DIPEPabc7': 1000, 'DIPEPabc8': 1000, 'DIPEPabc9': 1000, 'RIBabc1': 1000, 'FRUK': 1000, 'FACOAL140': 1000, 'FACOAL140_ISO': 1000, 'FACOAL150_ISO': 1000, 'PPAKr': 1000, 'ACOAD3': 1000, 'ACOAD4_1': 1000, 'ACOAD5_1': 1000, 'ACOAD6': 1000, 'ACOAD7': 1000, 'DADNK': 1000, 'CSNt2': 1000, 'INSt2': 1000, 'DHAD3': 1000, 'CELBpts': 1000, 'MSO3abc': 1000, 'ISTNTabc': 1000, 'CTBTabc': 1000, 'CHLabc': 1000, 'CITt15': 1000, 'CHOLSabc_1': 1000, 'ECTOINEabc': 1000, 'ITCY': 1000, 'PROLBabc': 1000, 'GLCpts': 1000, 'MANpts': 1000, 'MNLpts': 1000, 'DIPEPabc10': 1000, 'DIPEPabc11': 1000, 'SUCpts': 1000, 'TREpts': 1000, 'FERRICHabc': 1000, 'GPDDA2': 1000, 'HACD3': 1000, 'HACD4': 1000, 'HACD5': 1000, 'HACD6': 1000, 'HACD7': 1000, 'HACD9': 1000, 'HACOADr': 1000, 'ICHORS': 1000, 'INSCR': 1000, 'FACOAL161_ISO': 1000, 'FACOAL170_ISO': 1000, 'FACOAL170_anteiso': 1000, 'FACOAL171_ISO': 1000, 'FACOAL171_anteiso': 1000, 'FACOAL180_2': 1000, 'FACOAL181': 1000, 'KAS13': 1000, 'KAS17': 1000, 'FACOAL150_anteiso': 1000, 'FACOAL160': 1000, 'FACOAL160_ISO': 1000, 'FACOAL161': 1000, 'KAS2': 1000, 'KAS3': 1000, 'KAS4': 1000, 'KAS5': 1000, 'KAS6': 1000, 'KAS7': 1000, 'KAS8': 1000, 'KAS9': 1000, 'KAS10': 1000, 'KAS11': 1000, 'PUNP7': 1000, 'PUNP8': 1000, 'PUNP1': 1000, 'PUNP2': 1000, 'KAS12': 1000, 'LAAL34': 1000, 'LAAL35': 1000, 'LAAL36': 1000, 'LAAL37': 1000, 'LAAL38': 1000, 'LAAL39': 1000, 'PANTS': 1000, 'LAAL4': 1000, 'LAAL40': 1000, 'LAAL41': 1000, 'LAAL42': 1000, 'PAPPT3': 1000, 'LAAL5': 1000, 'LAAL6': 1000, 'PC': 1000, 'LAAL7': 1000, 'LAAL8': 1000, 'LAAL9': 1000, 'PBUTT': 1000, 'MLTG3': 1000, 'MLTG4': 1000, 'PDH': 1000, 'MLTG5': 1000, 'MLTG6': 1000, 'MLTG7': 1000, 'PFK_2': 1000, 'TARTRDH2': 1000, 'PUNP3': 1000, 'PUNP4': 1000, 'PFK': 1000, 'METSRabc': 1000, 'PRAMPC_1': 1000, 'PSP_L': 1000, 'PGAMT': 1000, 'TECA2S45': 1000, 'RNDR1': 1000, 'PGMT': 1000, 'RNDR2': 1000, 'PGCD': 1000, 'RNDR3': 1000, 'TECA3S45': 1000, 'GND': 1000, 'PGK': 1000, 'PGLYCP': 1000, 'PGM': 1000, 'PHCYT_BS': 1000, 'EX_pro_L_e_reverse': 1000, 'EX_glu_L_e_reverse': 1000, 'EX_tyr_L_e_reverse': 1000, 'EX_thr_L_e_reverse': 1000, 'EX_ala_L_e_reverse': 1000, 'EX_gln_L_e_reverse': 1000, 'EX_ile_L_e_reverse': 1000, 'pro_L_e_tr': 1000, 'glu_L_e_tr': 1000, 'tyr_L_e_tr': 1000, 'thr_L_e_tr': 1000, 'ala_L_e_tr': 1000, 'gln_L_e_tr': 1000, 'ile_L_e_tr': 1000, 'EX_sucr_e_reverse': 1000, 'THRR': 1000, 'Fengycin': 1000, 'fycpp_reverse': 1000, 'EX_fyc_e': 1000, 'EX_fe3_e_reverse': 1000, 'EX_glc__D_e_reverse': 1000, 'EX_ca2_e_reverse': 1000, 'EX_so4_e_reverse': 1000, 'EX_co2_e_reverse': 1000, 'EX_h2o_e_reverse': 1000, '3UMPt6_reverse': 1000, 'EX_h_e_reverse': 1000, '5MTRt2_reverse': 1000, '6PGCt6_reverse': 1000, '2HXMPt6_reverse': 1000, '2PGLYCt6_reverse': 1000, '2PGt6_reverse': 1000, '3AMPt6_reverse': 1000, '3CMPt6_reverse': 1000, '3GMPt6_reverse': 1000, '3PGt6_reverse': 1000, 'ABTt_1_reverse': 1000, 'PHEt2r_reverse': 1000, 'ACACt2_reverse': 1000, 'ABTA_reverse': 1000, 'EX_k_e_reverse': 1000, 'FBA_reverse': 1000, 'FBA2_reverse': 1000, 'MACCOAT_reverse': 1000, 'ACACT2r_reverse': 1000, 'ACACT3r_reverse': 1000, 'ACACT4r_reverse': 1000, 'ACACT5r_1_reverse': 1000, 'ACACT6r_1_reverse': 1000, 'ACACT7r_reverse': 1000, 'ACACT1r_reverse': 1000, 'ACNPLYS_reverse': 1000, 'ACt2r_reverse': 1000, 'ACKr_reverse': 1000, 'ALLTAHr_reverse': 1000, 'AMPt6_reverse': 1000, 'ACONT_reverse': 1000, 'ACOAD2_reverse': 1000, 'ACOAD1_reverse': 1000, 'ARABDI_reverse': 1000, 'ARAB_Dt_reverse': 1000, 'ACOTA_reverse': 1000, 'ARGKr_reverse': 1000, 'ARGPt6_reverse': 1000, 'ALKP_reverse': 1000, 'ALCD19_L_reverse': 1000, 'ALCD2y_reverse': 1000, 'ARABRr_reverse': 1000, 'ARAI_reverse': 1000, 'ADK1_reverse': 1000, 'EX_mg2_e_reverse': 1000, 'ADK2_reverse': 1000, 'AMAOTr_reverse': 1000, 'ADMDC_reverse': 1000, 'ADNt2_reverse': 1000, 'ADPDA_reverse': 1000, 'ADSK_reverse': 1000, 'ADSL2r_reverse': 1000, 'ADSL1r_reverse': 1000, 'ARGSL_reverse': 1000, 'ARGSS_reverse': 1000, 'AGPATr_BS_reverse': 1000, 'AGPR_reverse': 1000, 'AHSERL3_reverse': 1000, 'AHSERL4_reverse': 1000, 'EX_na1_e_reverse': 1000, 'AICART_reverse': 1000, 'EX_nh4_e_reverse': 1000, 'BTDt6_RR_reverse': 1000, 'CHORt2_reverse': 1000, 'ALAALAr_reverse': 1000, 'ALAR_reverse': 1000, 'ALATA_L_reverse': 1000, 'CMPt6_reverse': 1000, 'CO2t_reverse': 1000, 'ALCD19y_reverse': 1000, 'EX_o2_e_reverse': 1000, 'ASAD_reverse': 1000, 'ASPK_reverse': 1000, 'DHAt_reverse': 1000, 'ASPTA_reverse': 1000, 'ATPPRT_reverse': 1000, 'DADK_reverse': 1000, 'ATPS4r_reverse': 1000, 'EX_pi_e_reverse': 1000, 'BTDD_RR_reverse': 1000, 'BLACT_reverse': 1000, 'BUTKr_reverse': 1000, 'CAt4_reverse': 1000, 'DTMPt6_reverse': 1000, 'CYTK1_reverse': 1000, 'CYTK2_reverse': 1000, 'CYTOM_reverse': 1000, 'CITt2r_reverse': 1000, 'DAPE_reverse': 1000, 'FOLt_reverse': 1000, 'DDGLCNt2r_reverse': 1000, 'DGK1_reverse': 1000, 'DHBD_reverse': 1000, 'G5SADs_reverse': 1000, 'FOLR2_reverse': 1000, 'DHFR_reverse': 1000, 'GAM6Pt_reverse': 1000, 'DHORTS_reverse': 1000, 'DHORDi_reverse': 1000, 'GK1_reverse': 1000, 'GK2_reverse': 1000, 'DHQTi_reverse': 1000, 'GLYt2r_reverse': 1000, 'GMPt6_reverse': 1000, 'H2Ot_reverse': 1000, 'HCO3E_reverse': 1000, 'FMNAT_reverse': 1000, 'FORt2_reverse': 1000, 'GSNt2_reverse': 1000, 'GLYBt2r_reverse': 1000, 'FUM_reverse': 1000, 'DKI_reverse': 1000, 'FUMt2r_reverse': 1000, 'G1PACT_reverse': 1000, 'G3PD1ir_reverse': 1000, 'G6PI_reverse': 1000, 'GLGC_reverse': 1000, 'GLTPD_reverse': 1000, 'GALT_reverse': 1000, 'GALUi_reverse': 1000, 'DM1PE_reverse': 1000, 'GLUR_reverse': 1000, 'GLYAT_reverse': 1000, 'GHMT2r_reverse': 1000, 'GLYCLTt2r_reverse': 1000, 'HQNt6_reverse': 1000, 'ISOMS_reverse': 1000, 'GLYCt_reverse': 1000, 'DRBK_reverse': 1000, 'GNKr_reverse': 1000, 'IMPC_reverse': 1000, 'ICITt2_reverse': 1000, 'DRPA_reverse': 1000, 'IPDDI_reverse': 1000, 'GTHPe_reverse': 1000, 'DTMPK_reverse': 1000, 'HXPRT_reverse': 1000, 'GUAPRT_reverse': 1000, 'GUI1_reverse': 1000, 'DURIPP_reverse': 1000, 'HGt_reverse': 1000, 'GUI2_reverse': 1000, 'HACD2_reverse': 1000, 'HACD1_1_reverse': 1000, 'HISDr_reverse': 1000, 'HMGCOAS_reverse': 1000, 'ECOAH1_1_reverse': 1000, 'HOXPRx_reverse': 1000, 'ECOAH2_reverse': 1000, 'Kt1_reverse': 1000, 'ECOAH2c_reverse': 1000, 'HSDy_reverse': 1000, 'HSST_reverse': 1000, 'ECOAH3_reverse': 1000, 'HSTPTr_reverse': 1000, 'ECOAH4_reverse': 1000, 'ICDHyr_reverse': 1000, 'ILEDHr_reverse': 1000, 'ILETA_reverse': 1000, 'ECOAH5_1_reverse': 1000, 'ECOAH6_reverse': 1000, 'ECOAH7_reverse': 1000, 'IPPMIa_reverse': 1000, 'IPPMIb_reverse': 1000, 'KARA1_reverse': 1000, 'KARA2_reverse': 1000, 'MAN1Pt6_reverse': 1000, 'MAN6Pt6_reverse': 1000, 'ECOAH9ir_reverse': 1000, 'MANAO_reverse': 1000, 'ENO_reverse': 1000, 'ETHAt6_reverse': 1000, 'NMNHYD_reverse': 1000, 'LLEUDr_reverse': 1000, 'L_LACt2r_reverse': 1000, 'NAPRT_reverse': 1000, 'LEUTA_reverse': 1000, 'LEUt2r_reverse': 1000, 'O2t_reverse': 1000, 'LYSAM_reverse': 1000, 'MGt5_reverse': 1000, 'LDH2_reverse': 1000, 'LDH_L_reverse': 1000, 'MCITL2_reverse': 1000, 'PEPt6_reverse': 1000, 'LYSt3r_reverse': 1000, 'MAN6PI_reverse': 1000, 'M1PD_reverse': 1000, 'MTHFC_reverse': 1000, 'MCA_reverse': 1000, 'MTHFD_reverse': 1000, 'MCSNAH_reverse': 1000, 'MTRI_reverse': 1000, 'MDH_reverse': 1000, 'ORNTAC_1_reverse': 1000, 'NDPK7_reverse': 1000, 'NDPK3_reverse': 1000, 'NDPK4_reverse': 1000, 'NDPK5_reverse': 1000, 'PPAt6_reverse': 1000, 'NDPK6_reverse': 1000, 'NDPK1_reverse': 1000, 'NDPK2_reverse': 1000, 'PGMT_B_reverse': 1000, 'PSER_Dt6_reverse': 1000, 'PSER_Lt6_reverse': 1000, 'PGI_reverse': 1000, 'RIBFLVt2_reverse': 1000, 'NDPK9_reverse': 1000, 'PYRt2_reverse': 1000, 'PYNP1_reverse': 1000, 'PHETA1_reverse': 1000, 'NDPK8_reverse': 1000, 'PYNP2r_reverse': 1000, 'RMPA_reverse': 1000, 'NH4t_reverse': 1000, 'DSERt2_reverse': 1000, 'PTAr_reverse': 1000, 'SORD_D_reverse': 1000, 'NMNAT_reverse': 1000, 'SRB_Lt_reverse': 1000, 'PTA2_reverse': 1000, 'NNATr_reverse': 1000, 'PIt2r_reverse': 1000, 'PMANM_reverse': 1000, 'RBK_reverse': 1000, 'SUCCt2r_reverse': 1000, 'PNP_reverse': 1000, 'APNPT_reverse': 1000, 'PNTOt2_reverse': 1000, 'OCBT_1_reverse': 1000, 'PPM_reverse': 1000, 'RBP4E_reverse': 1000, 'RMI_reverse': 1000, 'PPM2_reverse': 1000, 'RPE_reverse': 1000, 'RPI_reverse': 1000, 'SADT_reverse': 1000, 'PRAIi_reverse': 1000, 'SERAT_reverse': 1000, 'PRASCSi_reverse': 1000, 'PRMICI_reverse': 1000, 'SHK3Dr_reverse': 1000, 'PRPPS_reverse': 1000, 'OCOAT1_reverse': 1000, 'PSCVT_reverse': 1000, 'SPODM_reverse': 1000, 'PSERT_reverse': 1000, 'ORPT_reverse': 1000, 'SPMDt3i_reverse': 1000, 'PTPATi_reverse': 1000, 'PUNP5_reverse': 1000, 'PUNP6_reverse': 1000, 'OIVD1r_reverse': 1000, 'TGBPA_reverse': 1000, 'SUCD1_reverse': 1000, 'SUCOAS_reverse': 1000, 'THMt6_reverse': 1000, 'UREAt_reverse': 1000, 'TMPt6_reverse': 1000, 'TYRt2r_reverse': 1000, 'UGLYCH_reverse': 1000, 'UMPt6_reverse': 1000, 'TMDPP_reverse': 1000, 'UAGDP_reverse': 1000, 'TYRTA_reverse': 1000, 'TARTRDH_reverse': 1000, 'TAGURr_reverse': 1000, 'SULR_1_reverse': 1000, 'TALA_reverse': 1000, 'TEICH45_reverse': 1000, 'TKT1_reverse': 1000, 'TKT2_reverse': 1000, 'TPI_reverse': 1000, 'UAG2E_reverse': 1000, 'UAG2EMA_reverse': 1000, 'UDPG4E_reverse': 1000, 'UDPGD_reverse': 1000, '23CN2P1_reverse': 1000, '23CN2P2_reverse': 1000, '23CN2P3_reverse': 1000, '23CN2P4_reverse': 1000, '3NUCLE1_reverse': 1000, '3NUCLE2_reverse': 1000, '3NUCLE3_reverse': 1000, '3NUCLE4_reverse': 1000, 'XTSNt2_reverse': 1000, 'URIDK2r_copy2_reverse': 1000, 'VALDHr_reverse': 1000, 'VALTA_reverse': 1000, 'URAt2_reverse': 1000, 'XYLI1_reverse': 1000, 'XANt2_reverse': 1000, 'XYLI2_reverse': 1000, 'FACOAL140_reverse': 1000, 'FACOAL140_ISO_reverse': 1000, 'FACOAL150_ISO_reverse': 1000, 'PPAKr_reverse': 1000, 'ACOAD3_reverse': 1000, 'ACOAD4_1_reverse': 1000, 'ACOAD5_1_reverse': 1000, 'ACOAD6_reverse': 1000, 'ACOAD7_reverse': 1000, 'INSt2_reverse': 1000, 'HACD3_reverse': 1000, 'HACD4_reverse': 1000, 'HACD5_reverse': 1000, 'HACD6_reverse': 1000, 'HACD7_reverse': 1000, 'HACD9_reverse': 1000, 'ICHORS_reverse': 1000, 'FACOAL161_ISO_reverse': 1000, 'FACOAL170_ISO_reverse': 1000, 'FACOAL170_anteiso_reverse': 1000, 'FACOAL171_ISO_reverse': 1000, 'FACOAL171_anteiso_reverse': 1000, 'FACOAL180_2_reverse': 1000, 'FACOAL181_reverse': 1000, 'FACOAL150_anteiso_reverse': 1000, 'FACOAL160_reverse': 1000, 'FACOAL160_ISO_reverse': 1000, 'FACOAL161_reverse': 1000, 'PUNP7_reverse': 1000, 'PUNP8_reverse': 1000, 'PUNP1_reverse': 1000, 'PUNP2_reverse': 1000, 'PBUTT_reverse': 1000, 'TARTRDH2_reverse': 1000, 'PUNP3_reverse': 1000, 'PUNP4_reverse': 1000, 'PGAMT_reverse': 1000, 'PGMT_reverse': 1000, 'PGCD_reverse': 1000, 'GND_reverse': 1000, 'PGK_reverse': 1000, 'PGM_reverse': 1000}\n"
     ]
    }
   ],
   "source": [
    "\n",
    "for r in Concretemodel_Need_Data_original['reaction_list']:\n",
    "    if Concretemodel_Need_Data_original['lb_list'][r]<0:\n",
    "        Concretemodel_Need_Data_original['lb_list'][r]=-1000\n",
    "    elif Concretemodel_Need_Data_original['lb_list'][r]>0:\n",
    "        Concretemodel_Need_Data_original['lb_list'][r]=0\n",
    "    Concretemodel_Need_Data_original['ub_list'][r]=1000\n",
    "    \n",
    "Concretemodel_Need_Data_original['ub_list']['ATPM']=9\n",
    "Concretemodel_Need_Data_original['lb_list']['ATPM']=9\n",
    "print(Concretemodel_Need_Data_original['ub_list'])"
   ]
  },
  {
   "cell_type": "code",
   "execution_count": 6,
   "metadata": {},
   "outputs": [],
   "source": [
    "Concretemodel_Need_Data_original['ub_list']['EX_pro_L_e_reverse']=0\n",
    "\n",
    "Concretemodel_Need_Data_original['ub_list']['EX_sucr_e_reverse']=29\n",
    "#Concretemodel_Need_Data_original['ub_list']['EX_sucr_e_reverse']=146\n",
    "Concretemodel_Need_Data_original['ub_list']['EX_glc__D_e_reverse']=0\n",
    "\n",
    "Concretemodel_Need_Data_original['lb_list']['EX_pro_L_e_reverse']=0\n",
    "Concretemodel_Need_Data_original['lb_list']['EX_sucr_e_reverse']=0\n",
    "Concretemodel_Need_Data_original['lb_list']['EX_glc__D_e']=0\n",
    "\n",
    "Concretemodel_Need_Data_original['ub_list']['EX_glu_L_e_reverse']=0\n",
    "Concretemodel_Need_Data_original['ub_list']['EX_tyr_L_e_reverse']=0\n",
    "Concretemodel_Need_Data_original['ub_list']['EX_thr_L_e_reverse']=0\n",
    "Concretemodel_Need_Data_original['ub_list']['EX_ala_L_e_reverse']=0\n",
    "Concretemodel_Need_Data_original['ub_list']['EX_gln_L_e_reverse']=0\n",
    "Concretemodel_Need_Data_original['ub_list']['EX_ile_L_e_reverse']=0\n",
    "\n",
    "Concretemodel_Need_Data_original['lb_list']['EX_glu_L_e_reverse']=0\n",
    "Concretemodel_Need_Data_original['lb_list']['EX_tyr_L_e_reverse']=0\n",
    "Concretemodel_Need_Data_original['lb_list']['EX_thr_L_e_reverse']=0\n",
    "Concretemodel_Need_Data_original['lb_list']['EX_ala_L_e_reverse']=0\n",
    "Concretemodel_Need_Data_original['lb_list']['EX_gln_L_e_reverse']=0\n",
    "Concretemodel_Need_Data_original['lb_list']['EX_ile_L_e_reverse']=0"
   ]
  },
  {
   "cell_type": "markdown",
   "metadata": {},
   "source": [
    "### Output the mean growth rate without product biosynthesis"
   ]
  },
  {
   "cell_type": "code",
   "execution_count": 7,
   "metadata": {},
   "outputs": [
    {
     "name": "stdout",
     "output_type": "stream",
     "text": [
      "Max biomass : 5.1304250450591224\n"
     ]
    }
   ],
   "source": [
    "obj_name='BIOMASS_BS_10'\n",
    "obj_target='maximize'\n",
    "E_total=0.19\n",
    "substrate_name='EX_sucr_e_reverse'\n",
    "substrate_value=29\n",
    "K_value=1249\n",
    "\n",
    "# Calculate the mean growth rate without product biosynthesis\n",
    "max_biomass_under_mdf_original=Max_Growth_Rate_Calculation_FBA(Concretemodel_Need_Data_original,obj_name,obj_target,substrate_name,substrate_value,K_value,'gurobi')\n",
    "print(\"Max biomass : \" +str(max_biomass_under_mdf_original))"
   ]
  },
  {
   "cell_type": "markdown",
   "metadata": {},
   "source": [
    "### Set the biosynthesis pathway expression degree"
   ]
  },
  {
   "cell_type": "code",
   "execution_count": 8,
   "metadata": {},
   "outputs": [],
   "source": [
    "Concretemodel_Need_Data_original['lb_list']['BIOMASS_BS_10'] = 5.13*0.932"
   ]
  },
  {
   "cell_type": "markdown",
   "metadata": {},
   "source": [
    "### Output the mean synthesis rate of target metabolite"
   ]
  },
  {
   "cell_type": "code",
   "execution_count": 9,
   "metadata": {},
   "outputs": [
    {
     "name": "stdout",
     "output_type": "stream",
     "text": [
      "Max synthesis rate of target metabolite :  0.3569698097727826\n"
     ]
    }
   ],
   "source": [
    "obj_name='EX_fyc_e'\n",
    "obj_target='maximize'\n",
    "E_total=0.19\n",
    "substrate_name='EX_sucr_e_reverse'\n",
    "substrate_value=29\n",
    "K_value=1249\n",
    "\n",
    "# Calculate the mean flux of the target metabolite biosynthesis reaction\n",
    "max_biomass_under_mdf_original=Max_Growth_Rate_Calculation_FBA(Concretemodel_Need_Data_original,obj_name,obj_target,substrate_name,substrate_value,K_value,'gurobi')\n",
    "\n",
    "# Calculate the mean concentration of the target metabolite\n",
    "# If the unit of concentration is g/L, we should divide max_biomass_under_mdf_original by the molar mass of the carbon source, and then multiply by the molar mass of the target metabolite\n",
    "# If the unit of concentration is g/L, we should output max_biomass_under_mdf_original\n",
    "print(\"Max synthesis rate of target metabolite :  \" +str(max_biomass_under_mdf_original))"
   ]
  }
 ],
 "metadata": {
  "kernelspec": {
   "display_name": "enzyme",
   "language": "python",
   "name": "enzyme"
  },
  "language_info": {
   "codemirror_mode": {
    "name": "ipython",
    "version": 3
   },
   "file_extension": ".py",
   "mimetype": "text/x-python",
   "name": "python",
   "nbconvert_exporter": "python",
   "pygments_lexer": "ipython3",
   "version": "3.6.5"
  }
 },
 "nbformat": 4,
 "nbformat_minor": 4
}
