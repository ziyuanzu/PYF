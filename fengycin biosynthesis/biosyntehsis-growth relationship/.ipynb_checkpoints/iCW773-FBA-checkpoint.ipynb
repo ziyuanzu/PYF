{
 "cells": [
  {
   "cell_type": "markdown",
   "metadata": {},
   "source": [
    "### Module import"
   ]
  },
  {
   "cell_type": "code",
   "execution_count": 1,
   "metadata": {},
   "outputs": [],
   "source": [
    "from ETGEMs_function_ETG import *"
   ]
  },
  {
   "cell_type": "code",
   "execution_count": 2,
   "metadata": {},
   "outputs": [],
   "source": [
    "import pandas as pd\n",
    "import cobra"
   ]
  },
  {
   "cell_type": "markdown",
   "metadata": {},
   "source": [
    "### Data initialization"
   ]
  },
  {
   "cell_type": "code",
   "execution_count": 3,
   "metadata": {},
   "outputs": [],
   "source": [
    "#Get Reaction G0 from local file_original\n",
    "reaction_g0_file_original = './iCW773-g0.txt'\n",
    "#Get Metabolite concentration from local file\n",
    "metabolites_lnC_file_original = './iCW773-lnC.txt'\n",
    "#Get Model from local file\n",
    "model_file_original = './iCW773_fyc.xml'\n",
    "#Get reaction kcat data from ECMpy\n",
    "reaction_kcat_MW_file_original = './kcat-MW.csv'"
   ]
  },
  {
   "cell_type": "code",
   "execution_count": 4,
   "metadata": {},
   "outputs": [],
   "source": [
    "Concretemodel_Need_Data_original=Get_Concretemodel_Need_Data(reaction_g0_file_original,metabolites_lnC_file_original,model_file_original,reaction_kcat_MW_file_original)"
   ]
  },
  {
   "cell_type": "markdown",
   "metadata": {},
   "source": [
    "### Strain reconstruction"
   ]
  },
  {
   "cell_type": "code",
   "execution_count": 5,
   "metadata": {},
   "outputs": [
    {
     "name": "stdout",
     "output_type": "stream",
     "text": [
      "{'ALAR': 1000, 'ALATA_L': 1000, 'ASNN': 1000, 'ASNS1': 1000, 'ASNS2': 1000, 'ASPT': 1000, 'ASPTA': 1000, 'DAAD': 1000, 'VPAMT': 1000, '2METS': 1000, 'ACHMSC': 1000, 'ACNML': 1000, 'ADNUC': 1000, 'AGDC': 1000, 'ALCD19': 1000, 'ALDD19x': 1000, 'ALDD2x': 1000, 'AMALT1': 1000, 'AMALT2': 1000, 'AMALT3': 1000, 'AMALT4': 1000, 'AMANAPEr': 1000, 'APG': 1000, 'ARAI': 1000, 'BETALDHx': 1000, 'BETALDHy': 1000, 'CBMKr': 1000, 'DHACOAH': 1000, 'DHAPT': 1000, 'DHPTDNRN': 1000, 'DRPA': 1000, 'F6PP': 1000, 'FFSD': 1000, 'FRUK': 1000, 'G3PD2': 1000, 'G3PT': 1000, 'G6PDA': 1000, 'GLCATr': 1000, 'GLCRD': 1000, 'GLYCDx': 1000, 'GLYK': 1000, 'GNK': 1000, 'GUI1': 1000, 'HCO3E': 1000, 'HEX7': 1000, 'HPYRI': 1000, 'HSST_2': 1000, 'HXCT': 1000, 'LYXI': 1000, 'MALGT': 1000, 'MALTATr': 1000, 'MAN1PG': 1000, 'MAN6PI': 1000, 'MCITL2': 1000, 'MM_COA_ADD5': 1000, 'MMM2': 1000, 'MSDH': 1000, 'PFK_2': 1000, 'PGLYCP': 1000, 'PGMT': 1000, 'PMANM': 1000, 'PPASUCC': 1000, 'RBK': 1000, 'SUCptsp': 1000, 'TRE6p': 1000, 'TRE6PP': 1000, 'TRE6PS': 1000, 'UACGAMPpp': 1000, 'UDPARA': 1000, 'UDPG4E': 1000, 'UDPGALPpp': 1000, 'UDPGPpp': 1000, 'UGLCURPpp': 1000, 'XYLI1': 1000, 'XYLI2': 1000, 'XYLK': 1000, 'GALKr': 1000, 'M1PD': 1000, 'MAN2D': 1000, 'MCITD': 1000, 'HDPA1': 1000, 'HDPA2': 1000, 'ICL': 1000, 'MALS': 1000, 'ME1': 1000, 'ME2': 1000, 'PPA': 1000, 'PPA2': 1000, 'PPC': 1000, 'PPCK': 1000, 'ABTA': 1000, 'ACGK': 1000, 'ACGS': 1000, 'ACODA': 1000, 'ACOTA': 1000, 'AGPR': 1000, 'AMPTASEPG': 1000, 'ARGSL': 1000, 'CBPS': 1000, 'CSND': 1000, 'G5SADs': 1000, 'G5SD': 1000, 'GLU5K': 1000, 'GLUNATF': 1000, 'OCBT': 1000, 'ORNC': 1000, 'P5CD': 1000, 'P5CR': 1000, 'PROD2': 1000, 'SPMDAT1': 1000, 'SPMDAT2': 1000, 'SPMS': 1000, 'SSALy': 1000, 'UREAAH': 1000, 'ARGSS': 1000, 'CG_biomass_cgl_ATCC13032': 1000, 'BAMPN': 1000, 'BIOTIN_t': 1000, 'BTNAMP': 1000, '3HAD100': 1000, '3HAD120': 1000, '3HAD121': 1000, '3HAD140': 1000, '3HAD141': 1000, '3HAD160': 1000, '3HAD161': 1000, '3HAD180': 1000, '3HAD181': 1000, '3HAD40': 1000, '3HAD60': 1000, '3HAD80': 1000, '3OAR100': 1000, '3OAR120': 1000, '3OAR140': 1000, '3OAR160': 1000, '3OAR180': 1000, '3OAR40': 1000, '3OAR60': 1000, '3OAR80': 1000, '3OAS100': 1000, '3OAS120': 1000, '3OAS121': 1000, '3OAS140': 1000, '3OAS141': 1000, '3OAS160': 1000, '3OAS161': 1000, '3OAS180': 1000, '3OAS181': 1000, '3OAS60': 1000, '3OAS80': 1000, 'AACPS1': 1000, 'AACPS2': 1000, 'AACPS3': 1000, 'AACPS4': 1000, 'AACPS5': 1000, 'AACPS6': 1000, 'AACPS7': 1000, 'AACPS8': 1000, 'AACPS9': 1000, 'ALAALAr': 1000, 'CDPDAG': 1000, 'CLPN': 1000, 'EAR100x': 1000, 'EAR100y': 1000, 'EAR120x': 1000, 'EAR120y': 1000, 'EAR121x': 1000, 'EAR121y': 1000, 'EAR140x': 1000, 'EAR140y': 1000, 'EAR141x': 1000, 'EAR141y': 1000, 'EAR160x': 1000, 'EAR160y': 1000, 'EAR161x': 1000, 'EAR161y': 1000, 'EAR180x': 1000, 'EAR180y': 1000, 'EAR181x': 1000, 'EAR181y': 1000, 'EAR40x': 1000, 'EAR40y': 1000, 'EAR60x': 1000, 'EAR60y': 1000, 'EAR80x': 1000, 'EAR80y': 1000, 'FA100ACPHi': 1000, 'FA120ACPHi': 1000, 'FA140ACPHi': 1000, 'FA141ACPHi': 1000, 'FA160ACPHi': 1000, 'FA161ACPHi': 1000, 'FA80ACPHi': 1000, 'FACOAL100t2pp': 1000, 'FACOAL120t2pp': 1000, 'FACOAL140t2pp': 1000, 'FACOAL141t2pp': 1000, 'FACOAL160t2pp': 1000, 'FACOAL161t2pp': 1000, 'FACOAL180t2pp': 1000, 'FACOAL181t2pp': 1000, 'FACOAL60t2pp': 1000, 'FACOAL80t2pp': 1000, 'G1PACT': 1000, 'GF6PTA': 1000, 'GLUR': 1000, 'INPTH': 1000, 'MI1PP': 1000, 'PGAMT': 1000, 'PIM': 1000, 'PIT': 1000, 'T2DECAI': 1000, 'TDPGDH': 1000, 'UAAGDS': 1000, 'UAGCVT': 1000, 'UAGDP': 1000, 'UAGPT3': 1000, 'UAMAGS': 1000, 'UAMAS': 1000, 'UAMDH': 1000, 'UDCPDP': 1000, 'UDPGALM': 1000, 'UDPGD': 1000, 'UGMDDS': 1000, '3OAR121': 1000, '3OAR141': 1000, '3OAR161': 1000, '3OAR181': 1000, 'G1PTT': 1000, 'GALUi': 1000, 'PAPPT3': 1000, 'ACONTa': 1000, 'ACONTb': 1000, 'AKGDH': 1000, 'CITL': 1000, 'CS': 1000, 'FRD2': 1000, 'FRD3': 1000, 'FUM': 1000, 'ICDHyr': 1000, 'MDH': 1000, 'MDH2': 1000, 'MDH3': 1000, 'PYRC': 1000, 'SUCOAS': 1000, '2MAHMP': 1000, 'ACBIPGT': 1000, 'ACPS1': 1000, 'ADCL': 1000, 'ADCS': 1000, 'ADOCBIK': 1000, 'ADOCBLS': 1000, 'ALATA_D2': 1000, 'ALATA_L2': 1000, 'AMAOTr': 1000, 'AMMQLT8': 1000, 'AMPMS2': 1000, 'ASP1DC': 1000, 'ASPO5': 1000, 'BMOCOS': 1000, 'BTS4': 1000, 'BWCOS': 1000, 'CDPMEK': 1000, 'CPMPS': 1000, 'CPPPGO': 1000, 'CPPPGO2': 1000, 'DB4PS': 1000, 'DBTS': 1000, 'DHFR': 1000, 'DHFS': 1000, 'DHNCOAS': 1000, 'DHNCOAT': 1000, 'DHPPDA2': 1000, 'DHPS2': 1000, 'DHPTPE': 1000, 'DMATT': 1000, 'DMPPS': 1000, 'DPCOAK': 1000, 'DPR': 1000, 'DXPRIi': 1000, 'DXPS': 1000, 'FCLT': 1000, 'FMNAT': 1000, 'G1SAT': 1000, 'GDPDPK': 1000, 'GDPTPDP': 1000, 'GLUCYS': 1000, 'GLUTRR': 1000, 'GLYOD': 1000, 'GRTT': 1000, 'GTHOr': 1000, 'GTHRDHpp': 1000, 'GTPCI': 1000, 'GTPDPDP': 1000, 'GTPDPK': 1000, 'HETZK': 1000, 'HMBS': 1000, 'HPPK2': 1000, 'ICHORS': 1000, 'IPDDI': 1000, 'IPDPS': 1000, 'LIPAMPL': 1000, 'LIPATPT': 1000, 'LIPOCT': 1000, 'LIPOS': 1000, 'MECDPDH2': 1000, 'MECDPS': 1000, 'MEPCT': 1000, 'MOCOS': 1000, 'MOHMT': 1000, 'MPTAT': 1000, 'MPTS': 1000, 'MPTSS': 1000, 'MSDHD': 1000, 'NADDP': 1000, 'NADK': 1000, 'NADPPPS': 1000, 'NADS1': 1000, 'NNAM': 1000, 'NNDMBRT': 1000, 'NNDPR': 1000, 'NPHS': 1000, 'OCTDPS': 1000, 'OCTNLL': 1000, 'OHPBAT': 1000, 'OMBZLM': 1000, 'PANTS': 1000, 'PMPK': 1000, 'PNTK': 1000, 'PPBNGS': 1000, 'PPCDC': 1000, 'PPGPPDP': 1000, 'PPNCL2': 1000, 'PPPGO': 1000, 'PPPGO3': 1000, 'PTPATi': 1000, 'PY5PSH': 1000, 'PYDAMK': 1000, 'PYDXK': 1000, 'PYDXNK': 1000, 'QULNS': 1000, 'RBFSa': 1000, 'RBFSb': 1000, 'RZ5PP': 1000, 'SEPHCHCS': 1000, 'SUCBZL': 1000, 'TDPDSH': 1000, 'TMPK': 1000, 'TMPPP': 1000, 'TRATF': 1000, 'TYRL': 1000, 'UDCPDPS': 1000, 'UPP3MT': 1000, 'UPP3S': 1000, 'UPPDC1': 1000, 'WCOS': 1000, 'NAMNPP': 1000, 'RBFK': 1000, 'ADSK': 1000, 'AMPTASECG': 1000, 'BPNT': 1000, 'CYSS': 1000, 'MCPST': 1000, 'PAPSR': 1000, 'PAPSR2': 1000, 'SADT2': 1000, 'SERAT': 1000, 'SULRi': 1000, 'EX_26dap_M_e': 1000, 'EX_3amp_e': 1000, 'EX_3cmp_e': 1000, 'EX_3gmp_e': 1000, 'EX_3ump_e': 1000, 'EX_4abut_e': 1000, 'EX_ac_e': 1000, 'EX_acald_e': 1000, 'EX_acgam_e': 1000, 'EX_acgam1p_e': 1000, 'EX_acmana_e': 1000, 'EX_acser_e': 1000, 'EX_ade_e': 1000, 'EX_adn_e': 1000, 'EX_akg_e': 1000, 'EX_ala_L_e': 1000, 'EX_alaala_e': 1000, 'EX_ala_B_e': 1000, 'EX_ala_D_e': 1000, 'EX_amp_e': 1000, 'EX_arg_L_e': 1000, 'EX_asn_L_e': 1000, 'EX_asp_L_e': 1000, 'EX_ca2_e': 1000, 'EX_cgly_e': 1000, 'EX_cit_e': 1000, 'EX_cmp_e': 1000, 'EX_co2_e': 1000, 'EX_cobalt2_e': 1000, 'EX_cu_e': 1000, 'EX_cu2_e': 1000, 'EX_cyan_e': 1000, 'EX_cys_L_e': 1000, 'EX_cytd_e': 1000, 'EX_daD_2_e': 1000, 'EX_damp_e': 1000, 'EX_dcmp_e': 1000, 'EX_dcyt_e': 1000, 'EX_dgmp_e': 1000, 'EX_dgsn_e': 1000, 'EX_dha_e': 1000, 'EX_dimp_e': 1000, 'EX_din_e': 1000, 'EX_dms_e': 1000, 'EX_dmso_e': 1000, 'EX_dtmp_e': 1000, 'EX_dump_e': 1000, 'EX_duri_e': 1000, 'EX_etha_e': 1000, 'EX_etoh_e': 1000, 'EX_f6p_e': 1000, 'EX_fe2_e': 1000, 'EX_fe3_e': 1000, 'EX_for_e': 1000, 'EX_fru_e': 1000, 'EX_fruur_e': 1000, 'EX_fum_e': 1000, 'EX_g1p_e': 1000, 'EX_g3pe_e': 1000, 'EX_g3pg_e': 1000, 'EX_g3pi_e': 1000, 'EX_g3ps_e': 1000, 'EX_g6p_e': 1000, 'EX_gal1p_e': 1000, 'EX_gam_e': 1000, 'EX_gam6p_e': 1000, 'EX_glc_e': 1000, 'EX_glcn_e': 1000, 'EX_glcur_e': 1000, 'EX_glcur1p_e': 1000, 'EX_gln_L_e': 1000, 'EX_glu_L_e': 1000, 'EX_gly_e': 1000, 'EX_glyald_e': 1000, 'EX_glyc_e': 1000, 'EX_glyc_R_e': 1000, 'EX_glyc3p_e': 1000, 'EX_gmp_e': 1000, 'EX_gsn_e': 1000, 'EX_gthrd_e': 1000, 'EX_gua_e': 1000, 'EX_h_e': 1000, 'EX_h2_e': 1000, 'EX_h2o_e': 1000, 'EX_h2s_e': 1000, 'EX_his_L_e': 1000, 'EX_hom_L_e': 1000, 'EX_hxan_e': 1000, 'EX_ile_L_e': 1000, 'EX_imp_e': 1000, 'EX_indole_e': 1000, 'EX_inost_e': 1000, 'EX_ins_e': 1000, 'EX_k_e': 1000, 'EX_lac_D_e': 1000, 'EX_lac_L_e': 1000, 'EX_leu_L_e': 1000, 'EX_lys_L_e': 1000, 'EX_maL_L_e': 1000, 'EX_malt_e': 1000, 'EX_man_e': 1000, 'EX_man6p_e': 1000, 'EX_met_L_e': 1000, 'EX_mg2_e': 1000, 'EX_mn2_e': 1000, 'EX_mnl_e': 1000, 'EX_n2o_e': 1000, 'EX_na1_e': 1000, 'EX_nac_e': 1000, 'EX_nh4_e': 1000, 'EX_ni2_e': 1000, 'EX_nmn_e': 1000, 'EX_no_e': 1000, 'EX_no2_e': 1000, 'EX_no3_e': 1000, 'EX_o2_e': 1000, 'EX_o2s_e': 1000, 'EX_orn_e': 1000, 'EX_orot_e': 1000, 'EX_phe_L_e': 1000, 'EX_pheme_e': 1000, 'EX_pi_e': 1000, 'EX_pnto_R_e': 1000, 'EX_ppa_e': 1000, 'EX_ppt_e': 1000, 'EX_pro_L_e': 1000, 'EX_progly_e': 1000, 'EX_pydx_e': 1000, 'EX_pyr_e': 1000, 'EX_rib_D_e': 1000, 'EX_sbt_D_e': 1000, 'EX_ser_L_e': 1000, 'EX_skm_e': 1000, 'EX_so3_e': 1000, 'EX_so4_e': 1000, 'EX_succ_e': 1000, 'EX_sucr_e': 1000, 'EX_tcynt_e': 1000, 'EX_thr_L_e': 1000, 'EX_thymd_e': 1000, 'EX_tma_e': 1000, 'EX_tmao_e': 1000, 'EX_tre_e': 1000, 'EX_trp_L_e': 1000, 'EX_tsul_e': 1000, 'EX_tyr_L_e': 1000, 'EX_uacgam_e': 1000, 'EX_udpg_e': 1000, 'EX_udpgal_e': 1000, 'EX_udpglcur_e': 1000, 'EX_ump_e': 1000, 'EX_ura_e': 1000, 'EX_urea_e': 1000, 'EX_uri_e': 1000, 'EX_val_L_e': 1000, 'EX_xan_e': 1000, 'EX_xmp_e': 1000, 'EX_xtsn_e': 1000, 'EX_xyL_D_e': 1000, 'EX_zn2_e': 1000, 'ACBCP': 1000, 'BTNC': 1000, '5FTHFC': 1000, 'FOMETRi': 1000, 'FTHFD': 1000, 'GLYCL': 1000, 'MTHFC': 1000, 'MTHFD': 1000, 'MTHFR2': 1000, 'TMDS2': 1000, 'GLNS': 1000, 'GLUDC': 1000, 'GLUDy': 1000, 'GLUN': 1000, 'GLUSy': 1000, 'ACPPAT120': 1000, 'ACPPAT140': 1000, 'ACPPAT141': 1000, 'ACPPAT160': 1000, 'ACPPAT161': 1000, 'ACPPAT180': 1000, 'ACPPAT181': 1000, 'AGPAT120': 1000, 'AGPAT140': 1000, 'AGPAT141': 1000, 'AGPAT160': 1000, 'AGPAT161': 1000, 'AGPAT180': 1000, 'AGPAT181': 1000, 'APH140': 1000, 'DASYN120': 1000, 'DASYN140': 1000, 'DASYN141': 1000, 'DASYN160': 1000, 'DASYN161': 1000, 'DASYN180': 1000, 'DASYN181': 1000, 'G3PAT120': 1000, 'G3PAT140': 1000, 'G3PAT141': 1000, 'G3PAT160': 1000, 'G3PAT161': 1000, 'G3PAT180': 1000, 'G3PAT181': 1000, 'GPDDA2': 1000, 'GPDDA3': 1000, 'GPDDA4': 1000, 'GPDDA5': 1000, 'LPLIPAL1A180pp': 1000, 'PGSA120': 1000, 'PGSA140': 1000, 'PGSA141': 1000, 'PGSA160': 1000, 'PGSA161': 1000, 'PGSA180': 1000, 'PGSA181': 1000, 'GHMT2r': 1000, 'GLYCK2': 1000, 'PGCD': 1000, 'PSERT': 1000, 'PSP_L': 1000, 'SARCOX': 1000, 'SERD_L': 1000, 'ENO': 1000, 'FBA': 1000, 'FBP': 1000, 'GAPD': 1000, 'GLBRAN2': 1000, 'GLCP': 1000, 'GLCP2': 1000, 'GLCS1': 1000, 'GLGC': 1000, 'HEX1': 1000, 'PDH': 1000, 'PFK': 1000, 'PGI': 1000, 'PGK': 1000, 'PGM': 1000, 'PPS': 1000, 'PYK': 1000, 'TPI': 1000, 'GLYCK': 1000, 'ATPPRT': 1000, 'HISTD': 1000, 'HISTP': 1000, 'HSTPT': 1000, 'IG3PS': 1000, 'IGPDH': 1000, 'PRAMPC': 1000, 'PRATPP': 1000, 'PRMICI': 1000, 'PRPPS': 1000, 'CA2t3pp': 1000, 'CAt6pp': 1000, 'COBALT2abcpp': 1000, 'COBALT2tpp': 1000, 'CYANSTpp': 1000, 'FDMO': 1000, 'FE3abcpp': 1000, 'FEROpp': 1000, 'Kabcpp': 1000, 'Kt2pp': 1000, 'Kt3pp': 1000, 'MG2t3_2pp': 1000, 'MG2uabcpp': 1000, 'MN2tpp': 1000, 'NAt3_1p5pp': 1000, 'NAt3_2pp': 1000, 'NAt3pp': 1000, 'NH4tpp': 1000, 'NI2tpp': 1000, 'NI2uabcpp': 1000, 'NO2t2rpp': 1000, 'NO3t7pp': 1000, 'O2tpp': 1000, 'PIt2rpp': 1000, 'PIuabcpp': 1000, 'PPTHpp': 1000, 'SFRD': 1000, 'SO3TRDRD': 1000, 'SULabcpp': 1000, 'ZN2abcpp': 1000, 'ZN2t3pp': 1000, 'ZN2tpp': 1000, 'ZNabcpp': 1000, 'CD2tpp': 1000, 'CU2tpp': 1000, 'FE2tpp': 1000, 'D52DGK': 1000, 'D5GIS': 1000, 'MI1PS': 1000, 'MI2DH': 1000, 'MI2DHT': 1000, 'THCDH': 1000, 'U23GAAT': 1000, 'UAGAAT': 1000, 'ACACT1r': 1000, 'ACCOAC': 1000, 'ACOAD1f': 1000, 'ACOAD2f': 1000, 'ACOAD3f': 1000, 'ACOAD4f': 1000, 'ACOAD5f': 1000, 'ACOAD6f': 1000, 'ACOAD7f': 1000, 'ACOAD8f': 1000, 'ACOATA': 1000, 'KAS14': 1000, 'KAS15': 1000, 'MACPD': 1000, 'MCOATA': 1000, 'TDCM_FREE': 1000, 'TMCM_FREE': 1000, 'ACHACB': 1000, 'AHCYSNS': 1000, 'CYSTL': 1000, 'HSST': 1000, 'METAT': 1000, 'METS': 1000, 'METSOXR1': 1000, 'SHSL1': 1000, 'GLYOX': 1000, 'LGTHL': 1000, 'MCTP1App': 1000, 'MCTP1Bpp': 1000, 'MCTP2App': 1000, 'MDDCP3pp': 1000, 'MDDCP4pp': 1000, 'MDDCP5pp': 1000, 'MPTG': 1000, 'MPTG2': 1000, 'AGM4PApp': 1000, 'NHFRBO': 1000, 'NO3R1bpp': 1000, 'NO3R2bpp': 1000, 'NTRIR3pp': 1000, 'NTRIR4pp': 1000, '3NTD2pp': 1000, '3NTD4pp': 1000, '3NTD7pp': 1000, '3NTD9pp': 1000, 'ADK1': 1000, 'ADK2': 1000, 'ADK3': 1000, 'ADK4': 1000, 'ADNCYC': 1000, 'ADNK1': 1000, 'ADPRDP': 1000, 'ADPT': 1000, 'AMPN': 1000, 'AP5AH': 1000, 'ATPHs': 1000, 'CYTDK2': 1000, 'CYTK1': 1000, 'CYTK2': 1000, 'DCTPD': 1000, 'DGK1': 1000, 'DTMPK': 1000, 'DURIK1': 1000, 'DUTPDP': 1000, 'GK1': 1000, 'GP4GH': 1000, 'GSNHYDRO': 1000, 'GSNK': 1000, 'GTPHs': 1000, 'GUAPRT': 1000, 'HXPRT': 1000, 'INSH': 1000, 'NDPK1': 1000, 'NDPK2': 1000, 'NDPK3': 1000, 'NDPK4': 1000, 'NDPK5': 1000, 'NDPK6': 1000, 'NDPK7': 1000, 'NDPK8': 1000, 'NNATr': 1000, 'NTD1': 1000, 'NTD10': 1000, 'NTD11': 1000, 'NTD12': 1000, 'NTD2': 1000, 'NTD3': 1000, 'NTD4': 1000, 'NTD5': 1000, 'NTD6': 1000, 'NTD7': 1000, 'NTD8': 1000, 'NTD9': 1000, 'NTPP1': 1000, 'NTPP10': 1000, 'NTPP11': 1000, 'NTPP3': 1000, 'NTPP4': 1000, 'NTPP5': 1000, 'NTPP9': 1000, 'NTPTP1': 1000, 'NTPTP2': 1000, 'RNDR1': 1000, 'RNDR1b': 1000, 'RNDR2': 1000, 'RNDR2b': 1000, 'RNDR3': 1000, 'RNDR3b': 1000, 'RNDR4': 1000, 'RNDR4b': 1000, 'RNTR2c': 1000, 'RNTR3c': 1000, 'RNTR4c': 1000, 'TMDS': 1000, 'UMPK': 1000, 'UPPRT': 1000, 'URIDK2r': 1000, 'XTSNH': 1000, 'NTP1': 1000, 'NTP10': 1000, 'NTP11': 1000, 'NTP12': 1000, 'NTP3': 1000, 'NTP5': 1000, 'NTPP2': 1000, 'NTPP6': 1000, 'NTPP7': 1000, 'NTPP8': 1000, 'ATPS4rpp': 1000, 'CAT': 1000, 'CRNCAL2': 1000, 'CRNDCAL2': 1000, 'CTBTCAL2': 1000, 'CYTBD2pp': 1000, 'CYTBDpp': 1000, 'CYTBO3_4pp': 1000, 'DMSOR1pp': 1000, 'DMSOR2pp': 1000, 'FDH4pp': 1000, 'FDH5pp': 1000, 'G3PD5': 1000, 'G3PD6': 1000, 'G3PD7': 1000, 'HYD1pp': 1000, 'HYD2pp': 1000, 'HYD3pp': 1000, 'LDH_D2': 1000, 'NADH10': 1000, 'NADH16pp': 1000, 'NADH17pp': 1000, 'NADH18pp': 1000, 'NADH5': 1000, 'NADH9': 1000, 'NADPHQR2': 1000, 'NADPHQR3': 1000, 'NADPHQR4': 1000, 'NO3R1pp': 1000, 'NO3R2pp': 1000, 'NTRIR2x': 1000, 'POX': 1000, 'PPKr': 1000, 'SPODM': 1000, 'SUCDi': 1000, 'TMAOR1pp': 1000, 'TMAOR2pp': 1000, 'TRDR': 1000, 'L_LACD2': 1000, 'L_LACD3': 1000, 'G6PDH2r': 1000, 'GND': 1000, 'PGL': 1000, 'RPE': 1000, 'RPI': 1000, 'TALA': 1000, 'TKT1': 1000, 'TKT2': 1000, 'ADSL1r': 1000, 'ADSL2r': 1000, 'ADSS': 1000, 'AICART': 1000, 'AIRC2': 1000, 'AIRC3': 1000, 'ASPCT': 1000, 'CTPS2': 1000, 'DHORD2': 1000, 'DHORD5': 1000, 'DHORTS': 1000, 'GARFT': 1000, 'GART': 1000, 'GLUPRT': 1000, 'GMPS2': 1000, 'IMPC': 1000, 'IMPD': 1000, 'OMPDC': 1000, 'ORPT': 1000, 'PRAGSr': 1000, 'PRAIS': 1000, 'PRASCSi': 1000, 'PRFGS': 1000, 'ACALD': 1000, 'ACKr': 1000, 'ALCD2x': 1000, 'FHL': 1000, 'LDH_D': 1000, 'OAADC': 1000, 'PTAr': 1000, 'LDH': 1000, 'ASAD': 1000, 'ASPK': 1000, 'DAPDC': 1000, 'DAPDH': 1000, 'DAPE': 1000, 'DHDPRy': 1000, 'DHDPS': 1000, 'HSDy': 1000, 'HSK': 1000, 'SDPDS': 1000, 'SDPTA': 1000, 'THDPS': 1000, 'THRS': 1000, '26DAHtex': 1000, '3AMPtex': 1000, '3CMPtex': 1000, '3GMPtex': 1000, '3UMPtex': 1000, 'ABUTt2pp': 1000, 'ABUTtex': 1000, 'ACACtex': 1000, 'ACALDtpp': 1000, 'ACGAM1Ptex': 1000, 'ACGAptspp': 1000, 'ACGAtex': 1000, 'ACMANAptspp': 1000, 'ACMANAtex': 1000, 'ACMUMptspp': 1000, 'ACSERtex': 1000, 'ACt2rpp': 1000, 'ADEt2rpp': 1000, 'ADNt2rpp': 1000, 'ADOCBLabcpp': 1000, 'AKGt2rpp': 1000, 'ALAabcpp': 1000, 'ALAALAabcpp': 1000, 'ALAALAtex': 1000, 'ALAtex': 1000, 'AMPtex': 1000, 'ARBabcpp': 1000, 'ARBt2rpp': 1000, 'ARBt3ipp': 1000, 'ARBTptspp': 1000, 'ARGabcpp': 1000, 'ARGORNt7pp': 1000, 'ARGt3pp': 1000, 'ASCBptspp': 1000, 'ASNabcpp': 1000, 'ASNt2rpp': 1000, 'ASPabcpp': 1000, 'ASPt2pp': 1000, 'ASPt2rpp': 1000, 'BALAt2pp': 1000, 'BALAtex': 1000, 'BCCPE': 1000, 'CGLYabcpp': 1000, 'CGLYtex': 1000, 'CHTBSptspp': 1000, 'CITt3pp': 1000, 'CITt7pp': 1000, 'CITtex': 1000, 'CLt3_2pp': 1000, 'CRNabcpp': 1000, 'CRNDabcpp': 1000, 'CRNDt2rpp': 1000, 'CRNt2rpp': 1000, 'CRNt8pp': 1000, 'CTBTabcpp': 1000, 'CTBTt2rpp': 1000, 'CUt3': 1000, 'CUtex': 1000, 'CYANtex': 1000, 'CYSabc2pp': 1000, 'CYSabcpp': 1000, 'CYStpp': 1000, 'CYTDt2pp': 1000, 'CYTDt2rpp': 1000, 'DADNtex': 1000, 'DALAt2pp': 1000, 'DALAtex': 1000, 'DAMPtex': 1000, 'DAPabcpp': 1000, 'DCMPtex': 1000, 'DCYTtex': 1000, 'DGMPtex': 1000, 'DGSNtex': 1000, 'DHAtpp': 1000, 'DIMPtex': 1000, 'DINStex': 1000, 'D_LACt2pp': 1000, 'DMSOtex': 1000, 'DMStex': 1000, 'DSERt2pp': 1000, 'DTMPtex': 1000, 'DUMPtex': 1000, 'DURIt2pp': 1000, 'DURItex': 1000, 'ETHAtex': 1000, 'ETOHtrpp': 1000, 'EX_biomass': 1000, 'EX_BIOTIN': 1000, 'EX_cl': 1000, 'F6Pt6_2pp': 1000, 'F6Ptex': 1000, 'FE3DHBZStonex': 1000, 'FE3tex': 1000, 'FRUpts2pp': 1000, 'FRUtex': 1000, 'FRUURt2rpp': 1000, 'FUMt2_2pp': 1000, 'FUMt2_3pp': 1000, 'FUMtex': 1000, 'G1Ptex': 1000, 'G3PCabcpp': 1000, 'G3PEabcpp': 1000, 'G3PEtex': 1000, 'G3PGabcpp': 1000, 'G3PGtex': 1000, 'G3PIabcpp': 1000, 'G3PItex': 1000, 'G3PSabcpp': 1000, 'G3PStex': 1000, 'G6Pt6_2pp': 1000, 'G6Ptex': 1000, 'GAL1Ptex': 1000, 'GALTptspp': 1000, 'GAM6Pt6_2pp': 1000, 'GAMAN6Ptex': 1000, 'GAMptspp': 1000, 'GAMtex': 1000, 'GLCabcpp': 1000, 'GLCNt2rpp': 1000, 'GLCptspp': 1000, 'GLCUR1Ptex': 1000, 'GLCURt2rpp': 1000, 'GLNabcpp': 1000, 'GLNt2rpp': 1000, 'GLUabcpp': 1000, 'GLUt4pp': 1000, 'GLUtex': 1000, 'GLYALDtpp': 1000, 'GLYBabcpp': 1000, 'GLYBt2pp': 1000, 'GLYC2Pabcpp': 1000, 'GLYC3Pabcpp': 1000, 'GLYC3Pt6pp': 1000, 'GLYC3Ptex': 1000, 'GLYCAt2rpp': 1000, 'GLYCtpp': 1000, 'GLYtex': 1000, 'GMPtex': 1000, 'GSNt2pp': 1000, 'GSNtex': 1000, 'GTHRDabc2pp': 1000, 'GTHRDabcpp': 1000, 'GTHRDtex': 1000, 'GUAt2pp': 1000, 'GUAtpp': 1000, 'H2Otpp': 1000, 'H2St1pp': 1000, 'H2Stex': 1000, 'H2tpp': 1000, 'HISabcpp': 1000, 'HISt2rpp': 1000, 'HOMt2pp': 1000, 'HOMtex': 1000, 'HYXNtpp': 1000, 'ILEabcpp': 1000, 'ILEt2rpp': 1000, 'INDOLEt2pp': 1000, 'INDOLEt2rpp': 1000, 'INSt2pp': 1000, 'INSt2rpp': 1000, 'LEUabcpp': 1000, 'LEUt2rpp': 1000, 'L_LACt2rpp': 1000, 'LYSabcpp': 1000, 'LYSt2pp': 1000, 'LYSt3pp': 1000, 'MALt3pp': 1000, 'MALTabcpp': 1000, 'MALTptspp': 1000, 'MAN6Pt6_2pp': 1000, 'MANptspp': 1000, 'METabcpp': 1000, 'METt2rpp': 1000, 'MNLptspp': 1000, 'MNt2pp': 1000, 'NACtpp': 1000, 'NAtex': 1000, 'NMNt7pp': 1000, 'NO3tex': 1000, 'NOtex': 1000, 'O2Stex': 1000, 'ORNabcpp': 1000, 'OROTt2_2pp': 1000, 'PA120abcpp': 1000, 'PA140abcpp': 1000, 'PA141abcpp': 1000, 'PA160abcpp': 1000, 'PA161abcpp': 1000, 'PA180abcpp': 1000, 'PA181abcpp': 1000, 'PGP120abcpp': 1000, 'PGP140abcpp': 1000, 'PGP141abcpp': 1000, 'PGP160abcpp': 1000, 'PGP161abcpp': 1000, 'PGP180abcpp': 1000, 'PGP181abcpp': 1000, 'PHEMEabcpp': 1000, 'PHEMEtiex': 1000, 'PHEt2rpp': 1000, 'PNTOt4pp': 1000, 'PPAt4pp': 1000, 'PROabcpp': 1000, 'PROGLYabcpp': 1000, 'PROt3pp': 1000, 'PROt4pp': 1000, 'PSERtex': 1000, 'PTRCORNt7pp': 1000, 'PTRCt2pp': 1000, 'PYDXtpp': 1000, 'PYRt2rpp': 1000, 'R5Ptex': 1000, 'RIBabcpp': 1000, 'SBTptspp': 1000, 'SERabcpp': 1000, 'SERt3pp': 1000, 'SKMt2pp': 1000, 'SPMDabcpp': 1000, 'SPMDt3pp': 1000, 'SUCCt2_2pp': 1000, 'SUCCt2_3pp': 1000, 'SUCCt3pp': 1000, 'SUCptspp': 1000, 'THMabcpp': 1000, 'THMDt2pp': 1000, 'THMDt2rpp': 1000, 'THRabcpp': 1000, 'THRt2pp': 1000, 'TREabcpp': 1000, 'TREptsp': 1000, 'TREptspp': 1000, 'TRPabcpp': 1000, 'TRPt2rpp': 1000, 'TYRt2rpp': 1000, 'URAt2pp': 1000, 'URAt2rpp': 1000, 'UREAtpp': 1000, 'URIt2pp': 1000, 'URIt2rpp': 1000, 'VALabcpp': 1000, 'VALt2rpp': 1000, 'XANt2pp': 1000, 'XANtpp': 1000, 'XTSNt2rpp': 1000, 'XYLabcpp': 1000, 'XYLUt2pp': 1000, 'XYLUtex': 1000, 'CO2tpp': 1000, 'FORt2pp': 1000, 'Biotinabcpp': 1000, 'Biotint3pp': 1000, 'Biotintpp': 1000, 'ALATRS': 1000, 'ARGTRS': 1000, 'ASNTRS': 1000, 'ASPTRS': 1000, 'CYSTRS': 1000, 'FMETTRS': 1000, 'GLNTRS': 1000, 'GLUTRS': 1000, 'GLYTRS': 1000, 'HISTRS': 1000, 'ILETRS': 1000, 'LEUTRS': 1000, 'LYSTRS': 1000, 'METTRS': 1000, 'PHETRS': 1000, 'PROTRS': 1000, 'SERTRS': 1000, 'SERTRS2': 1000, 'THRTRS': 1000, 'TRPTRS': 1000, 'TYRTRS': 1000, 'VALTRS': 1000, 'ANPRT': 1000, 'ANS': 1000, 'CHORM': 1000, 'CHORS': 1000, 'DDPA': 1000, 'DHQS': 1000, 'DHQTi': 1000, 'IGPS': 1000, 'PHETA1': 1000, 'PPND': 1000, 'PPNDH': 1000, 'PRAIi': 1000, 'PSCVT': 1000, 'SHK3Dr': 1000, 'SHKK': 1000, 'TRPS1': 1000, 'TRPS2': 1000, 'TRPS3': 1000, 'TYRRRpp': 1000, 'TYRTA': 1000, 'INPSHE': 1000, 'AGPSC': 1000, 'ARATH': 1000, 'ATPM': 9, 'DNA': 1000, 'FREENTCO': 1000, 'IONS': 1000, 'MYCOLI': 1000, 'PA': 1000, 'PEPTH': 1000, 'PPTHTH': 1000, 'RNA': 1000, 'PROTEIN': 1000, 'SOL_POOL': 1000, 'ACHBS': 1000, 'ACLS': 1000, 'DHAD1': 1000, 'DHAD2': 1000, 'ILETA': 1000, 'IPMD': 1000, 'IPPMIa': 1000, 'IPPMIb': 1000, 'IPPS': 1000, 'KARA1': 1000, 'KARA2': 1000, 'OMCDC': 1000, 'THRD_L': 1000, 'VALTA': 1000, 'LEUTAi': 1000, 'EX_sucr_e_reverse': 1000, 'ASPTA_reverse': 1000, 'ALCD19_reverse': 1000, 'CBMKr_reverse': 1000, 'G3PD2_reverse': 1000, 'PGMT_reverse': 1000, 'ACOTA_reverse': 1000, 'AGPR_reverse': 1000, 'GLUNATF_reverse': 1000, 'GLUR_reverse': 1000, 'PGAMT_reverse': 1000, 'FUM_reverse': 1000, 'MDH_reverse': 1000, 'AMPMS2_reverse': 1000, 'DHFR_reverse': 1000, 'IPDDI_reverse': 1000, 'EX_ca2_e_reverse': 1000, 'EX_cobalt2_e_reverse': 1000, 'EX_cu2_e_reverse': 1000, 'EX_fe2_e_reverse': 1000, 'EX_fe3_e_reverse': 1000, 'EX_glc_e_reverse': 1000, 'EX_k_e_reverse': 1000, 'EX_mg2_e_reverse': 1000, 'EX_mn2_e_reverse': 1000, 'EX_nh4_e_reverse': 1000, 'EX_ni2_e_reverse': 1000, 'EX_o2_e_reverse': 1000, 'EX_pi_e_reverse': 1000, 'EX_so4_e_reverse': 1000, 'EX_zn2_e_reverse': 1000, 'GHMT2r_reverse': 1000, 'CAt6pp_reverse': 1000, 'MG2t3_2pp_reverse': 1000, 'PIt2rpp_reverse': 1000, 'ACOATA_reverse': 1000, 'SHSL1_reverse': 1000, 'ADK1_reverse': 1000, 'ADK2_reverse': 1000, 'ADK3_reverse': 1000, 'ADK4_reverse': 1000, 'ATPHs_reverse': 1000, 'CYTK1_reverse': 1000, 'CYTK2_reverse': 1000, 'DGK1_reverse': 1000, 'GK1_reverse': 1000, 'NDPK1_reverse': 1000, 'NDPK3_reverse': 1000, 'NDPK5_reverse': 1000, 'NDPK6_reverse': 1000, 'NTD11_reverse': 1000, 'RNDR2_reverse': 1000, 'URIDK2r_reverse': 1000, 'ATPS4rpp_reverse': 1000, 'PPKr_reverse': 1000, 'RPI_reverse': 1000, 'AIRC3_reverse': 1000, 'DHORTS_reverse': 1000, 'GARFT_reverse': 1000, 'IMPC_reverse': 1000, 'ORPT_reverse': 1000, 'ACALD_reverse': 1000, 'ACKr_reverse': 1000, 'ALCD2x_reverse': 1000, 'LDH_D_reverse': 1000, 'PTAr_reverse': 1000, 'ASAD_reverse': 1000, 'HSDy_reverse': 1000, 'SDPTA_reverse': 1000, '26DAHtex_reverse': 1000, 'ABUTtex_reverse': 1000, 'ACALDtpp_reverse': 1000, 'ACGAM1Ptex_reverse': 1000, 'ACSERtex_reverse': 1000, 'ACt2rpp_reverse': 1000, 'ADEt2rpp_reverse': 1000, 'ADNt2rpp_reverse': 1000, 'AKGt2rpp_reverse': 1000, 'ALAALAtex_reverse': 1000, 'ALAtex_reverse': 1000, 'AMPtex_reverse': 1000, 'ARBt2rpp_reverse': 1000, 'ASNt2rpp_reverse': 1000, 'BALAtex_reverse': 1000, 'CGLYtex_reverse': 1000, 'CITtex_reverse': 1000, 'CRNDt2rpp_reverse': 1000, 'CRNt2rpp_reverse': 1000, 'CTBTt2rpp_reverse': 1000, 'CYTDt2rpp_reverse': 1000, 'DADNtex_reverse': 1000, 'DALAtex_reverse': 1000, 'DAMPtex_reverse': 1000, 'DCMPtex_reverse': 1000, 'DCYTtex_reverse': 1000, 'DGMPtex_reverse': 1000, 'DGSNtex_reverse': 1000, 'D_LACt2pp_reverse': 1000, 'DTMPtex_reverse': 1000, 'DUMPtex_reverse': 1000, 'DURItex_reverse': 1000, 'ETOHtrpp_reverse': 1000, 'EX_BIOTIN_reverse': 1000, 'EX_cl_reverse': 1000, 'F6Ptex_reverse': 1000, 'FE3tex_reverse': 1000, 'FRUtex_reverse': 1000, 'FUMtex_reverse': 1000, 'G1Ptex_reverse': 1000, 'G3PEtex_reverse': 1000, 'G3PGtex_reverse': 1000, 'G3PItex_reverse': 1000, 'G3PStex_reverse': 1000, 'G6Ptex_reverse': 1000, 'GAL1Ptex_reverse': 1000, 'GAMAN6Ptex_reverse': 1000, 'GLCUR1Ptex_reverse': 1000, 'GLNt2rpp_reverse': 1000, 'GLUtex_reverse': 1000, 'GLYALDtpp_reverse': 1000, 'GLYC3Ptex_reverse': 1000, 'GLYtex_reverse': 1000, 'GMPtex_reverse': 1000, 'GSNtex_reverse': 1000, 'GTHRDtex_reverse': 1000, 'GUAtpp_reverse': 1000, 'H2Otpp_reverse': 1000, 'H2Stex_reverse': 1000, 'HISt2rpp_reverse': 1000, 'HOMtex_reverse': 1000, 'HYXNtpp_reverse': 1000, 'ILEt2rpp_reverse': 1000, 'INDOLEt2rpp_reverse': 1000, 'INSt2rpp_reverse': 1000, 'LEUt2rpp_reverse': 1000, 'L_LACt2rpp_reverse': 1000, 'LYSt2pp_reverse': 1000, 'METt2rpp_reverse': 1000, 'NAtex_reverse': 1000, 'NO3tex_reverse': 1000, 'PHEt2rpp_reverse': 1000, 'PTRCORNt7pp_reverse': 1000, 'PYRt2rpp_reverse': 1000, 'THMDt2rpp_reverse': 1000, 'TRPt2rpp_reverse': 1000, 'TYRt2rpp_reverse': 1000, 'URAt2rpp_reverse': 1000, 'URIt2rpp_reverse': 1000, 'VALt2rpp_reverse': 1000, 'XANtpp_reverse': 1000, 'XTSNt2rpp_reverse': 1000, 'XYLUtex_reverse': 1000, 'IPPMIa_reverse': 1000, 'IPPMIb_reverse': 1000, 'KARA1_reverse': 1000}\n"
     ]
    }
   ],
   "source": [
    "'''\n",
    "iCW773_lbub_path='./iCW773_ub_lb.csv'\n",
    "iCW773_lbub=pd.read_csv(iCW773_lbub_path,header=0)\n",
    "reaction_m=iCW773_lbub['id']\n",
    "\n",
    "\n",
    "reaction_m_lb=iCW773_lbub['lb']\n",
    "reaction_m_ub=iCW773_lbub['ub']\n",
    "'''\n",
    "\n",
    "for r in Concretemodel_Need_Data_original['reaction_list']:\n",
    "    if Concretemodel_Need_Data_original['lb_list'][r]<0:\n",
    "        Concretemodel_Need_Data_original['lb_list'][r]=-1000\n",
    "    elif Concretemodel_Need_Data_original['lb_list'][r]>0:\n",
    "        Concretemodel_Need_Data_original['lb_list'][r]=0\n",
    "    Concretemodel_Need_Data_original['ub_list'][r]=1000\n",
    "    \n",
    "Concretemodel_Need_Data_original['ub_list']['ATPM']=9\n",
    "Concretemodel_Need_Data_original['lb_list']['ATPM']=9\n",
    "print(Concretemodel_Need_Data_original['ub_list'])"
   ]
  },
  {
   "cell_type": "code",
   "execution_count": 6,
   "metadata": {},
   "outputs": [],
   "source": [
    "Concretemodel_Need_Data_original['ub_list']['EX_pro_L_e_reverse']=0\n",
    "\n",
    "#Concretemodel_Need_Data_original['ub_list']['EX_sucr_e_reverse']=29\n",
    "#Concretemodel_Need_Data_original['ub_list']['EX_sucr_e_reverse']=146\n",
    "Concretemodel_Need_Data_original['ub_list']['EX_sucr_e_reverse']=29\n",
    "Concretemodel_Need_Data_original['ub_list']['EX_glc_e_reverse']=0\n",
    "\n",
    "Concretemodel_Need_Data_original['lb_list']['EX_pro_L_e_reverse']=0\n",
    "Concretemodel_Need_Data_original['lb_list']['EX_sucr_e_reverse']=0\n",
    "Concretemodel_Need_Data_original['lb_list']['EX_glc_e']=0"
   ]
  },
  {
   "cell_type": "markdown",
   "metadata": {},
   "source": [
    "### Set the minimum of the outflow rate for L_Glutamate, L_Tyrosine, L_Threonine, L_Alanine, L_Glutamine and L_Isoleucine"
   ]
  },
  {
   "cell_type": "code",
   "execution_count": 7,
   "metadata": {},
   "outputs": [],
   "source": [
    "Concretemodel_Need_Data_original['lb_list']['EX_glu_L_e']=3\n",
    "Concretemodel_Need_Data_original['lb_list']['EX_tyr_L_e']=3\n",
    "Concretemodel_Need_Data_original['lb_list']['EX_thr_L_e']=3\n",
    "Concretemodel_Need_Data_original['lb_list']['EX_ala_L_e']=3\n",
    "Concretemodel_Need_Data_original['lb_list']['EX_gln_L_e']=3\n",
    "Concretemodel_Need_Data_original['lb_list']['EX_ile_L_e']=3"
   ]
  },
  {
   "cell_type": "markdown",
   "metadata": {},
   "source": [
    "### Output the mean growth rate without product biosynthesis"
   ]
  },
  {
   "cell_type": "code",
   "execution_count": 8,
   "metadata": {},
   "outputs": [
    {
     "name": "stdout",
     "output_type": "stream",
     "text": [
      "Max biomass : 4.071132410788072\n"
     ]
    }
   ],
   "source": [
    "obj_name='CG_biomass_cgl_ATCC13032'\n",
    "obj_target='maximize'\n",
    "E_total=0.19\n",
    "substrate_name='EX_sucr_e_reverse'\n",
    "substrate_value=29\n",
    "K_value=1249\n",
    "\n",
    "# Calculate the mean growth rate without product biosynthesis\n",
    "max_biomass_under_mdf_original=Max_Growth_Rate_Calculation_FBA(Concretemodel_Need_Data_original,obj_name,obj_target,substrate_name,substrate_value,K_value,'gurobi')\n",
    "print(\"Max biomass : \" +str(max_biomass_under_mdf_original))"
   ]
  },
  {
   "cell_type": "markdown",
   "metadata": {},
   "source": [
    "### Set the biosynthesis pathway expression degree"
   ]
  },
  {
   "cell_type": "code",
   "execution_count": 9,
   "metadata": {},
   "outputs": [],
   "source": [
    "Concretemodel_Need_Data_original['lb_list']['CG_biomass_cgl_ATCC13032'] = 4.07*0.551"
   ]
  },
  {
   "cell_type": "markdown",
   "metadata": {},
   "source": [
    "### Output the mean synthesis rate of target metabolite"
   ]
  },
  {
   "cell_type": "code",
   "execution_count": 10,
   "metadata": {},
   "outputs": [
    {
     "name": "stdout",
     "output_type": "stream",
     "text": [
      "Max synthesis rate of target metabolite : 19.10953807938925\n"
     ]
    }
   ],
   "source": [
    "obj_name='EX_pro_L_e'\n",
    "obj_target='maximize'\n",
    "E_total=0.19\n",
    "substrate_name='EX_sucr_e_reverse'\n",
    "substrate_value=29\n",
    "K_value=1249\n",
    "\n",
    "# Calculate the mean flux of the target metabolite biosynthesis reaction\n",
    "max_biomass_under_mdf_original=Max_Growth_Rate_Calculation_FBA(Concretemodel_Need_Data_original,obj_name,obj_target,substrate_name,substrate_value,K_value,'gurobi')\n",
    "\n",
    "# Calculate the mean concentration of the target metabolite\n",
    "# If the unit of concentration is g/L, we should divide max_biomass_under_mdf_original by the molar mass of the carbon source, and then multiply by the molar mass of the target metabolite\n",
    "# If the unit of concentration is g/L, we should output max_biomass_under_mdf_original\n",
    "print(\"Max synthesis rate of target metabolite : \" +str(max_biomass_under_mdf_original))"
   ]
  }
 ],
 "metadata": {
  "kernelspec": {
   "display_name": "enzyme",
   "language": "python",
   "name": "enzyme"
  },
  "language_info": {
   "codemirror_mode": {
    "name": "ipython",
    "version": 3
   },
   "file_extension": ".py",
   "mimetype": "text/x-python",
   "name": "python",
   "nbconvert_exporter": "python",
   "pygments_lexer": "ipython3",
   "version": "3.6.5"
  }
 },
 "nbformat": 4,
 "nbformat_minor": 4
}
