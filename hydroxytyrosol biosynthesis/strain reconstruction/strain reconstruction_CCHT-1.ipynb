{
 "cells": [
  {
   "cell_type": "markdown",
   "id": "59679976",
   "metadata": {},
   "source": [
    "## import modules"
   ]
  },
  {
   "cell_type": "code",
   "execution_count": 1,
   "id": "a31070b1",
   "metadata": {},
   "outputs": [],
   "source": [
    "import cobra\n",
    "import tempfile\n",
    "from pprint import pprint\n",
    "from cobra.io import write_sbml_model\n",
    "from cobra import Model, Reaction, Metabolite\n",
    "from metnet import pathway\n",
    "from cobra.flux_analysis import pfba\n",
    "from cobra.flux_analysis.loopless import add_loopless, loopless_solution"
   ]
  },
  {
   "cell_type": "markdown",
   "id": "b7cb48a0",
   "metadata": {},
   "source": [
    "## modify the strain"
   ]
  },
  {
   "cell_type": "code",
   "execution_count": 2,
   "id": "77d575ab",
   "metadata": {},
   "outputs": [],
   "source": [
    "with tempfile.NamedTemporaryFile(suffix='.xml') as f_sbml:\n",
    "    model = cobra.io.read_sbml_model('./iML1515.xml')\n",
    "    \n",
    "    ## add new metabolites\n",
    "    hpa_c = Metabolite(\n",
    "        'hpa_c',\n",
    "        formula = 'C8H8O2',\n",
    "        name = '4_hydroxyphenyl_acetaldehyde',\n",
    "        compartment = 'c')\n",
    "    \n",
    "    tyrl_e = Metabolite(\n",
    "        'tyrl_e',\n",
    "        formula = 'C8H9O2',\n",
    "        name = 'tyrosol',\n",
    "        compartment = 'e')\n",
    "    \n",
    "    tyrl_c = Metabolite(\n",
    "        'tyrl_c',\n",
    "        formula = 'C8H9O2',\n",
    "        name = 'tyrosol',\n",
    "        compartment = 'c')\n",
    "\n",
    "    model.add_metabolites(hpa_c)\n",
    "    model.add_metabolites(tyrl_e)\n",
    "    model.add_metabolites(tyrl_c)\n",
    "    \n",
    "    ## get the ids of relative metabolites in the metabolic network\n",
    "    akg_e = model.metabolites.get_by_id('akg_e')\n",
    "    akg_c = model.metabolites.get_by_id('akg_c')\n",
    "    tyr__L_c = model.metabolites.get_by_id('tyr__L_c')\n",
    "    hpp_c = model.metabolites.get_by_id('34hpp_c')\n",
    "    glu__L_c = model.metabolites.get_by_id('glu__L_c')\n",
    "    co2_c = model.metabolites.get_by_id('co2_c')\n",
    "    nadph_c = model.metabolites.get_by_id('nadph_c')\n",
    "    h_c = model.metabolites.get_by_id('h_c')\n",
    "    nadp_c = model.metabolites.get_by_id('nadp_c')\n",
    "    tyr__L_e = model.metabolites.get_by_id('tyr__L_e')\n",
    "    \n",
    "    ## add new reactions\n",
    "    model.add_reactions([Reaction('Abpdc')])\n",
    "    model.reactions.Abpdc.add_metabolites({\n",
    "        hpp_c: -1.0,\n",
    "        hpa_c: 1.0,\n",
    "        co2_c: 1.0\n",
    "    })\n",
    "    \n",
    "    model.add_reactions([Reaction('PAR')])\n",
    "    model.reactions.PAR.add_metabolites({\n",
    "        hpa_c: -1.0,\n",
    "        nadph_c: -1.0,\n",
    "        h_c: -1.0,\n",
    "        tyrl_c: 1.0,\n",
    "        nadp_c: 1.0,\n",
    "    })\n",
    "    \n",
    "    model.add_reactions([Reaction('tyrl_e_e')])\n",
    "    model.reactions.tyrl_e_e.add_metabolites({\n",
    "        tyrl_c: -1.0,\n",
    "        tyrl_e: 1.0,\n",
    "    })\n",
    "    \n",
    "    model.add_reactions([Reaction('EX_tyrl_e')])\n",
    "    model.reactions.EX_tyrl_e.add_metabolites({\n",
    "        tyrl_e: -1.0,\n",
    "    })\n",
    "    \n",
    "    model.add_reactions([Reaction('EX_tyr__L_e_reverse')])\n",
    "    model.reactions.EX_tyr__L_e_reverse.add_metabolites({\n",
    "        tyr__L_e: 1.0,\n",
    "    })\n",
    "\n",
    "    ## generate the metabolic network of the recombinant strain\n",
    "    write_sbml_model(model,'../biosyntehsis-growth relationship/hydroxytyrosol_CCHT-1.xml')\n",
    "    write_sbml_model(model,'../production prediction/hydroxytyrosol_CCHT-1.xml')\n",
    "    write_sbml_model(model,'../metabolic engineering strategy optimization/hydroxytyrosol_CCHT-1.xml')"
   ]
  },
  {
   "cell_type": "code",
   "execution_count": null,
   "id": "7a0b664c",
   "metadata": {},
   "outputs": [],
   "source": []
  },
  {
   "cell_type": "code",
   "execution_count": null,
   "id": "fb5be6f6",
   "metadata": {},
   "outputs": [],
   "source": []
  }
 ],
 "metadata": {
  "kernelspec": {
   "display_name": "enzyme",
   "language": "python",
   "name": "enzyme"
  },
  "language_info": {
   "codemirror_mode": {
    "name": "ipython",
    "version": 3
   },
   "file_extension": ".py",
   "mimetype": "text/x-python",
   "name": "python",
   "nbconvert_exporter": "python",
   "pygments_lexer": "ipython3",
   "version": "3.6.5"
  }
 },
 "nbformat": 4,
 "nbformat_minor": 5
}
