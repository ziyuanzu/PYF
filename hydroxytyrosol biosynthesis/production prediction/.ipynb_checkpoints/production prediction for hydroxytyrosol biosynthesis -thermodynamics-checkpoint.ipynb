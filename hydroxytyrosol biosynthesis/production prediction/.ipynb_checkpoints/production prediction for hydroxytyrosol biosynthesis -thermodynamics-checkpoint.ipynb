{
 "cells": [
  {
   "cell_type": "markdown",
   "id": "1eaab04e",
   "metadata": {},
   "source": [
    "### Import modules"
   ]
  },
  {
   "cell_type": "code",
   "execution_count": 1,
   "id": "15c71b49",
   "metadata": {},
   "outputs": [],
   "source": [
    "import warnings\n",
    "warnings.filterwarnings('ignore')\n",
    "warnings.simplefilter('ignore')\n",
    "from ETGEMs_function_ETG import *\n",
    "import pandas as pd\n",
    "from ppmcot import *"
   ]
  },
  {
   "cell_type": "code",
   "execution_count": 2,
   "id": "4c1cc8ed",
   "metadata": {},
   "outputs": [],
   "source": [
    "import cobra\n",
    "import ast\n",
    "from cobra.io import write_sbml_model\n",
    "from numpy import *\n",
    "import copy\n",
    "import math"
   ]
  },
  {
   "cell_type": "markdown",
   "id": "39458bad",
   "metadata": {},
   "source": [
    "### Data initialization"
   ]
  },
  {
   "cell_type": "code",
   "execution_count": 3,
   "id": "61c7fd26",
   "metadata": {},
   "outputs": [],
   "source": [
    "#Get Reaction G0 from local file_original\n",
    "reaction_g0_file_original0 = './CCHT-1-g0.txt'\n",
    "reaction_g0_file_original1 = './CCHT-2-g0.txt'\n",
    "#Get Metabolite concentration from local file\n",
    "metabolites_lnC_file_original0 = './CCHT-1-lnC.txt'\n",
    "metabolites_lnC_file_original1 = './CCHT-2-lnC.txt'\n",
    "#Get Model from local file\n",
    "model_file_original0 = './hydroxytyrosol_CCHT-1.xml'\n",
    "model_file_original1 = './hydroxytyrosol_CCHT-2.xml'\n",
    "#Get reaction kcat data from ECMpy\n",
    "reaction_kcat_MW_file_original0 = './CCHT-1-kcat-MW.csv'\n",
    "reaction_kcat_MW_file_original1 = './CCHT-2-kcat-MW.csv'"
   ]
  },
  {
   "cell_type": "code",
   "execution_count": 4,
   "id": "503604e7",
   "metadata": {},
   "outputs": [],
   "source": [
    "## Convert to usable model formats\n",
    "model0=Get_Concretemodel_Need_Data(reaction_g0_file_original0,metabolites_lnC_file_original0,model_file_original0,reaction_kcat_MW_file_original0)\n",
    "model1=Get_Concretemodel_Need_Data(reaction_g0_file_original1,metabolites_lnC_file_original1,model_file_original1,reaction_kcat_MW_file_original1)"
   ]
  },
  {
   "cell_type": "markdown",
   "id": "f176f04f",
   "metadata": {},
   "source": [
    "### Strain reconstruction"
   ]
  },
  {
   "cell_type": "code",
   "execution_count": 5,
   "id": "f2fdece3",
   "metadata": {},
   "outputs": [],
   "source": [
    "model0['ub_list']['EX_tyr__L_e_reverse']=10"
   ]
  },
  {
   "cell_type": "code",
   "execution_count": 6,
   "id": "b0c4ee58",
   "metadata": {},
   "outputs": [],
   "source": [
    "model1['ub_list']['EX_ncam_e_reverse']=10\n",
    "model1['ub_list']['EX_tyrl_e_reverse']=10\n",
    "model1['lb_list']['TYRTA']=0\n",
    "model1['ub_list']['TYRTA']=0"
   ]
  },
  {
   "cell_type": "markdown",
   "id": "5f2eb305",
   "metadata": {},
   "source": [
    "### Predict the productions (g/L) under different inoculum ratios"
   ]
  },
  {
   "cell_type": "code",
   "execution_count": null,
   "id": "31c1c5e9",
   "metadata": {},
   "outputs": [
    {
     "name": "stdout",
     "output_type": "stream",
     "text": [
      "After 1 time point, the concentration of tyrl_e is 0.7629124492758333 g/L or mM\n",
      "After 1 time point, the concentration of htl_e is 0.022702495726491054 g/L or mM\n"
     ]
    }
   ],
   "source": [
    "#If you want to simulate the production with the unit of g/L, the real molar masses of exchange metabolites and carbon sources should be input, and the concentrations of exchange metabolites and carbon sources should be input with the unit of g/L\n",
    "#If you want to simulate the production with the unit of mM, the molar masses of exchange metabolites and carbon sources should be input with the same value, and the concentrations of exchange metabolites and carbon sources should be input with the unit of mM\n",
    "\n",
    "#model_list: the list of models calculated by the function of Get_Concretemodel_Need_Data\n",
    "#target_list: the double list consist of the list of target reactions of each model, where the first reaction of each target reaction list is biomass biosynthesis reaction and the second is the reaction whose flux need to be maximized or minimized\n",
    "#growth_list: the list of minimize growth rates in the function of MDF_Calculation\n",
    "#growth_ratio: the list of ratios of lower bounds of growth rates to maximum growth rates\n",
    "#parameter_list: the list of the total number of enzyme ratios, the upper bounds for substrate input reaction fluxes and the maximum values minus the minimum values of reaction thermodynamic driving forces\n",
    "#substrate_environment: the list of the carbon source uptake reactions and the initial carbon source concentrations in environment\n",
    "#metabolites_monitored: the list of metabolites delivered by the strains and the product\n",
    "#metabolites_mass: the dictionary whose keys are the metabolites in metabolites_monitored and values are the molar masses of the metabolites\n",
    "#concentrations_initial: the dictionary whose keys are the metabolites in metabolites_monitored and values are the initial concentrations of the metabolites in environment\n",
    "#reactions_monitored: the list of dictionaries whose keys are the reactions of the metabolite uptake or release in metabolites_monitored and values are the ratios of lower bounds of the reaction fluxes to the max reaction fluxes\n",
    "#substrate_mass: the list of the molar masses of the carbon sources\n",
    "#t: the number of the time points for mono-cultivation\n",
    "#culture_condition: the list of the inoculum ratio of the straints and time points for co-cultivation\n",
    "#map_coefficient: the list of mapping constants of the instantaneous fluxes corresponding to the mean fluxes for the mono strains\n",
    "#constraints: the constraints used in the simulation, where 'kinetics and thermodynamics' consist of FBA, kinetic and thermodynamic constraints, 'kinetics' consist of FBA and kinetic constraints, 'thermodynamics' consist of FBA and thermodynamic constraints and 'FBA' consist of FBA constraint\n",
    "\n",
    "model_list=[model0, model1]\n",
    "target_list=[['BIOMASS_Ec_iML1515_core_75p37M', 'EX_tyrl_e'], ['BIOMASS_Ec_iML1515_core_75p37M', 'EX_htl_e']]\n",
    "growth_list=[0.001, 0.001]\n",
    "growth_ratio=[0.9995, 0.9901]\n",
    "parameter_list=[[0.19, 10, 1249], [0.19, 10, 1249]]\n",
    "substrate_environment=[['EX_glc__D_e_reverse',20],['EX_glc__D_e_reverse',20]]\n",
    "metabolites_monitored=['tyrl_e', 'htl_e']\n",
    "metabolites_mass={'tyrl_e': 138, 'htl_e': 154}\n",
    "concentrations_initial={'tyrl_e': 0.7728, 'htl_e': 0}\n",
    "reactions_monitored=[{'EX_tyrl_e': 0}, {'EX_tyrl_e_reverse': 0, 'EX_htl_e': 0}]\n",
    "substrate_mass=[180,180]\n",
    "t=60\n",
    "culture_condition=[[5/9, 4/9], 30]\n",
    "map_coefficient = [10/6.5, 10/6]\n",
    "constraints='thermodynamics'\n",
    "\n",
    "ppmcot(model_list, target_list, growth_list, growth_ratio, parameter_list, substrate_environment,  metabolites_monitored, metabolites_mass, concentrations_initial, reactions_monitored, substrate_mass, t, culture_condition, map_coefficient, constraints)"
   ]
  },
  {
   "cell_type": "code",
   "execution_count": 7,
   "id": "a8b37d43",
   "metadata": {},
   "outputs": [
    {
     "name": "stdout",
     "output_type": "stream",
     "text": [
      "After 1 time point, the concentration of tyrl_e is 0.7630852660498811 g/L or mM\n",
      "After 1 time point, the concentration of htl_e is 0.026391809369701123 g/L or mM\n",
      "After 2 time point, the concentration of tyrl_e is 0.7549303459149173 g/L or mM\n",
      "After 2 time point, the concentration of htl_e is 0.04854610600154284 g/L or mM\n",
      "After 3 time point, the concentration of tyrl_e is 0.7468654978191784 g/L or mM\n",
      "After 3 time point, the concentration of htl_e is 0.0705998874591768 g/L or mM\n",
      "After 4 time point, the concentration of tyrl_e is 0.7390117703863301 g/L or mM\n",
      "After 4 time point, the concentration of htl_e is 0.09241807049590396 g/L or mM\n",
      "After 5 time point, the concentration of tyrl_e is 0.7313636369240207 g/L or mM\n",
      "After 5 time point, the concentration of htl_e is 0.11400682258000083 g/L or mM\n",
      "After 6 time point, the concentration of tyrl_e is 0.7239157154170098 g/L or mM\n",
      "After 6 time point, the concentration of htl_e is 0.13537214972847467 g/L or mM\n",
      "After 7 time point, the concentration of tyrl_e is 0.7166627647398344 g/L or mM\n",
      "After 7 time point, the concentration of htl_e is 0.15651990073350902 g/L or mM\n",
      "After 8 time point, the concentration of tyrl_e is 0.7095996809686069 g/L or mM\n",
      "After 8 time point, the concentration of htl_e is 0.17745577127828255 g/L or mM\n",
      "After 9 time point, the concentration of tyrl_e is 0.7027214937893704 g/L or mM\n",
      "After 9 time point, the concentration of htl_e is 0.19818530794503708 g/L or mM\n",
      "After 10 time point, the concentration of tyrl_e is 0.6960233630004765 g/L or mM\n",
      "After 10 time point, the concentration of htl_e is 0.218713912118221 g/L or mM\n",
      "After 11 time point, the concentration of tyrl_e is 0.689500575106513 g/L or mM\n",
      "After 11 time point, the concentration of htl_e is 0.2390468437854681 g/L or mM\n",
      "After 12 time point, the concentration of tyrl_e is 0.683148540001407 g/L or mM\n",
      "After 12 time point, the concentration of htl_e is 0.25918922523906246 g/L or mM\n",
      "After 13 time point, the concentration of tyrl_e is 0.6769627877383559 g/L or mM\n",
      "After 13 time point, the concentration of htl_e is 0.27914604468050874 g/L or mM\n",
      "After 14 time point, the concentration of tyrl_e is 0.6709389653843068 g/L or mM\n",
      "After 14 time point, the concentration of htl_e is 0.29892215973075 g/L or mM\n",
      "After 15 time point, the concentration of tyrl_e is 0.6650728339567853 g/L or mM\n",
      "After 15 time point, the concentration of htl_e is 0.3185223008484892 g/L or mM\n",
      "After 16 time point, the concentration of tyrl_e is 0.6593602654409121 g/L or mM\n",
      "After 16 time point, the concentration of htl_e is 0.33795107465902685 g/L or mM\n",
      "After 17 time point, the concentration of tyrl_e is 0.6537972398845054 g/L or mM\n",
      "After 17 time point, the concentration of htl_e is 0.3572129671959568 g/L or mM\n",
      "After 18 time point, the concentration of tyrl_e is 0.6483798425692255 g/L or mM\n",
      "After 18 time point, the concentration of htl_e is 0.37631234705800615 g/L or mM\n",
      "After 19 time point, the concentration of tyrl_e is 0.6431042612557819 g/L or mM\n",
      "After 19 time point, the concentration of htl_e is 0.3952534684832238 g/L or mM\n",
      "After 20 time point, the concentration of tyrl_e is 0.6379667835012397 g/L or mM\n",
      "After 20 time point, the concentration of htl_e is 0.4140404743427108 g/L or mM\n",
      "After 21 time point, the concentration of tyrl_e is 0.6329637940465707 g/L or mM\n",
      "After 21 time point, the concentration of htl_e is 0.4326773990559626 g/L or mM\n",
      "After 22 time point, the concentration of tyrl_e is 0.6280917722725772 g/L or mM\n",
      "After 22 time point, the concentration of htl_e is 0.45116817142990984 g/L or mM\n",
      "After 23 time point, the concentration of tyrl_e is 0.6233472897224273 g/L or mM\n",
      "After 23 time point, the concentration of htl_e is 0.4695166174236257 g/L or mM\n",
      "After 24 time point, the concentration of tyrl_e is 0.6187270076890359 g/L or mM\n",
      "After 24 time point, the concentration of htl_e is 0.4877264628406691 g/L or mM\n",
      "After 25 time point, the concentration of tyrl_e is 0.6142276748656044 g/L or mM\n",
      "After 25 time point, the concentration of htl_e is 0.5058013359509458 g/L or mM\n",
      "After 26 time point, the concentration of tyrl_e is 0.6098461250576717 g/L or mM\n",
      "After 26 time point, the concentration of htl_e is 0.5237447700439265 g/L or mM\n",
      "After 27 time point, the concentration of tyrl_e is 0.6055792749550476 g/L or mM\n",
      "After 27 time point, the concentration of htl_e is 0.5415602059150412 g/L or mM\n",
      "After 28 time point, the concentration of tyrl_e is 0.6014241219620796 g/L or mM\n",
      "After 28 time point, the concentration of htl_e is 0.5592509942869743 g/L or mM\n",
      "After 29 time point, the concentration of tyrl_e is 0.5973777420847218 g/L or mM\n",
      "After 29 time point, the concentration of htl_e is 0.5768203981675745 g/L or mM\n",
      "After 30 time point, the concentration of tyrl_e is 0.5934372878729025 g/L or mM\n",
      "After 30 time point, the concentration of htl_e is 0.5942715951460519 g/L or mM\n"
     ]
    },
    {
     "data": {
      "text/plain": [
       "{'tyrl_e': 0.5934372878729025, 'htl_e': 0.5942715951460519}"
      ]
     },
     "execution_count": 7,
     "metadata": {},
     "output_type": "execute_result"
    }
   ],
   "source": [
    "ppmcot(model_list=[model0, model1], target_list=[['BIOMASS_Ec_iML1515_core_75p37M', 'EX_tyrl_e'], ['BIOMASS_Ec_iML1515_core_75p37M', 'EX_htl_e']], growth_list=[0.001, 0.001],growth_ratio=[0.9995, 0.9901], parameter_list=[[0.19, 10, 1249], [0.19, 10, 1249]], substrate_environment=[['EX_glc__D_e_reverse',20],['EX_glc__D_e_reverse',20]],  metabolites_monitored=['tyrl_e', 'htl_e'], metabolites_mass={'tyrl_e': 138, 'htl_e': 154}, concentrations_initial={'tyrl_e': 0.7728, 'htl_e': 0}, reactions_monitored=[{'EX_tyrl_e': 0}, {'EX_tyrl_e_reverse': 0, 'EX_htl_e': 0}], substrate_mass=[180,180], t=60, culture_condition=[[5/8, 3/8], 30], map_coefficient = [10/6.5, 10/6], constraints='thermodynamics')"
   ]
  },
  {
   "cell_type": "code",
   "execution_count": 8,
   "id": "820e0941",
   "metadata": {},
   "outputs": [
    {
     "name": "stdout",
     "output_type": "stream",
     "text": [
      "After 1 time point, the concentration of tyrl_e is 0.77070689575278 g/L or mM\n",
      "After 1 time point, the concentration of htl_e is 0.020108045234064995 g/L or mM\n",
      "After 2 time point, the concentration of tyrl_e is 0.7689625407973225 g/L or mM\n",
      "After 2 time point, the concentration of htl_e is 0.036865723879563696 g/L or mM\n",
      "After 3 time point, the concentration of tyrl_e is 0.7672181858417749 g/L or mM\n",
      "After 3 time point, the concentration of htl_e is 0.05362340252516307 g/L or mM\n",
      "After 4 time point, the concentration of tyrl_e is 0.7654738308862273 g/L or mM\n",
      "After 4 time point, the concentration of htl_e is 0.07038108117076244 g/L or mM\n",
      "After 5 time point, the concentration of tyrl_e is 0.7637294759308915 g/L or mM\n",
      "After 5 time point, the concentration of htl_e is 0.08713875981612546 g/L or mM\n",
      "After 6 time point, the concentration of tyrl_e is 0.7619851209755517 g/L or mM\n",
      "After 6 time point, the concentration of htl_e is 0.10389643846149284 g/L or mM\n",
      "After 7 time point, the concentration of tyrl_e is 0.7602407660129907 g/L or mM\n",
      "After 7 time point, the concentration of htl_e is 0.12065411711491865 g/L or mM\n",
      "After 8 time point, the concentration of tyrl_e is 0.7584964110576549 g/L or mM\n",
      "After 8 time point, the concentration of htl_e is 0.13741179576028165 g/L or mM\n",
      "After 9 time point, the concentration of tyrl_e is 0.756752056102319 g/L or mM\n",
      "After 9 time point, the concentration of htl_e is 0.15416947440564466 g/L or mM\n",
      "After 10 time point, the concentration of tyrl_e is 0.7550077011467714 g/L or mM\n",
      "After 10 time point, the concentration of htl_e is 0.17092715305124404 g/L or mM\n",
      "After 11 time point, the concentration of tyrl_e is 0.753263346191314 g/L or mM\n",
      "After 11 time point, the concentration of htl_e is 0.18768483169674274 g/L or mM\n",
      "After 12 time point, the concentration of tyrl_e is 0.7515189912359781 g/L or mM\n",
      "After 12 time point, the concentration of htl_e is 0.20444251034210575 g/L or mM\n",
      "After 13 time point, the concentration of tyrl_e is 0.7497746362805207 g/L or mM\n",
      "After 13 time point, the concentration of htl_e is 0.22120018898760446 g/L or mM\n",
      "After 14 time point, the concentration of tyrl_e is 0.7480302813251848 g/L or mM\n",
      "After 14 time point, the concentration of htl_e is 0.23795786763296747 g/L or mM\n",
      "After 15 time point, the concentration of tyrl_e is 0.7462859263696424 g/L or mM\n",
      "After 15 time point, the concentration of htl_e is 0.254715546278561 g/L or mM\n",
      "After 16 time point, the concentration of tyrl_e is 0.7445415714143065 g/L or mM\n",
      "After 16 time point, the concentration of htl_e is 0.271473224923924 g/L or mM\n",
      "After 17 time point, the concentration of tyrl_e is 0.7427972164589707 g/L or mM\n",
      "After 17 time point, the concentration of htl_e is 0.288230903569287 g/L or mM\n",
      "After 18 time point, the concentration of tyrl_e is 0.7410528615036348 g/L or mM\n",
      "After 18 time point, the concentration of htl_e is 0.30498858221465 g/L or mM\n",
      "After 19 time point, the concentration of tyrl_e is 0.7393085065482989 g/L or mM\n",
      "After 19 time point, the concentration of htl_e is 0.32174626086001296 g/L or mM\n",
      "After 20 time point, the concentration of tyrl_e is 0.7375641515928415 g/L or mM\n",
      "After 20 time point, the concentration of htl_e is 0.33850393950551166 g/L or mM\n",
      "After 21 time point, the concentration of tyrl_e is 0.7358197966375056 g/L or mM\n",
      "After 21 time point, the concentration of htl_e is 0.35526161815087465 g/L or mM\n",
      "After 22 time point, the concentration of tyrl_e is 0.7340754416820482 g/L or mM\n",
      "After 22 time point, the concentration of htl_e is 0.37201929679637336 g/L or mM\n",
      "After 23 time point, the concentration of tyrl_e is 0.7323310867265006 g/L or mM\n",
      "After 23 time point, the concentration of htl_e is 0.38877697544197276 g/L or mM\n",
      "After 24 time point, the concentration of tyrl_e is 0.7305867317711647 g/L or mM\n",
      "After 24 time point, the concentration of htl_e is 0.40553465408733574 g/L or mM\n",
      "After 25 time point, the concentration of tyrl_e is 0.7288423768156171 g/L or mM\n",
      "After 25 time point, the concentration of htl_e is 0.4222923327329351 g/L or mM\n",
      "After 26 time point, the concentration of tyrl_e is 0.7270980218600696 g/L or mM\n",
      "After 26 time point, the concentration of htl_e is 0.4390500113785345 g/L or mM\n",
      "After 27 time point, the concentration of tyrl_e is 0.7253536669047363 g/L or mM\n",
      "After 27 time point, the concentration of htl_e is 0.4558076900238946 g/L or mM\n",
      "After 28 time point, the concentration of tyrl_e is 0.7236093119493953 g/L or mM\n",
      "After 28 time point, the concentration of htl_e is 0.47256536866926346 g/L or mM\n",
      "After 29 time point, the concentration of tyrl_e is 0.7218649569938477 g/L or mM\n",
      "After 29 time point, the concentration of htl_e is 0.48932304731486287 g/L or mM\n",
      "After 30 time point, the concentration of tyrl_e is 0.7201206020385118 g/L or mM\n",
      "After 30 time point, the concentration of htl_e is 0.5060807259602259 g/L or mM\n"
     ]
    },
    {
     "data": {
      "text/plain": [
       "{'tyrl_e': 0.7201206020385118, 'htl_e': 0.5060807259602259}"
      ]
     },
     "execution_count": 8,
     "metadata": {},
     "output_type": "execute_result"
    }
   ],
   "source": [
    "ppmcot(model_list=[model0, model1], target_list=[['BIOMASS_Ec_iML1515_core_75p37M', 'EX_tyrl_e'], ['BIOMASS_Ec_iML1515_core_75p37M', 'EX_htl_e']], growth_list=[0.001, 0.001],growth_ratio=[0.9995, 0.9901], parameter_list=[[0.19, 10, 1249], [0.19, 10, 1249]], substrate_environment=[['EX_glc__D_e_reverse',20],['EX_glc__D_e_reverse',20]],  metabolites_monitored=['tyrl_e', 'htl_e'], metabolites_mass={'tyrl_e': 138, 'htl_e': 154}, concentrations_initial={'tyrl_e': 0.7728, 'htl_e': 0}, reactions_monitored=[{'EX_tyrl_e': 0}, {'EX_tyrl_e_reverse': 0, 'EX_htl_e': 0}], substrate_mass=[180,180], t=60, culture_condition=[[5/7, 2/7], 30], map_coefficient = [10/6.5, 10/6], constraints='thermodynamics')"
   ]
  },
  {
   "cell_type": "code",
   "execution_count": 9,
   "id": "6c1d5bf5",
   "metadata": {},
   "outputs": [
    {
     "name": "stdout",
     "output_type": "stream",
     "text": [
      "After 1 time point, the concentration of tyrl_e is 0.7808690686899903 g/L or mM\n",
      "After 1 time point, the concentration of htl_e is 0.011729693053203562 g/L or mM\n",
      "After 2 time point, the concentration of tyrl_e is 0.7875285225674525 g/L or mM\n",
      "After 2 time point, the concentration of htl_e is 0.021410283575564397 g/L or mM\n",
      "After 3 time point, the concentration of tyrl_e is 0.7941879764449095 g/L or mM\n",
      "After 3 time point, the concentration of htl_e is 0.031090874097931126 g/L or mM\n",
      "After 4 time point, the concentration of tyrl_e is 0.8008474303223717 g/L or mM\n",
      "After 4 time point, the concentration of htl_e is 0.04077146462029196 g/L or mM\n",
      "After 5 time point, the concentration of tyrl_e is 0.807506884199834 g/L or mM\n",
      "After 5 time point, the concentration of htl_e is 0.05045205514265279 g/L or mM\n",
      "After 6 time point, the concentration of tyrl_e is 0.8141663380772947 g/L or mM\n",
      "After 6 time point, the concentration of htl_e is 0.060132645665015305 g/L or mM\n",
      "After 7 time point, the concentration of tyrl_e is 0.8208257919547569 g/L or mM\n",
      "After 7 time point, the concentration of htl_e is 0.06981323618737614 g/L or mM\n",
      "After 8 time point, the concentration of tyrl_e is 0.8274852458322192 g/L or mM\n",
      "After 8 time point, the concentration of htl_e is 0.07949382670973698 g/L or mM\n",
      "After 9 time point, the concentration of tyrl_e is 0.8341446997096814 g/L or mM\n",
      "After 9 time point, the concentration of htl_e is 0.08917441723209782 g/L or mM\n",
      "After 10 time point, the concentration of tyrl_e is 0.8408041535871437 g/L or mM\n",
      "After 10 time point, the concentration of htl_e is 0.09885500775445866 g/L or mM\n",
      "After 11 time point, the concentration of tyrl_e is 0.8474636074646059 g/L or mM\n",
      "After 11 time point, the concentration of htl_e is 0.1085355982768195 g/L or mM\n",
      "After 12 time point, the concentration of tyrl_e is 0.8541230613420682 g/L or mM\n",
      "After 12 time point, the concentration of htl_e is 0.11821618879918033 g/L or mM\n",
      "After 13 time point, the concentration of tyrl_e is 0.8607825152195304 g/L or mM\n",
      "After 13 time point, the concentration of htl_e is 0.12789677932154117 g/L or mM\n",
      "After 14 time point, the concentration of tyrl_e is 0.8674419690976807 g/L or mM\n",
      "After 14 time point, the concentration of htl_e is 0.13757736984313415 g/L or mM\n",
      "After 15 time point, the concentration of tyrl_e is 0.8741014229751429 g/L or mM\n",
      "After 15 time point, the concentration of htl_e is 0.147257960365495 g/L or mM\n",
      "After 16 time point, the concentration of tyrl_e is 0.8807608768526052 g/L or mM\n",
      "After 16 time point, the concentration of htl_e is 0.15693855088785583 g/L or mM\n",
      "After 17 time point, the concentration of tyrl_e is 0.8874203307300659 g/L or mM\n",
      "After 17 time point, the concentration of htl_e is 0.16661914141021833 g/L or mM\n",
      "After 18 time point, the concentration of tyrl_e is 0.8940797846075228 g/L or mM\n",
      "After 18 time point, the concentration of htl_e is 0.17629973193258505 g/L or mM\n",
      "After 19 time point, the concentration of tyrl_e is 0.9007392384849835 g/L or mM\n",
      "After 19 time point, the concentration of htl_e is 0.18598032245494756 g/L or mM\n",
      "After 20 time point, the concentration of tyrl_e is 0.9073986923624457 g/L or mM\n",
      "After 20 time point, the concentration of htl_e is 0.1956609129773084 g/L or mM\n",
      "After 21 time point, the concentration of tyrl_e is 0.914058146239908 g/L or mM\n",
      "After 21 time point, the concentration of htl_e is 0.20534150349966923 g/L or mM\n",
      "After 22 time point, the concentration of tyrl_e is 0.9207176001173702 g/L or mM\n",
      "After 22 time point, the concentration of htl_e is 0.21502209402203007 g/L or mM\n",
      "After 23 time point, the concentration of tyrl_e is 0.9273770539948272 g/L or mM\n",
      "After 23 time point, the concentration of htl_e is 0.2247026845443968 g/L or mM\n",
      "After 24 time point, the concentration of tyrl_e is 0.9340365078722894 g/L or mM\n",
      "After 24 time point, the concentration of htl_e is 0.23438327506675763 g/L or mM\n",
      "After 25 time point, the concentration of tyrl_e is 0.9406959617497501 g/L or mM\n",
      "After 25 time point, the concentration of htl_e is 0.24406386558912013 g/L or mM\n",
      "After 26 time point, the concentration of tyrl_e is 0.9473554156272124 g/L or mM\n",
      "After 26 time point, the concentration of htl_e is 0.25374445611148094 g/L or mM\n",
      "After 27 time point, the concentration of tyrl_e is 0.9540148695046731 g/L or mM\n",
      "After 27 time point, the concentration of htl_e is 0.2634250466338435 g/L or mM\n",
      "After 28 time point, the concentration of tyrl_e is 0.9606743233821338 g/L or mM\n",
      "After 28 time point, the concentration of htl_e is 0.273105637156206 g/L or mM\n",
      "After 29 time point, the concentration of tyrl_e is 0.967333777259596 g/L or mM\n",
      "After 29 time point, the concentration of htl_e is 0.2827862276785668 g/L or mM\n",
      "After 30 time point, the concentration of tyrl_e is 0.9739932311370567 g/L or mM\n",
      "After 30 time point, the concentration of htl_e is 0.29246681820092935 g/L or mM\n"
     ]
    },
    {
     "data": {
      "text/plain": [
       "{'tyrl_e': 0.9739932311370567, 'htl_e': 0.29246681820092935}"
      ]
     },
     "execution_count": 9,
     "metadata": {},
     "output_type": "execute_result"
    }
   ],
   "source": [
    "ppmcot(model_list=[model0, model1], target_list=[['BIOMASS_Ec_iML1515_core_75p37M', 'EX_tyrl_e'], ['BIOMASS_Ec_iML1515_core_75p37M', 'EX_htl_e']], growth_list=[0.001, 0.001],growth_ratio=[0.9995, 0.9901], parameter_list=[[0.19, 10, 1249], [0.19, 10, 1249]], substrate_environment=[['EX_glc__D_e_reverse',20],['EX_glc__D_e_reverse',20]],  metabolites_monitored=['tyrl_e', 'htl_e'], metabolites_mass={'tyrl_e': 138, 'htl_e': 154}, concentrations_initial={'tyrl_e': 0.7728, 'htl_e': 0}, reactions_monitored=[{'EX_tyrl_e': 0}, {'EX_tyrl_e_reverse': 0, 'EX_htl_e': 0}], substrate_mass=[180,180], t=60, culture_condition=[[5/6, 1/6], 30], map_coefficient = [10/6.5, 10/6], constraints='thermodynamics')"
   ]
  },
  {
   "cell_type": "code",
   "execution_count": null,
   "id": "f7de3978",
   "metadata": {},
   "outputs": [],
   "source": []
  }
 ],
 "metadata": {
  "kernelspec": {
   "display_name": "enzyme",
   "language": "python",
   "name": "enzyme"
  },
  "language_info": {
   "codemirror_mode": {
    "name": "ipython",
    "version": 3
   },
   "file_extension": ".py",
   "mimetype": "text/x-python",
   "name": "python",
   "nbconvert_exporter": "python",
   "pygments_lexer": "ipython3",
   "version": "3.6.5"
  }
 },
 "nbformat": 4,
 "nbformat_minor": 5
}
