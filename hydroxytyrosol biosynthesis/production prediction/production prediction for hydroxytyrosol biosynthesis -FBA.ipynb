{
 "cells": [
  {
   "cell_type": "markdown",
   "id": "1eaab04e",
   "metadata": {},
   "source": [
    "### Import modules"
   ]
  },
  {
   "cell_type": "code",
   "execution_count": 1,
   "id": "15c71b49",
   "metadata": {},
   "outputs": [],
   "source": [
    "import warnings\n",
    "warnings.filterwarnings('ignore')\n",
    "warnings.simplefilter('ignore')\n",
    "from ETGEMs_function_ETG import *\n",
    "import pandas as pd\n",
    "from ppmcot import *"
   ]
  },
  {
   "cell_type": "code",
   "execution_count": 2,
   "id": "4c1cc8ed",
   "metadata": {},
   "outputs": [],
   "source": [
    "import cobra\n",
    "import ast\n",
    "from cobra.io import write_sbml_model\n",
    "from numpy import *\n",
    "import copy\n",
    "import math"
   ]
  },
  {
   "cell_type": "markdown",
   "id": "39458bad",
   "metadata": {},
   "source": [
    "### Data initialization"
   ]
  },
  {
   "cell_type": "code",
   "execution_count": 3,
   "id": "61c7fd26",
   "metadata": {},
   "outputs": [],
   "source": [
    "#Get Reaction G0 from local file_original\n",
    "reaction_g0_file_original0 = './CCHT-1-g0.txt'\n",
    "reaction_g0_file_original1 = './CCHT-2-g0.txt'\n",
    "#Get Metabolite concentration from local file\n",
    "metabolites_lnC_file_original0 = './CCHT-1-lnC.txt'\n",
    "metabolites_lnC_file_original1 = './CCHT-2-lnC.txt'\n",
    "#Get Model from local file\n",
    "model_file_original0 = './hydroxytyrosol_CCHT-1.xml'\n",
    "model_file_original1 = './hydroxytyrosol_CCHT-2.xml'\n",
    "#Get reaction kcat data from ECMpy\n",
    "reaction_kcat_MW_file_original0 = './CCHT-1-kcat-MW.csv'\n",
    "reaction_kcat_MW_file_original1 = './CCHT-2-kcat-MW.csv'"
   ]
  },
  {
   "cell_type": "code",
   "execution_count": 4,
   "id": "503604e7",
   "metadata": {},
   "outputs": [],
   "source": [
    "## Convert to usable model formats\n",
    "model0=Get_Concretemodel_Need_Data(reaction_g0_file_original0,metabolites_lnC_file_original0,model_file_original0,reaction_kcat_MW_file_original0)\n",
    "model1=Get_Concretemodel_Need_Data(reaction_g0_file_original1,metabolites_lnC_file_original1,model_file_original1,reaction_kcat_MW_file_original1)"
   ]
  },
  {
   "cell_type": "markdown",
   "id": "833f1cd7",
   "metadata": {},
   "source": [
    "### Strain reconstruction"
   ]
  },
  {
   "cell_type": "code",
   "execution_count": 5,
   "id": "f2fdece3",
   "metadata": {},
   "outputs": [],
   "source": [
    "model0['ub_list']['EX_tyr__L_e_reverse']=10"
   ]
  },
  {
   "cell_type": "code",
   "execution_count": 6,
   "id": "b0c4ee58",
   "metadata": {},
   "outputs": [],
   "source": [
    "model1['ub_list']['EX_ncam_e_reverse']=10\n",
    "model1['ub_list']['EX_tyrl_e_reverse']=10\n",
    "model1['lb_list']['TYRTA']=0\n",
    "model1['ub_list']['TYRTA']=0"
   ]
  },
  {
   "cell_type": "markdown",
   "id": "96378412",
   "metadata": {},
   "source": [
    "### Predict the productions (g/L) under different inoculum ratios"
   ]
  },
  {
   "cell_type": "code",
   "execution_count": 7,
   "id": "e8816041",
   "metadata": {},
   "outputs": [
    {
     "name": "stdout",
     "output_type": "stream",
     "text": [
      "After 1 time point, the concentration of tyrl_e is 0.7754602232317358 g/L or mM\n",
      "After 1 time point, the concentration of htl_e is 0.022702495726491054 g/L or mM\n",
      "After 2 time point, the concentration of tyrl_e is 0.7780504166553194 g/L or mM\n",
      "After 2 time point, the concentration of htl_e is 0.04548314065918094 g/L or mM\n",
      "After 3 time point, the concentration of tyrl_e is 0.7805724237904883 g/L or mM\n",
      "After 3 time point, the concentration of htl_e is 0.06833987753691331 g/L or mM\n",
      "After 4 time point, the concentration of tyrl_e is 0.7830280396267141 g/L or mM\n",
      "After 4 time point, the concentration of htl_e is 0.09127070325549523 g/L or mM\n",
      "After 5 time point, the concentration of tyrl_e is 0.785419011900755 g/L or mM\n",
      "After 5 time point, the concentration of htl_e is 0.11427366744202261 g/L or mM\n",
      "After 6 time point, the concentration of tyrl_e is 0.7877470423405727 g/L or mM\n",
      "After 6 time point, the concentration of htl_e is 0.13734687106674118 g/L or mM\n",
      "After 7 time point, the concentration of tyrl_e is 0.7900137878765052 g/L or mM\n",
      "After 7 time point, the concentration of htl_e is 0.16048846509144754 g/L or mM\n",
      "After 8 time point, the concentration of tyrl_e is 0.7922208618205516 g/L or mM\n",
      "After 8 time point, the concentration of htl_e is 0.183696649153476 g/L or mM\n",
      "After 9 time point, the concentration of tyrl_e is 0.7943698350146187 g/L or mM\n",
      "After 9 time point, the concentration of htl_e is 0.20696967028432206 g/L or mM\n",
      "After 10 time point, the concentration of tyrl_e is 0.7964622369485347 g/L or mM\n",
      "After 10 time point, the concentration of htl_e is 0.2303058216620033 g/L or mM\n",
      "After 11 time point, the concentration of tyrl_e is 0.798499556848633 g/L or mM\n",
      "After 11 time point, the concentration of htl_e is 0.25370344139626366 g/L or mM\n",
      "After 12 time point, the concentration of tyrl_e is 0.8004832447376873 g/L or mM\n",
      "After 12 time point, the concentration of htl_e is 0.27716091134574716 g/L or mM\n",
      "After 13 time point, the concentration of tyrl_e is 0.8024147124669273 g/L or mM\n",
      "After 13 time point, the concentration of htl_e is 0.30067665596632764 g/L or mM\n",
      "After 14 time point, the concentration of tyrl_e is 0.8042953347209013 g/L or mM\n",
      "After 14 time point, the concentration of htl_e is 0.3242491411897413 g/L or mM\n",
      "After 15 time point, the concentration of tyrl_e is 0.8061264499958811 g/L or mM\n",
      "After 15 time point, the concentration of htl_e is 0.34787687333174266 g/L or mM\n",
      "After 16 time point, the concentration of tyrl_e is 0.8079093615525123 g/L or mM\n",
      "After 16 time point, the concentration of htl_e is 0.37155839802900265 g/L or mM\n",
      "After 17 time point, the concentration of tyrl_e is 0.8096453383433779 g/L or mM\n",
      "After 17 time point, the concentration of htl_e is 0.395292299204001 g/L or mM\n",
      "After 18 time point, the concentration of tyrl_e is 0.8113356159161601 g/L or mM\n",
      "After 18 time point, the concentration of htl_e is 0.4190771980571505 g/L or mM\n",
      "After 19 time point, the concentration of tyrl_e is 0.812981397293009 g/L or mM\n",
      "After 19 time point, the concentration of htl_e is 0.44291175208547184 g/L or mM\n",
      "After 20 time point, the concentration of tyrl_e is 0.8145838538267749 g/L or mM\n",
      "After 20 time point, the concentration of htl_e is 0.4667946541270887 g/L or mM\n",
      "After 21 time point, the concentration of tyrl_e is 0.8161441260346939 g/L or mM\n",
      "After 21 time point, the concentration of htl_e is 0.4907246314308825 g/L or mM\n",
      "After 22 time point, the concentration of tyrl_e is 0.8176633244101315 g/L or mM\n",
      "After 22 time point, the concentration of htl_e is 0.5147004447506339 g/L or mM\n",
      "After 23 time point, the concentration of tyrl_e is 0.8191425302129499 g/L or mM\n",
      "After 23 time point, the concentration of htl_e is 0.5387208874630183 g/L or mM\n",
      "After 24 time point, the concentration of tyrl_e is 0.820582796239079 g/L or mM\n",
      "After 24 time point, the concentration of htl_e is 0.5627847847088095 g/L or mM\n",
      "After 25 time point, the concentration of tyrl_e is 0.8219851475698211 g/L or mM\n",
      "After 25 time point, the concentration of htl_e is 0.5868909925566994 g/L or mM\n",
      "After 26 time point, the concentration of tyrl_e is 0.8233505823014284 g/L or mM\n",
      "After 26 time point, the concentration of htl_e is 0.611038397189131 g/L or mM\n",
      "After 27 time point, the concentration of tyrl_e is 0.8246800722554863 g/L or mM\n",
      "After 27 time point, the concentration of htl_e is 0.6352259141095524 g/L or mM\n",
      "After 28 time point, the concentration of tyrl_e is 0.8259745636705822 g/L or mM\n",
      "After 28 time point, the concentration of htl_e is 0.6594524873705547 g/L or mM\n",
      "After 29 time point, the concentration of tyrl_e is 0.8272349778757752 g/L or mM\n",
      "After 29 time point, the concentration of htl_e is 0.6837170888223182 g/L or mM\n",
      "After 30 time point, the concentration of tyrl_e is 0.8284622119463366 g/L or mM\n",
      "After 30 time point, the concentration of htl_e is 0.7080187173808443 g/L or mM\n"
     ]
    },
    {
     "data": {
      "text/plain": [
       "{'tyrl_e': 0.8284622119463366, 'htl_e': 0.7080187173808443}"
      ]
     },
     "execution_count": 7,
     "metadata": {},
     "output_type": "execute_result"
    }
   ],
   "source": [
    "#If you want to simulate the production with the unit of g/L, the real molar masses of exchange metabolites and carbon sources should be input, and the concentrations of exchange metabolites and carbon sources should be input with the unit of g/L\n",
    "#If you want to simulate the production with the unit of mM, the molar masses of exchange metabolites and carbon sources should be input with the same value, and the concentrations of exchange metabolites and carbon sources should be input with the unit of mM\n",
    "\n",
    "#model_list: the list of models calculated by the function of Get_Concretemodel_Need_Data\n",
    "#target_list: the double list consist of the list of target reactions of each model, where the first reaction of each target reaction list is biomass biosynthesis reaction and the second is the reaction whose flux need to be maximized or minimized\n",
    "#growth_list: the list of minimize growth rates in the function of MDF_Calculation\n",
    "#growth_ratio: the list of ratios of lower bounds of growth rates to maximum growth rates\n",
    "#parameter_list: the list of the total number of enzyme ratios, the upper bounds for substrate input reaction fluxes and the maximum values minus the minimum values of reaction thermodynamic driving forces\n",
    "#substrate_environment: the list of the carbon source uptake reactions and the initial carbon source concentrations in environment\n",
    "#metabolites_monitored: the list of metabolites delivered by the strains and the product\n",
    "#metabolites_mass: the dictionary whose keys are the metabolites in metabolites_monitored and values are the molar masses of the metabolites\n",
    "#concentrations_initial: the dictionary whose keys are the metabolites in metabolites_monitored and values are the initial concentrations of the metabolites in environment\n",
    "#reactions_monitored: the list of dictionaries whose keys are the reactions of the metabolite uptake or release in metabolites_monitored and values are the ratios of lower bounds of the reaction fluxes to the max reaction fluxes\n",
    "#substrate_mass: the list of the molar masses of the carbon sources\n",
    "#t: the number of the time points for mono-cultivation\n",
    "#culture_condition: the list of the inoculum ratio of the straints and time points for co-cultivation\n",
    "#map_coefficient: the list of mapping constants of the instantaneous fluxes corresponding to the mean fluxes for the mono strains\n",
    "#constraints: the constraints used in the simulation, where 'kinetics and thermodynamics' consist of FBA, kinetic and thermodynamic constraints, 'kinetics' consist of FBA and kinetic constraints, 'thermodynamics' consist of FBA and thermodynamic constraints and 'FBA' consist of FBA constraint\n",
    "\n",
    "model_list=[model0, model1]\n",
    "target_list=[['BIOMASS_Ec_iML1515_core_75p37M', 'EX_tyrl_e'], ['BIOMASS_Ec_iML1515_core_75p37M', 'EX_htl_e']]\n",
    "growth_list=[0.001, 0.001]\n",
    "growth_ratio=[0.9989, 0.9894]\n",
    "parameter_list=[[0.19, 10, 1249], [0.19, 10, 1249]]\n",
    "substrate_environment=[['EX_glc__D_e_reverse',20],['EX_glc__D_e_reverse',20]]\n",
    "metabolites_monitored=['tyrl_e', 'htl_e']\n",
    "metabolites_mass={'tyrl_e': 138, 'htl_e': 154}\n",
    "concentrations_initial={'tyrl_e': 0.7728, 'htl_e': 0}\n",
    "reactions_monitored=[{'EX_tyrl_e': 0}, {'EX_tyrl_e_reverse': 0, 'EX_htl_e': 0}]\n",
    "substrate_mass=[180,180]\n",
    "t=60\n",
    "culture_condition=[[5/9, 4/9], 30]\n",
    "map_coefficient = [10/6.5, 10/6]\n",
    "constraints='FBA'\n",
    "\n",
    "ppmcot(model_list, target_list, growth_list,growth_ratio, parameter_list, substrate_environment,  metabolites_monitored, metabolites_mass, concentrations_initial, reactions_monitored, substrate_mass, t, culture_condition, map_coefficient, constraints='FBA')"
   ]
  },
  {
   "cell_type": "code",
   "execution_count": 8,
   "id": "41d4242c",
   "metadata": {},
   "outputs": [
    {
     "name": "stdout",
     "output_type": "stream",
     "text": [
      "After 1 time point, the concentration of tyrl_e is 0.7783048341693709 g/L or mM\n",
      "After 1 time point, the concentration of htl_e is 0.022575807692303686 g/L or mM\n",
      "After 2 time point, the concentration of tyrl_e is 0.7836655634250291 g/L or mM\n",
      "After 2 time point, the concentration of htl_e is 0.04531242811440267 g/L or mM\n",
      "After 3 time point, the concentration of tyrl_e is 0.788885960128778 g/L or mM\n",
      "After 3 time point, the concentration of htl_e is 0.06820565152921215 g/L or mM\n",
      "After 4 time point, the concentration of tyrl_e is 0.7939696978899702 g/L or mM\n",
      "After 4 time point, the concentration of htl_e is 0.09125137840165728 g/L or mM\n",
      "After 5 time point, the concentration of tyrl_e is 0.7989203541506346 g/L or mM\n",
      "After 5 time point, the concentration of htl_e is 0.11444561651382186 g/L or mM\n",
      "After 6 time point, the concentration of tyrl_e is 0.8037414127029374 g/L or mM\n",
      "After 6 time point, the concentration of htl_e is 0.1377844781556072 g/L or mM\n",
      "After 7 time point, the concentration of tyrl_e is 0.8084362661407334 g/L or mM\n",
      "After 7 time point, the concentration of htl_e is 0.16126417738894372 g/L or mM\n",
      "After 8 time point, the concentration of tyrl_e is 0.8130082182469497 g/L or mM\n",
      "After 8 time point, the concentration of htl_e is 0.18488102738360834 g/L or mM\n",
      "After 9 time point, the concentration of tyrl_e is 0.8174870543538351 g/L or mM\n",
      "After 9 time point, the concentration of htl_e is 0.20860178943549731 g/L or mM\n",
      "After 10 time point, the concentration of tyrl_e is 0.8219658904607204 g/L or mM\n",
      "After 10 time point, the concentration of htl_e is 0.2323225514873863 g/L or mM\n",
      "After 11 time point, the concentration of tyrl_e is 0.8264447265676058 g/L or mM\n",
      "After 11 time point, the concentration of htl_e is 0.2560433135392753 g/L or mM\n",
      "After 12 time point, the concentration of tyrl_e is 0.8309235626744912 g/L or mM\n",
      "After 12 time point, the concentration of htl_e is 0.2797640755911643 g/L or mM\n",
      "After 13 time point, the concentration of tyrl_e is 0.8354023987813766 g/L or mM\n",
      "After 13 time point, the concentration of htl_e is 0.3034848376430533 g/L or mM\n",
      "After 14 time point, the concentration of tyrl_e is 0.8398812348882619 g/L or mM\n",
      "After 14 time point, the concentration of htl_e is 0.3272055996949423 g/L or mM\n",
      "After 15 time point, the concentration of tyrl_e is 0.8443600709951473 g/L or mM\n",
      "After 15 time point, the concentration of htl_e is 0.3509263617468313 g/L or mM\n",
      "After 16 time point, the concentration of tyrl_e is 0.8488389071020327 g/L or mM\n",
      "After 16 time point, the concentration of htl_e is 0.3746471237987203 g/L or mM\n",
      "After 17 time point, the concentration of tyrl_e is 0.8533177432089181 g/L or mM\n",
      "After 17 time point, the concentration of htl_e is 0.3983678858506093 g/L or mM\n",
      "After 18 time point, the concentration of tyrl_e is 0.8577965793158034 g/L or mM\n",
      "After 18 time point, the concentration of htl_e is 0.4220886479024983 g/L or mM\n",
      "After 19 time point, the concentration of tyrl_e is 0.8622754154226888 g/L or mM\n",
      "After 19 time point, the concentration of htl_e is 0.4458094099543873 g/L or mM\n",
      "After 20 time point, the concentration of tyrl_e is 0.8667542515295742 g/L or mM\n",
      "After 20 time point, the concentration of htl_e is 0.4695301720062763 g/L or mM\n",
      "After 21 time point, the concentration of tyrl_e is 0.8712330876364596 g/L or mM\n",
      "After 21 time point, the concentration of htl_e is 0.4932509340581653 g/L or mM\n",
      "After 22 time point, the concentration of tyrl_e is 0.8757119237433449 g/L or mM\n",
      "After 22 time point, the concentration of htl_e is 0.5169716961100542 g/L or mM\n",
      "After 23 time point, the concentration of tyrl_e is 0.8801907598502303 g/L or mM\n",
      "After 23 time point, the concentration of htl_e is 0.5406924581619432 g/L or mM\n",
      "After 24 time point, the concentration of tyrl_e is 0.8846695959571157 g/L or mM\n",
      "After 24 time point, the concentration of htl_e is 0.5644132202138322 g/L or mM\n",
      "After 25 time point, the concentration of tyrl_e is 0.8891484320640011 g/L or mM\n",
      "After 25 time point, the concentration of htl_e is 0.5881339822657212 g/L or mM\n",
      "After 26 time point, the concentration of tyrl_e is 0.8936272681708864 g/L or mM\n",
      "After 26 time point, the concentration of htl_e is 0.6118547443176102 g/L or mM\n",
      "After 27 time point, the concentration of tyrl_e is 0.8981061042777718 g/L or mM\n",
      "After 27 time point, the concentration of htl_e is 0.6355755063694992 g/L or mM\n",
      "After 28 time point, the concentration of tyrl_e is 0.9025849403846572 g/L or mM\n",
      "After 28 time point, the concentration of htl_e is 0.6592962684213882 g/L or mM\n",
      "After 29 time point, the concentration of tyrl_e is 0.9070637764915426 g/L or mM\n",
      "After 29 time point, the concentration of htl_e is 0.6830170304732772 g/L or mM\n",
      "After 30 time point, the concentration of tyrl_e is 0.911542612598428 g/L or mM\n",
      "After 30 time point, the concentration of htl_e is 0.7067377925251662 g/L or mM\n"
     ]
    },
    {
     "data": {
      "text/plain": [
       "{'tyrl_e': 0.911542612598428, 'htl_e': 0.7067377925251662}"
      ]
     },
     "execution_count": 8,
     "metadata": {},
     "output_type": "execute_result"
    }
   ],
   "source": [
    "ppmcot(model_list=[model0, model1], target_list=[['BIOMASS_Ec_iML1515_core_75p37M', 'EX_tyrl_e'], ['BIOMASS_Ec_iML1515_core_75p37M', 'EX_htl_e']], growth_list=[0.001, 0.001],growth_ratio=[0.9989, 0.9894], parameter_list=[[0.19, 10, 1249], [0.19, 10, 1249]], substrate_environment=[['EX_glc__D_e_reverse',20],['EX_glc__D_e_reverse',20]],  metabolites_monitored=['tyrl_e', 'htl_e'], metabolites_mass={'tyrl_e': 138, 'htl_e': 154}, concentrations_initial={'tyrl_e': 0.7728, 'htl_e': 0}, reactions_monitored=[{'EX_tyrl_e': 0}, {'EX_tyrl_e_reverse': 0, 'EX_htl_e': 0}], substrate_mass=[180,180], t=60, culture_condition=[[5/8, 3/8], 30], map_coefficient = [10/6.5, 10/6], constraints='FBA')"
   ]
  },
  {
   "cell_type": "code",
   "execution_count": 9,
   "id": "9aa5adbb",
   "metadata": {},
   "outputs": [
    {
     "name": "stdout",
     "output_type": "stream",
     "text": [
      "After 1 time point, the concentration of tyrl_e is 0.7859209398047788 g/L or mM\n",
      "After 1 time point, the concentration of htl_e is 0.017942565015267902 g/L or mM\n",
      "After 2 time point, the concentration of tyrl_e is 0.7990418796095576 g/L or mM\n",
      "After 2 time point, the concentration of htl_e is 0.035885130030535804 g/L or mM\n",
      "After 3 time point, the concentration of tyrl_e is 0.8121628194143364 g/L or mM\n",
      "After 3 time point, the concentration of htl_e is 0.0538276950458037 g/L or mM\n",
      "After 4 time point, the concentration of tyrl_e is 0.8252837592191152 g/L or mM\n",
      "After 4 time point, the concentration of htl_e is 0.07177026006107161 g/L or mM\n",
      "After 5 time point, the concentration of tyrl_e is 0.838404699023894 g/L or mM\n",
      "After 5 time point, the concentration of htl_e is 0.08971282507633951 g/L or mM\n",
      "After 6 time point, the concentration of tyrl_e is 0.8515256388286728 g/L or mM\n",
      "After 6 time point, the concentration of htl_e is 0.10765539009160742 g/L or mM\n",
      "After 7 time point, the concentration of tyrl_e is 0.8646465786334516 g/L or mM\n",
      "After 7 time point, the concentration of htl_e is 0.12559795510687533 g/L or mM\n",
      "After 8 time point, the concentration of tyrl_e is 0.8777675184382304 g/L or mM\n",
      "After 8 time point, the concentration of htl_e is 0.14354052012214322 g/L or mM\n",
      "After 9 time point, the concentration of tyrl_e is 0.8908884582430092 g/L or mM\n",
      "After 9 time point, the concentration of htl_e is 0.1614830851374111 g/L or mM\n",
      "After 10 time point, the concentration of tyrl_e is 0.904009398047788 g/L or mM\n",
      "After 10 time point, the concentration of htl_e is 0.179425650152679 g/L or mM\n",
      "After 11 time point, the concentration of tyrl_e is 0.9171303378525668 g/L or mM\n",
      "After 11 time point, the concentration of htl_e is 0.1973682151679469 g/L or mM\n",
      "After 12 time point, the concentration of tyrl_e is 0.9302512776573456 g/L or mM\n",
      "After 12 time point, the concentration of htl_e is 0.21531078018321478 g/L or mM\n",
      "After 13 time point, the concentration of tyrl_e is 0.9433722174621244 g/L or mM\n",
      "After 13 time point, the concentration of htl_e is 0.23325334519848268 g/L or mM\n",
      "After 14 time point, the concentration of tyrl_e is 0.9564931572669032 g/L or mM\n",
      "After 14 time point, the concentration of htl_e is 0.2511959102137506 g/L or mM\n",
      "After 15 time point, the concentration of tyrl_e is 0.969614097071682 g/L or mM\n",
      "After 15 time point, the concentration of htl_e is 0.2691384752290185 g/L or mM\n",
      "After 16 time point, the concentration of tyrl_e is 0.9827350368764608 g/L or mM\n",
      "After 16 time point, the concentration of htl_e is 0.28708104024428643 g/L or mM\n",
      "After 17 time point, the concentration of tyrl_e is 0.9958559766812396 g/L or mM\n",
      "After 17 time point, the concentration of htl_e is 0.30502360525955435 g/L or mM\n",
      "After 18 time point, the concentration of tyrl_e is 1.0089769164860185 g/L or mM\n",
      "After 18 time point, the concentration of htl_e is 0.3229661702748223 g/L or mM\n",
      "After 19 time point, the concentration of tyrl_e is 1.0220978562907974 g/L or mM\n",
      "After 19 time point, the concentration of htl_e is 0.3409087352900902 g/L or mM\n",
      "After 20 time point, the concentration of tyrl_e is 1.0352187960955763 g/L or mM\n",
      "After 20 time point, the concentration of htl_e is 0.3588513003053581 g/L or mM\n",
      "After 21 time point, the concentration of tyrl_e is 1.0483397359003552 g/L or mM\n",
      "After 21 time point, the concentration of htl_e is 0.37679386532062603 g/L or mM\n",
      "After 22 time point, the concentration of tyrl_e is 1.0614606757051341 g/L or mM\n",
      "After 22 time point, the concentration of htl_e is 0.39473643033589395 g/L or mM\n",
      "After 23 time point, the concentration of tyrl_e is 1.074581615509913 g/L or mM\n",
      "After 23 time point, the concentration of htl_e is 0.41267899535116187 g/L or mM\n",
      "After 24 time point, the concentration of tyrl_e is 1.087702555314692 g/L or mM\n",
      "After 24 time point, the concentration of htl_e is 0.4306215603664298 g/L or mM\n",
      "After 25 time point, the concentration of tyrl_e is 1.1008234951194709 g/L or mM\n",
      "After 25 time point, the concentration of htl_e is 0.4485641253816977 g/L or mM\n",
      "After 26 time point, the concentration of tyrl_e is 1.1139444349242498 g/L or mM\n",
      "After 26 time point, the concentration of htl_e is 0.46650669039696563 g/L or mM\n",
      "After 27 time point, the concentration of tyrl_e is 1.1270653747290287 g/L or mM\n",
      "After 27 time point, the concentration of htl_e is 0.48444925541223355 g/L or mM\n",
      "After 28 time point, the concentration of tyrl_e is 1.1401863145338076 g/L or mM\n",
      "After 28 time point, the concentration of htl_e is 0.5023918204275014 g/L or mM\n",
      "After 29 time point, the concentration of tyrl_e is 1.1533072543385865 g/L or mM\n",
      "After 29 time point, the concentration of htl_e is 0.5203343854427693 g/L or mM\n",
      "After 30 time point, the concentration of tyrl_e is 1.1664281941433654 g/L or mM\n",
      "After 30 time point, the concentration of htl_e is 0.5382769504580373 g/L or mM\n"
     ]
    },
    {
     "data": {
      "text/plain": [
       "{'tyrl_e': 1.1664281941433654, 'htl_e': 0.5382769504580373}"
      ]
     },
     "execution_count": 9,
     "metadata": {},
     "output_type": "execute_result"
    }
   ],
   "source": [
    "ppmcot(model_list=[model0, model1], target_list=[['BIOMASS_Ec_iML1515_core_75p37M', 'EX_tyrl_e'], ['BIOMASS_Ec_iML1515_core_75p37M', 'EX_htl_e']], growth_list=[0.001, 0.001],growth_ratio=[0.9989, 0.9894], parameter_list=[[0.19, 10, 1249], [0.19, 10, 1249]], substrate_environment=[['EX_glc__D_e_reverse',20],['EX_glc__D_e_reverse',20]],  metabolites_monitored=['tyrl_e', 'htl_e'], metabolites_mass={'tyrl_e': 138, 'htl_e': 154}, concentrations_initial={'tyrl_e': 0.7728, 'htl_e': 0}, reactions_monitored=[{'EX_tyrl_e': 0}, {'EX_tyrl_e_reverse': 0, 'EX_htl_e': 0}], substrate_mass=[180,180], t=60, culture_condition=[[5/7, 2/7], 30], map_coefficient = [10/6.5, 10/6], constraints='FBA')"
   ]
  },
  {
   "cell_type": "code",
   "execution_count": 10,
   "id": "e47bac6d",
   "metadata": {},
   "outputs": [
    {
     "name": "stdout",
     "output_type": "stream",
     "text": [
      "After 1 time point, the concentration of tyrl_e is 0.7972476177012949 g/L or mM\n",
      "After 1 time point, the concentration of htl_e is 0.010365076721513773 g/L or mM\n",
      "After 2 time point, the concentration of tyrl_e is 0.8216952354025898 g/L or mM\n",
      "After 2 time point, the concentration of htl_e is 0.020730153443027546 g/L or mM\n",
      "After 3 time point, the concentration of tyrl_e is 0.8461428531038847 g/L or mM\n",
      "After 3 time point, the concentration of htl_e is 0.03109523016454132 g/L or mM\n",
      "After 4 time point, the concentration of tyrl_e is 0.8705904708051796 g/L or mM\n",
      "After 4 time point, the concentration of htl_e is 0.04146030688605509 g/L or mM\n",
      "After 5 time point, the concentration of tyrl_e is 0.8950380885064745 g/L or mM\n",
      "After 5 time point, the concentration of htl_e is 0.051825383607568866 g/L or mM\n",
      "After 6 time point, the concentration of tyrl_e is 0.9194857062077694 g/L or mM\n",
      "After 6 time point, the concentration of htl_e is 0.06219046032908264 g/L or mM\n",
      "After 7 time point, the concentration of tyrl_e is 0.9439333239090718 g/L or mM\n",
      "After 7 time point, the concentration of htl_e is 0.07255553705058798 g/L or mM\n",
      "After 8 time point, the concentration of tyrl_e is 0.9683809416103742 g/L or mM\n",
      "After 8 time point, the concentration of htl_e is 0.08292061377209332 g/L or mM\n",
      "After 9 time point, the concentration of tyrl_e is 0.9928285593116766 g/L or mM\n",
      "After 9 time point, the concentration of htl_e is 0.09328569049359867 g/L or mM\n",
      "After 10 time point, the concentration of tyrl_e is 1.0172761770127183 g/L or mM\n",
      "After 10 time point, the concentration of htl_e is 0.1036507672153948 g/L or mM\n",
      "After 11 time point, the concentration of tyrl_e is 1.041723794713761 g/L or mM\n",
      "After 11 time point, the concentration of htl_e is 0.1140158439371901 g/L or mM\n",
      "After 12 time point, the concentration of tyrl_e is 1.0661714124148036 g/L or mM\n",
      "After 12 time point, the concentration of htl_e is 0.12438092065898539 g/L or mM\n",
      "After 13 time point, the concentration of tyrl_e is 1.0906190301158454 g/L or mM\n",
      "After 13 time point, the concentration of htl_e is 0.13474599738078152 g/L or mM\n",
      "After 14 time point, the concentration of tyrl_e is 1.1150666478168871 g/L or mM\n",
      "After 14 time point, the concentration of htl_e is 0.14511107410257768 g/L or mM\n",
      "After 15 time point, the concentration of tyrl_e is 1.139514265517929 g/L or mM\n",
      "After 15 time point, the concentration of htl_e is 0.15547615082437383 g/L or mM\n",
      "After 16 time point, the concentration of tyrl_e is 1.1639618832189715 g/L or mM\n",
      "After 16 time point, the concentration of htl_e is 0.16584122754616912 g/L or mM\n",
      "After 17 time point, the concentration of tyrl_e is 1.1884095009200133 g/L or mM\n",
      "After 17 time point, the concentration of htl_e is 0.17620630426796524 g/L or mM\n",
      "After 18 time point, the concentration of tyrl_e is 1.212857118621055 g/L or mM\n",
      "After 18 time point, the concentration of htl_e is 0.1865713809897614 g/L or mM\n",
      "After 19 time point, the concentration of tyrl_e is 1.2373047363220968 g/L or mM\n",
      "After 19 time point, the concentration of htl_e is 0.19693645771155754 g/L or mM\n",
      "After 20 time point, the concentration of tyrl_e is 1.2617523540231395 g/L or mM\n",
      "After 20 time point, the concentration of htl_e is 0.20730153443335284 g/L or mM\n",
      "After 21 time point, the concentration of tyrl_e is 1.2861999717241812 g/L or mM\n",
      "After 21 time point, the concentration of htl_e is 0.21766661115514896 g/L or mM\n",
      "After 22 time point, the concentration of tyrl_e is 1.3106475894252239 g/L or mM\n",
      "After 22 time point, the concentration of htl_e is 0.22803168787694425 g/L or mM\n",
      "After 23 time point, the concentration of tyrl_e is 1.3350952071262665 g/L or mM\n",
      "After 23 time point, the concentration of htl_e is 0.23839676459873954 g/L or mM\n",
      "After 24 time point, the concentration of tyrl_e is 1.3595428248273091 g/L or mM\n",
      "After 24 time point, the concentration of htl_e is 0.24876184132053483 g/L or mM\n",
      "After 25 time point, the concentration of tyrl_e is 1.383990442528351 g/L or mM\n",
      "After 25 time point, the concentration of htl_e is 0.25912691804233096 g/L or mM\n",
      "After 26 time point, the concentration of tyrl_e is 1.4084380602293936 g/L or mM\n",
      "After 26 time point, the concentration of htl_e is 0.2694919947641263 g/L or mM\n",
      "After 27 time point, the concentration of tyrl_e is 1.4328856779304353 g/L or mM\n",
      "After 27 time point, the concentration of htl_e is 0.2798570714859224 g/L or mM\n",
      "After 28 time point, the concentration of tyrl_e is 1.457333295631478 g/L or mM\n",
      "After 28 time point, the concentration of htl_e is 0.29022214820771775 g/L or mM\n",
      "After 29 time point, the concentration of tyrl_e is 1.4817809133325197 g/L or mM\n",
      "After 29 time point, the concentration of htl_e is 0.3005872249295139 g/L or mM\n",
      "After 30 time point, the concentration of tyrl_e is 1.5062285310335615 g/L or mM\n",
      "After 30 time point, the concentration of htl_e is 0.31095230165131005 g/L or mM\n"
     ]
    },
    {
     "data": {
      "text/plain": [
       "{'tyrl_e': 1.5062285310335615, 'htl_e': 0.31095230165131005}"
      ]
     },
     "execution_count": 10,
     "metadata": {},
     "output_type": "execute_result"
    }
   ],
   "source": [
    "ppmcot(model_list=[model0, model1], target_list=[['BIOMASS_Ec_iML1515_core_75p37M', 'EX_tyrl_e'], ['BIOMASS_Ec_iML1515_core_75p37M', 'EX_htl_e']], growth_list=[0.001, 0.001],growth_ratio=[0.9989, 0.9894], parameter_list=[[0.19, 10, 1249], [0.19, 10, 1249]], substrate_environment=[['EX_glc__D_e_reverse',20],['EX_glc__D_e_reverse',20]],  metabolites_monitored=['tyrl_e', 'htl_e'], metabolites_mass={'tyrl_e': 138, 'htl_e': 154}, concentrations_initial={'tyrl_e': 0.7728, 'htl_e': 0}, reactions_monitored=[{'EX_tyrl_e': 0}, {'EX_tyrl_e_reverse': 0, 'EX_htl_e': 0}], substrate_mass=[180,180], t=60, culture_condition=[[5/6, 1/6], 30], map_coefficient = [10/6.5, 10/6], constraints='FBA')"
   ]
  },
  {
   "cell_type": "code",
   "execution_count": null,
   "id": "27f6a96c",
   "metadata": {},
   "outputs": [],
   "source": []
  }
 ],
 "metadata": {
  "kernelspec": {
   "display_name": "enzyme",
   "language": "python",
   "name": "enzyme"
  },
  "language_info": {
   "codemirror_mode": {
    "name": "ipython",
    "version": 3
   },
   "file_extension": ".py",
   "mimetype": "text/x-python",
   "name": "python",
   "nbconvert_exporter": "python",
   "pygments_lexer": "ipython3",
   "version": "3.6.5"
  }
 },
 "nbformat": 4,
 "nbformat_minor": 5
}
