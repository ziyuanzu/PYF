{
 "cells": [
  {
   "cell_type": "markdown",
   "metadata": {},
   "source": [
    "### Module import"
   ]
  },
  {
   "cell_type": "code",
   "execution_count": 1,
   "metadata": {},
   "outputs": [],
   "source": [
    "from ETGEMs_function_ETG import *"
   ]
  },
  {
   "cell_type": "code",
   "execution_count": 2,
   "metadata": {},
   "outputs": [],
   "source": [
    "import pandas as pd\n",
    "import cobra"
   ]
  },
  {
   "cell_type": "markdown",
   "metadata": {},
   "source": [
    "### Data initialization"
   ]
  },
  {
   "cell_type": "code",
   "execution_count": 3,
   "metadata": {},
   "outputs": [],
   "source": [
    "#Get Reaction G0 from local file_original\n",
    "reaction_g0_file_original = './CCHT-2-g0.txt'\n",
    "#Get Metabolite concentration from local file\n",
    "metabolites_lnC_file_original = './CCHT-2-lnC.txt'\n",
    "#Get Model from local file\n",
    "model_file_original = './hydroxytyrosol_CCHT-2.xml'\n",
    "#Get reaction kcat data from ECMpy\n",
    "reaction_kcat_MW_file_original = './CCHT-2-kcat-MW.csv'"
   ]
  },
  {
   "cell_type": "code",
   "execution_count": 4,
   "metadata": {},
   "outputs": [],
   "source": [
    "Concretemodel_Need_Data_original=Get_Concretemodel_Need_Data(reaction_g0_file_original,metabolites_lnC_file_original,model_file_original,reaction_kcat_MW_file_original)"
   ]
  },
  {
   "cell_type": "markdown",
   "metadata": {},
   "source": [
    "### Strain reconstruction"
   ]
  },
  {
   "cell_type": "code",
   "execution_count": 5,
   "metadata": {},
   "outputs": [],
   "source": [
    "Concretemodel_Need_Data_original['lb_list']['TYRTA']=0\n",
    "Concretemodel_Need_Data_original['ub_list']['TYRTA']=0\n"
   ]
  },
  {
   "cell_type": "markdown",
   "metadata": {},
   "source": [
    "### Set the maximum of the intake rate for nicotinamide and tyrosol"
   ]
  },
  {
   "cell_type": "code",
   "execution_count": 6,
   "metadata": {},
   "outputs": [],
   "source": [
    "Concretemodel_Need_Data_original['ub_list']['EX_ncam_e_reverse']=10\n",
    "Concretemodel_Need_Data_original['ub_list']['EX_tyrl_e_reverse']=10"
   ]
  },
  {
   "cell_type": "markdown",
   "metadata": {},
   "source": [
    "### Output the mean growth rate without product biosynthesis"
   ]
  },
  {
   "cell_type": "code",
   "execution_count": 7,
   "metadata": {
    "scrolled": true,
    "tags": []
   },
   "outputs": [
    {
     "name": "stdout",
     "output_type": "stream",
     "text": [
      "B value_original : 2.6670869363966334\n"
     ]
    }
   ],
   "source": [
    "biomass_id='BIOMASS_Ec_iML1515_core_75p37M'\n",
    "E_total=0.19\n",
    "substrate_name='EX_glc__D_e_reverse'\n",
    "substrate_value=10\n",
    "biomass_value=0.001\n",
    "K_value=1249\n",
    "\n",
    "# Calculate the MDF value of the strain without product biosynthesis\n",
    "B_value_original=MDF_Calculation(Concretemodel_Need_Data = Concretemodel_Need_Data_original,biomass_value = biomass_value,biomass_id = biomass_id,substrate_name = substrate_name,substrate_value = substrate_value,K_value = K_value,E_total = E_total,solver = 'gurobi')\n",
    "print(\"B value_original : \" +str(B_value_original))"
   ]
  },
  {
   "cell_type": "code",
   "execution_count": 8,
   "metadata": {},
   "outputs": [
    {
     "name": "stdout",
     "output_type": "stream",
     "text": [
      "Max biomass : 0.8537848371966645\n"
     ]
    }
   ],
   "source": [
    "obj_name='BIOMASS_Ec_iML1515_core_75p37M'\n",
    "obj_target='maximize'\n",
    "E_total=0.19\n",
    "substrate_name='EX_glc__D_e_reverse'\n",
    "substrate_value=10\n",
    "K_value=1249\n",
    "\n",
    "# Calculate the mean growth rate without product biosynthesis\n",
    "max_biomass_under_mdf_original=Max_Growth_Rate_Calculation_thermodynamics(Concretemodel_Need_Data_original,obj_name,obj_target,substrate_name,substrate_value,K_value,B_value_original,'gurobi')\n",
    "print(\"Max biomass : \" +str(max_biomass_under_mdf_original))"
   ]
  },
  {
   "cell_type": "markdown",
   "metadata": {},
   "source": [
    "### Set the biosynthesis pathway expression degree"
   ]
  },
  {
   "cell_type": "code",
   "execution_count": 9,
   "metadata": {},
   "outputs": [],
   "source": [
    "Concretemodel_Need_Data_original['lb_list']['BIOMASS_Ec_iML1515_core_75p37M'] = 0.853*0.9901"
   ]
  },
  {
   "cell_type": "markdown",
   "metadata": {},
   "source": [
    "### Output the mean synthesis rate of target metabolite"
   ]
  },
  {
   "cell_type": "code",
   "execution_count": 10,
   "metadata": {},
   "outputs": [
    {
     "name": "stdout",
     "output_type": "stream",
     "text": [
      "B value_original : 2.6670869363966334\n"
     ]
    }
   ],
   "source": [
    "biomass_id='EX_htl_e'\n",
    "E_total=0.19\n",
    "substrate_name='EX_glc__D_e_reverse'\n",
    "substrate_value=10\n",
    "biomass_value=0.001\n",
    "K_value=1249\n",
    "\n",
    "# Calculate the MDF value of the strain with product biosynthesis\n",
    "B_value_original=MDF_Calculation(Concretemodel_Need_Data = Concretemodel_Need_Data_original,biomass_value = biomass_value,biomass_id = biomass_id,substrate_name = substrate_name,substrate_value = substrate_value,K_value = K_value,E_total = E_total,solver = 'gurobi')\n",
    "print(\"B value_original : \" +str(B_value_original))"
   ]
  },
  {
   "cell_type": "code",
   "execution_count": 11,
   "metadata": {},
   "outputs": [
    {
     "name": "stdout",
     "output_type": "stream",
     "text": [
      "Max synthesis rate of target metabolite : 8.000879417549772\n"
     ]
    }
   ],
   "source": [
    "obj_name='EX_htl_e'\n",
    "obj_target='maximize'\n",
    "E_total=0.19\n",
    "substrate_name='EX_glc__D_e_reverse'\n",
    "substrate_value=10\n",
    "K_value=1249\n",
    "\n",
    "# Calculate the mean flux of the target metabolite biosynthesis reaction\n",
    "max_biomass_under_mdf_original=Max_Growth_Rate_Calculation_thermodynamics(Concretemodel_Need_Data_original,obj_name,obj_target,substrate_name,substrate_value,K_value,B_value_original,'gurobi')\n",
    "\n",
    "# Calculate the mean concentration of the target metabolite\n",
    "# If the unit of concentration is g/L, we should divide max_biomass_under_mdf_original by the molar mass of the carbon source, and then multiply by the molar mass of the target metabolite\n",
    "# If the unit of concentration is g/L, we should output max_biomass_under_mdf_original\n",
    "print(\"Max synthesis rate of target metabolite : \" +str(max_biomass_under_mdf_original/180*1000))"
   ]
  }
 ],
 "metadata": {
  "kernelspec": {
   "display_name": "enzyme",
   "language": "python",
   "name": "enzyme"
  },
  "language_info": {
   "codemirror_mode": {
    "name": "ipython",
    "version": 3
   },
   "file_extension": ".py",
   "mimetype": "text/x-python",
   "name": "python",
   "nbconvert_exporter": "python",
   "pygments_lexer": "ipython3",
   "version": "3.6.5"
  }
 },
 "nbformat": 4,
 "nbformat_minor": 4
}
