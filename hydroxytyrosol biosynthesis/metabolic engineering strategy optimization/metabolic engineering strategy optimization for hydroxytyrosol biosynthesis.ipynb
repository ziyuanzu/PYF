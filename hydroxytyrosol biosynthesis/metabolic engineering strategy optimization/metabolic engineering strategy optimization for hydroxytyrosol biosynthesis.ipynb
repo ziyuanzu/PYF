{
 "cells": [
  {
   "cell_type": "markdown",
   "id": "1eaab04e",
   "metadata": {},
   "source": [
    "### Import modules"
   ]
  },
  {
   "cell_type": "code",
   "execution_count": 1,
   "id": "15c71b49",
   "metadata": {},
   "outputs": [],
   "source": [
    "import warnings\n",
    "warnings.filterwarnings('ignore')\n",
    "warnings.simplefilter('ignore')\n",
    "from ETGEMs_function_ETG import *\n",
    "import pandas as pd\n",
    "from ppmcot import *\n",
    "from strategy_pyf import *\n",
    "import time"
   ]
  },
  {
   "cell_type": "code",
   "execution_count": 2,
   "id": "4c1cc8ed",
   "metadata": {},
   "outputs": [],
   "source": [
    "import cobra\n",
    "import ast\n",
    "from cobra.io import write_sbml_model\n",
    "from numpy import *\n",
    "import copy\n",
    "import math"
   ]
  },
  {
   "cell_type": "markdown",
   "id": "39458bad",
   "metadata": {},
   "source": [
    "### Data initialization"
   ]
  },
  {
   "cell_type": "code",
   "execution_count": 3,
   "id": "61c7fd26",
   "metadata": {},
   "outputs": [],
   "source": [
    "#Get Reaction G0 from local file_original\n",
    "reaction_g0_file_original0 = './CCHT-1-g0.txt'\n",
    "reaction_g0_file_original1 = './CCHT-2-g0.txt'\n",
    "#Get Metabolite concentration from local file\n",
    "metabolites_lnC_file_original0 = './CCHT-1-lnC.txt'\n",
    "metabolites_lnC_file_original1 = './CCHT-2-lnC.txt'\n",
    "#Get Model from local file\n",
    "model_file_original0 = './hydroxytyrosol_CCHT-1.xml'\n",
    "model_file_original1 = './hydroxytyrosol_CCHT-2.xml'\n",
    "#Get reaction kcat data from ECMpy\n",
    "reaction_kcat_MW_file_original0 = './CCHT-1-kcat-MW.csv'\n",
    "reaction_kcat_MW_file_original1 = './CCHT-2-kcat-MW.csv'"
   ]
  },
  {
   "cell_type": "code",
   "execution_count": 4,
   "id": "503604e7",
   "metadata": {},
   "outputs": [],
   "source": [
    "## Convert to usable model formats\n",
    "model0=Get_Concretemodel_Need_Data(reaction_g0_file_original0,metabolites_lnC_file_original0,model_file_original0,reaction_kcat_MW_file_original0)\n",
    "model1=Get_Concretemodel_Need_Data(reaction_g0_file_original1,metabolites_lnC_file_original1,model_file_original1,reaction_kcat_MW_file_original1)"
   ]
  },
  {
   "cell_type": "markdown",
   "id": "6637d2b3",
   "metadata": {},
   "source": [
    "### Strain reconstruction"
   ]
  },
  {
   "cell_type": "code",
   "execution_count": 5,
   "id": "f2fdece3",
   "metadata": {},
   "outputs": [],
   "source": [
    "model0['ub_list']['EX_tyr__L_e_reverse']=10"
   ]
  },
  {
   "cell_type": "code",
   "execution_count": 6,
   "id": "b0c4ee58",
   "metadata": {},
   "outputs": [],
   "source": [
    "model1['ub_list']['EX_ncam_e_reverse']=10\n",
    "model1['ub_list']['EX_tyrl_e_reverse']=10\n",
    "model1['lb_list']['TYRTA']=0\n",
    "model1['ub_list']['TYRTA']=0"
   ]
  },
  {
   "cell_type": "markdown",
   "id": "e751aef1",
   "metadata": {},
   "source": [
    "### Analyze the biosynthesis strategy"
   ]
  },
  {
   "cell_type": "code",
   "execution_count": 7,
   "id": "1f44afc2",
   "metadata": {},
   "outputs": [
    {
     "name": "stdout",
     "output_type": "stream",
     "text": [
      "After 1 time point, the concentration of tyrl_e is 0.7483352395944808 g/L or mM\n",
      "After 1 time point, the concentration of htl_e is 0.06646288989622538 g/L or mM\n",
      "After 2 time point, the concentration of tyrl_e is 0.7246586331041133 g/L or mM\n",
      "After 2 time point, the concentration of htl_e is 0.1320462457132235 g/L or mM\n",
      "After 3 time point, the concentration of tyrl_e is 0.7028414370321092 g/L or mM\n",
      "After 3 time point, the concentration of htl_e is 0.19555460729523622 g/L or mM\n",
      "After 4 time point, the concentration of tyrl_e is 0.6827376250843179 g/L or mM\n",
      "After 4 time point, the concentration of htl_e is 0.25715093152124346 g/L or mM\n",
      "After 5 time point, the concentration of tyrl_e is 0.6642126389450244 g/L or mM\n",
      "After 5 time point, the concentration of htl_e is 0.3169853776711011 g/L or mM\n",
      "After 6 time point, the concentration of tyrl_e is 0.6471424876546993 g/L or mM\n",
      "After 6 time point, the concentration of htl_e is 0.3751963124677619 g/L or mM\n",
      "After 7 time point, the concentration of tyrl_e is 0.631412917716908 g/L or mM\n",
      "After 7 time point, the concentration of htl_e is 0.43191123618985616 g/L or mM\n",
      "After 8 time point, the concentration of tyrl_e is 0.6169186483797593 g/L or mM\n",
      "After 8 time point, the concentration of htl_e is 0.4872476360532623 g/L or mM\n",
      "After 9 time point, the concentration of tyrl_e is 0.6035626669734893 g/L or mM\n",
      "After 9 time point, the concentration of htl_e is 0.541313772573514 g/L or mM\n",
      "After 10 time point, the concentration of tyrl_e is 0.5912555795877564 g/L or mM\n",
      "After 10 time point, the concentration of htl_e is 0.5942094041722966 g/L or mM\n",
      "After 1 time point, the concentration of tyrl_e is 0.755353818440854 g/L or mM\n",
      "After 1 time point, the concentration of htl_e is 0.06646288989622538 g/L or mM\n",
      "After 2 time point, the concentration of tyrl_e is 0.7381445961552451 g/L or mM\n",
      "After 2 time point, the concentration of htl_e is 0.13266134697995294 g/L or mM\n",
      "After 3 time point, the concentration of tyrl_e is 0.7222868769755776 g/L or mM\n",
      "After 3 time point, the concentration of htl_e is 0.1973516049454559 g/L or mM\n",
      "After 4 time point, the concentration of tyrl_e is 0.7076745224247563 g/L or mM\n",
      "After 4 time point, the concentration of htl_e is 0.26065210818021756 g/L or mM\n",
      "After 5 time point, the concentration of tyrl_e is 0.6942097294681027 g/L or mM\n",
      "After 5 time point, the concentration of htl_e is 0.3226719992011978 g/L or mM\n",
      "After 6 time point, the concentration of tyrl_e is 0.6818023759006172 g/L or mM\n",
      "After 6 time point, the concentration of htl_e is 0.3835118491647006 g/L or mM\n",
      "After 7 time point, the concentration of tyrl_e is 0.6703694171433479 g/L or mM\n",
      "After 7 time point, the concentration of htl_e is 0.44326433100665785 g/L or mM\n",
      "After 8 time point, the concentration of tyrl_e is 0.659834330411559 g/L or mM\n",
      "After 8 time point, the concentration of htl_e is 0.5020148397187311 g/L or mM\n",
      "After 9 time point, the concentration of tyrl_e is 0.6501266025344035 g/L or mM\n",
      "After 9 time point, the concentration of htl_e is 0.5598420639118656 g/L or mM\n",
      "After 10 time point, the concentration of tyrl_e is 0.6411812579979888 g/L or mM\n",
      "After 10 time point, the concentration of htl_e is 0.6168185124928692 g/L or mM\n",
      "After 1 time point, the concentration of tyrl_e is 0.7413166607737934 g/L or mM\n",
      "After 1 time point, the concentration of htl_e is 0.06646288989622538 g/L or mM\n",
      "After 2 time point, the concentration of tyrl_e is 0.7111726701023309 g/L or mM\n",
      "After 2 time point, the concentration of htl_e is 0.13143114444875087 g/L or mM\n",
      "After 3 time point, the concentration of tyrl_e is 0.6833959971598026 g/L or mM\n",
      "After 3 time point, the concentration of htl_e is 0.19375760965159616 g/L or mM\n",
      "After 4 time point, the concentration of tyrl_e is 0.6578007278351424 g/L or mM\n",
      "After 4 time point, the concentration of htl_e is 0.25364975487508135 g/L or mM\n",
      "After 5 time point, the concentration of tyrl_e is 0.6342155485317231 g/L or mM\n",
      "After 5 time point, the concentration of htl_e is 0.3112987561618195 g/L or mM\n",
      "After 6 time point, the concentration of tyrl_e is 0.6124825995356208 g/L or mM\n",
      "After 6 time point, the concentration of htl_e is 0.36688077580126194 g/L or mM\n",
      "After 7 time point, the concentration of tyrl_e is 0.5924564184330319 g/L or mM\n",
      "After 7 time point, the concentration of htl_e is 0.42055814141460957 g/L or mM\n",
      "After 8 time point, the concentration of tyrl_e is 0.5740029665050135 g/L or mM\n",
      "After 8 time point, the concentration of htl_e is 0.4724804324418424 g/L or mM\n",
      "After 9 time point, the concentration of tyrl_e is 0.5569987315829783 g/L or mM\n",
      "After 9 time point, the concentration of htl_e is 0.522785481302978 g/L or mM\n",
      "After 10 time point, the concentration of tyrl_e is 0.5413299013602292 g/L or mM\n",
      "After 10 time point, the concentration of htl_e is 0.5716002959344755 g/L or mM\n",
      "After 1 time point, the concentration of tyrl_e is 0.7482388632656105 g/L or mM\n",
      "After 1 time point, the concentration of htl_e is 0.06672471340187716 g/L or mM\n",
      "After 2 time point, the concentration of tyrl_e is 0.724476583896803 g/L or mM\n",
      "After 2 time point, the concentration of htl_e is 0.1325579482943367 g/L or mM\n",
      "After 3 time point, the concentration of tyrl_e is 0.7025877946057256 g/L or mM\n",
      "After 3 time point, the concentration of htl_e is 0.19630047686816998 g/L or mM\n",
      "After 4 time point, the concentration of tyrl_e is 0.6824247837601302 g/L or mM\n",
      "After 4 time point, the concentration of htl_e is 0.2581171367419726 g/L or mM\n",
      "After 5 time point, the concentration of tyrl_e is 0.6638514857602571 g/L or mM\n",
      "After 5 time point, the concentration of htl_e is 0.31815976923721545 g/L or mM\n",
      "After 6 time point, the concentration of tyrl_e is 0.6467425628303557 g/L or mM\n",
      "After 6 time point, the concentration of htl_e is 0.37656824404567835 g/L or mM\n",
      "After 7 time point, the concentration of tyrl_e is 0.6309825592045444 g/L or mM\n",
      "After 7 time point, the concentration of htl_e is 0.43347140310899723 g/L or mM\n",
      "After 8 time point, the concentration of tyrl_e is 0.6164651219992208 g/L or mM\n",
      "After 8 time point, the concentration of htl_e is 0.48898793007988783 g/L or mM\n",
      "After 9 time point, the concentration of tyrl_e is 0.6030922835142494 g/L or mM\n",
      "After 9 time point, the concentration of htl_e is 0.5432271512324143 g/L or mM\n",
      "After 10 time point, the concentration of tyrl_e is 0.5907738001197016 g/L or mM\n",
      "After 10 time point, the concentration of htl_e is 0.5962897732260624 g/L or mM\n",
      "After 1 time point, the concentration of tyrl_e is 0.7477336471252748 g/L or mM\n",
      "After 1 time point, the concentration of htl_e is 0.06713423221693354 g/L or mM\n",
      "After 2 time point, the concentration of tyrl_e is 0.7241042858896396 g/L or mM\n",
      "After 2 time point, the concentration of htl_e is 0.13266486506850578 g/L or mM\n",
      "After 3 time point, the concentration of tyrl_e is 0.7023306247298879 g/L or mM\n",
      "After 3 time point, the concentration of htl_e is 0.19612464421220788 g/L or mM\n",
      "After 4 time point, the concentration of tyrl_e is 0.6822669287386189 g/L or mM\n",
      "After 4 time point, the concentration of htl_e is 0.25767620135629893 g/L or mM\n",
      "After 5 time point, the concentration of tyrl_e is 0.6637789081032023 g/L or mM\n",
      "After 5 time point, the concentration of htl_e is 0.3174693961467576 g/L or mM\n",
      "After 6 time point, the concentration of tyrl_e is 0.6467428192806695 g/L or mM\n",
      "After 6 time point, the concentration of htl_e is 0.3756423192039982 g/L or mM\n",
      "After 7 time point, the concentration of tyrl_e is 0.6310446367606212 g/L or mM\n",
      "After 7 time point, the concentration of htl_e is 0.43232221638745166 g/L or mM\n",
      "After 8 time point, the concentration of tyrl_e is 0.616579289872616 g/L or mM\n",
      "After 8 time point, the concentration of htl_e is 0.4876263404742773 g/L or mM\n",
      "After 9 time point, the concentration of tyrl_e is 0.603249959529875 g/L or mM\n",
      "After 9 time point, the concentration of htl_e is 0.5416627359526196 g/L or mM\n",
      "After 10 time point, the concentration of tyrl_e is 0.5909674302022706 g/L or mM\n",
      "After 10 time point, the concentration of htl_e is 0.5945309621821865 g/L or mM\n",
      "After 1 time point, the concentration of tyrl_e is 0.7489367557117456 g/L or mM\n",
      "After 1 time point, the concentration of htl_e is 0.0657916327798575 g/L or mM\n",
      "After 2 time point, the concentration of tyrl_e is 0.7252129099628433 g/L or mM\n",
      "After 2 time point, the concentration of htl_e is 0.13142770487087269 g/L or mM\n"
     ]
    },
    {
     "name": "stdout",
     "output_type": "stream",
     "text": [
      "After 3 time point, the concentration of tyrl_e is 0.7033521845038804 g/L or mM\n",
      "After 3 time point, the concentration of htl_e is 0.19498464272528881 g/L or mM\n",
      "After 4 time point, the concentration of tyrl_e is 0.6832082616909401 g/L or mM\n",
      "After 4 time point, the concentration of htl_e is 0.2566257283515348 g/L or mM\n",
      "After 5 time point, the concentration of tyrl_e is 0.6646463147392919 g/L or mM\n",
      "After 5 time point, the concentration of htl_e is 0.3165014206253243 g/L or mM\n",
      "After 6 time point, the concentration of tyrl_e is 0.6475421053042553 g/L or mM\n",
      "After 6 time point, the concentration of htl_e is 0.37475036233709813 g/L or mM\n",
      "After 7 time point, the concentration of tyrl_e is 0.6317811519323058 g/L or mM\n",
      "After 7 time point, the concentration of htl_e is 0.43150030815238327 g/L or mM\n",
      "After 8 time point, the concentration of tyrl_e is 0.6172579638167514 g/L or mM\n",
      "After 8 time point, the concentration of htl_e is 0.48686897969603926 g/L or mM\n",
      "After 9 time point, the concentration of tyrl_e is 0.6038753347294072 g/L or mM\n",
      "After 9 time point, the concentration of htl_e is 0.5409648534835765 g/L or mM\n",
      "After 10 time point, the concentration of tyrl_e is 0.5915436924023585 g/L or mM\n",
      "After 10 time point, the concentration of htl_e is 0.5938878869733927 g/L or mM\n",
      "After 1 time point, the concentration of tyrl_e is 0.7482774137971587 g/L or mM\n",
      "After 1 time point, the concentration of htl_e is 0.06661998399961645 g/L or mM\n",
      "After 2 time point, the concentration of tyrl_e is 0.724549396423787 g/L or mM\n",
      "After 2 time point, the concentration of htl_e is 0.132353275247506 g/L or mM\n",
      "After 3 time point, the concentration of tyrl_e is 0.7026892314664953 g/L or mM\n",
      "After 3 time point, the concentration of htl_e is 0.19600215148034966 g/L or mM\n",
      "After 4 time point, the concentration of tyrl_e is 0.6825498829300971 g/L or mM\n",
      "After 4 time point, the concentration of htl_e is 0.25773069634494983 g/L or mM\n",
      "After 5 time point, the concentration of tyrl_e is 0.6639958893869169 g/L or mM\n",
      "After 5 time point, the concentration of htl_e is 0.31769007694175605 g/L or mM\n",
      "After 6 time point, the concentration of tyrl_e is 0.6469024528351739 g/L or mM\n",
      "After 6 time point, the concentration of htl_e is 0.3760195606060888 g/L or mM\n",
      "After 7 time point, the concentration of tyrl_e is 0.6311545992817879 g/L or mM\n",
      "After 7 time point, the concentration of htl_e is 0.43284745164906674 g/L or mM\n",
      "After 8 time point, the concentration of tyrl_e is 0.6166464054034969 g/L or mM\n",
      "After 8 time point, the concentration of htl_e is 0.48829195435896755 g/L or mM\n",
      "After 9 time point, the concentration of tyrl_e is 0.6032802860846663 g/L or mM\n",
      "After 9 time point, the concentration of htl_e is 0.5424619680677314 g/L or mM\n",
      "After 10 time point, the concentration of tyrl_e is 0.5909663380395822 g/L or mM\n",
      "After 10 time point, the concentration of htl_e is 0.5954578196304304 g/L or mM\n"
     ]
    },
    {
     "data": {
      "text/plain": [
       "{0: {'growth_ratio': [3.8049058398976277, -380.49058259713127],\n",
       "  'CS_utilization': 0.3501070563943007},\n",
       " 1: {'growth_ratio': [0.054115267720776, -5.410839960565742],\n",
       "  'CS_utilization': 0.21009688661403642}}"
      ]
     },
     "execution_count": 7,
     "metadata": {},
     "output_type": "execute_result"
    }
   ],
   "source": [
    "#If you want to simulate the production with the unit of g/L, the real molar masses of exchange metabolites and carbon sources should be input, and the concentrations of exchange metabolites and carbon sources should be input with the unit of g/L\n",
    "#If you want to simulate the production with the unit of mM, the molar masses of exchange metabolites and carbon sources should be input with the same value, and the concentrations of exchange metabolites and carbon sources should be input with the unit of mM\n",
    "\n",
    "#model_list: the list of models calculated by the function of Get_Concretemodel_Need_Data\n",
    "#target_list: the double list consist of the list of target reactions of each model, where the first reaction of each target reaction list is biomass biosynthesis reaction and the second is the reaction whose flux need to be maximized or minimized\n",
    "#growth_list: the list of minimize growth rates in the function of MDF_Calculation\n",
    "#growth_ratio: the list of ratios of lower bounds of growth rates to maximum growth rates\n",
    "#parameter_list: the list of the total number of enzyme ratios, the upper bounds for substrate input reaction fluxes and the maximum values minus the minimum values of reaction thermodynamic driving forces\n",
    "#substrate_environment: the list of the carbon source uptake reactions and the initial carbon source concentrations in environment\n",
    "#metabolites_monitored: the list of metabolites delivered by the strains and the product\n",
    "#metabolites_mass: the dictionary whose keys are the metabolites in metabolites_monitored and values are the molar masses of the metabolites\n",
    "#concentrations_initial: the dictionary whose keys are the metabolites in metabolites_monitored and values are the initial concentrations of the metabolites in environment\n",
    "#reactions_monitored: the list of dictionaries whose keys are the reactions of the metabolite uptake or release in metabolites_monitored and values are the ratios of lower bounds of the reaction fluxes to the max reaction fluxes\n",
    "#substrate_mass: the list of the molar masses of the carbon sources\n",
    "#t: the number of the time points for mono-cultivation\n",
    "#culture_condition: the list of the inoculum ratio of the straints and time points for co-cultivation\n",
    "#target_metabolite: the product id in the metabolic network \n",
    "#map_coefficient: the list of mapping constants of the instantaneous fluxes corresponding to the mean fluxes for the mono strains\n",
    "#constraints: the constraints used in the simulation, where 'kinetics and thermodynamics' consist of FBA, kinetic and thermodynamic constraints, 'kinetics' consist of FBA and kinetic constraints, 'thermodynamics' consist of FBA and thermodynamic constraints and 'FBA' consist of FBA constraint\n",
    "\n",
    "model_list=[model0, model1]\n",
    "target_list=[['BIOMASS_Ec_iML1515_core_75p37M', 'EX_tyrl_e'], ['BIOMASS_Ec_iML1515_core_75p37M', 'EX_htl_e']]\n",
    "growth_list=[0.001, 0.001]\n",
    "growth_ratio=[0.9995, 0.9901]\n",
    "parameter_list=[[0.19, 10, 1249], [0.19, 10, 1249]]\n",
    "substrate_environment=[['EX_glc__D_e_reverse',20],['EX_glc__D_e_reverse',20]]\n",
    "metabolites_monitored=['tyrl_e', 'htl_e']\n",
    "metabolites_mass={'tyrl_e': 138, 'htl_e': 154}\n",
    "concentrations_initial={'tyrl_e': 0.7728, 'htl_e': 0}\n",
    "reactions_monitored=[{'EX_tyrl_e': 0}, {'EX_tyrl_e_reverse': 0, 'EX_htl_e': 0}]\n",
    "substrate_mass=[180,180]\n",
    "t=20\n",
    "culture_condition=[[5/8, 3/8], 10]\n",
    "target_metabolite = 'htl_e'\n",
    "map_coefficient = [10/6.5, 10/6]\n",
    "constraints='thermodynamics'\n",
    "\n",
    "strategy_pyf(model_list, target_list, growth_list, growth_ratio, parameter_list, substrate_environment,  metabolites_monitored, metabolites_mass, concentrations_initial, reactions_monitored, substrate_mass, t, culture_condition, target_metabolite, map_coefficient, constraints)"
   ]
  },
  {
   "cell_type": "code",
   "execution_count": null,
   "id": "11efe946",
   "metadata": {},
   "outputs": [],
   "source": []
  }
 ],
 "metadata": {
  "kernelspec": {
   "display_name": "enzyme",
   "language": "python",
   "name": "enzyme"
  },
  "language_info": {
   "codemirror_mode": {
    "name": "ipython",
    "version": 3
   },
   "file_extension": ".py",
   "mimetype": "text/x-python",
   "name": "python",
   "nbconvert_exporter": "python",
   "pygments_lexer": "ipython3",
   "version": "3.6.5"
  }
 },
 "nbformat": 4,
 "nbformat_minor": 5
}
